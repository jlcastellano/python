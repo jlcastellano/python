{
 "cells": [
  {
   "cell_type": "markdown",
   "metadata": {},
   "source": [
    "# Tema02: Estructuras de Control - Condicionales\n"
   ]
  },
  {
   "cell_type": "markdown",
   "metadata": {},
   "source": [
    "## 1. ¿Qué son las Estructuras de Control?\n",
    "\n",
    "Las **estructuras de control** permiten que el programa tome decisiones y ejecute diferentes bloques de código según las condiciones.\n",
    "\n",
    "En la vida real constantemente tomamos decisiones:\n",
    "- **SI** llueve, **ENTONCES** llevo paraguas\n",
    "- **SI** tengo dinero, **ENTONCES** compro el producto, **SI NO** lo dejo para después\n",
    "- **SI** es fin de semana, descanso, **SI NO SI** es festivo, también descanso, **SI NO** trabajo\n",
    "\n",
    "En Python, usamos las palabras clave: `if`, `elif` (else if), `else`"
   ]
  },
  {
   "cell_type": "markdown",
   "metadata": {},
   "source": [
    "## 2. La Estructura if - La Condicional Básica\n",
    "\n",
    "La estructura más simple ejecuta código solo **si** se cumple una condición.\n",
    "\n",
    "**Sintaxis:**\n",
    "```python\n",
    "if condicion:\n",
    "    # código que se ejecuta si la condición es True\n",
    "    instruccion1\n",
    "    instruccion2\n",
    "```\n",
    "\n",
    "**⚠️ Importante:**\n",
    "- Después del `if` va la condición seguida de dos puntos `:` \n",
    "- El código dentro del if debe estar **indentado** (sangrado) con 4 espacios o 1 tabulación\n",
    "- La indentación es obligatoria en Python"
   ]
  },
  {
   "cell_type": "code",
   "execution_count": null,
   "metadata": {},
   "outputs": [],
   "source": [
    "# Ejemplo básico\n",
    "edad = 20\n",
    "\n",
    "if edad >= 18:\n",
    "    print(\"Eres mayor de edad\")\n",
    "    print(\"Puedes votar\")\n",
    "\n",
    "print(\"Este mensaje siempre se muestra\")"
   ]
  },
  {
   "cell_type": "code",
   "execution_count": null,
   "metadata": {},
   "outputs": [],
   "source": [
    "# Ejemplo con input\n",
    "temperatura = float(input(\"¿Qué temperatura hace? \"))\n",
    "\n",
    "if temperatura > 30:\n",
    "    print(\"Hace calor, lleva agua\")\n",
    "\n",
    "if temperatura < 10:\n",
    "    print(\"Hace frío, lleva abrigo\")"
   ]
  },
  {
   "cell_type": "code",
   "execution_count": null,
   "metadata": {},
   "outputs": [],
   "source": [
    "# Ejemplo: Verificar si un número es positivo\n",
    "numero = int(input(\"Introduce un número: \"))\n",
    "\n",
    "if numero > 0:\n",
    "    print(\"El número\", numero, \"es positivo\")"
   ]
  },
  {
   "cell_type": "markdown",
   "metadata": {},
   "source": [
    "## 3. La Estructura if-else - Dos Caminos\n",
    "\n",
    "Cuando queremos hacer algo **si se cumple** la condición y **otra cosa si no se cumple**.\n",
    "\n",
    "**Sintaxis:**\n",
    "```python\n",
    "if condicion:\n",
    "    # código si la condición es True\n",
    "else:\n",
    "    # código si la condición es False\n",
    "```"
   ]
  },
  {
   "cell_type": "code",
   "execution_count": null,
   "metadata": {},
   "outputs": [],
   "source": [
    "# Ejemplo: Verificar si aprobaste\n",
    "nota = float(input(\"¿Qué nota sacaste? \"))\n",
    "\n",
    "if nota >= 5:\n",
    "    print(\"¡Aprobaste! 🎉\")\n",
    "else:\n",
    "    print(\"No aprobaste 😞\")"
   ]
  },
  {
   "cell_type": "code",
   "execution_count": null,
   "metadata": {},
   "outputs": [],
   "source": [
    "# Ejemplo: Número par o impar\n",
    "numero = int(input(\"Introduce un número: \"))\n",
    "\n",
    "if numero % 2 == 0:\n",
    "    print(numero, \"es par\")\n",
    "else:\n",
    "    print(numero, \"es impar\")"
   ]
  },
  {
   "cell_type": "code",
   "execution_count": null,
   "metadata": {},
   "outputs": [],
   "source": [
    "# Ejemplo: Control de acceso\n",
    "edad = int(input(\"¿Cuántos años tienes? \"))\n",
    "\n",
    "if edad >= 18:\n",
    "    print(\"Acceso permitido\")\n",
    "    print(\"Bienvenido al sistema\")\n",
    "else:\n",
    "    print(\"Acceso denegado\")\n",
    "    print(\"Debes ser mayor de edad\")"
   ]
  },
  {
   "cell_type": "markdown",
   "metadata": {},
   "source": [
    "## 4. La Estructura if-elif-else - Múltiples Caminos\n",
    "\n",
    "Cuando tenemos **más de dos opciones** posibles.\n",
    "\n",
    "**Sintaxis:**\n",
    "```python\n",
    "if condicion1:\n",
    "    # código si condicion1 es True\n",
    "elif condicion2:\n",
    "    # código si condicion1 es False y condicion2 es True\n",
    "elif condicion3:\n",
    "    # código si anteriores son False y condicion3 es True\n",
    "else:\n",
    "    # código si todas las condiciones anteriores son False\n",
    "```\n",
    "\n",
    "**Nota:** `elif` es la abreviatura de \"else if\""
   ]
  },
  {
   "cell_type": "code",
   "execution_count": null,
   "metadata": {},
   "outputs": [],
   "source": [
    "# Ejemplo: Calificación según la nota\n",
    "nota = float(input(\"Introduce tu nota (0-10): \"))\n",
    "\n",
    "if nota >= 9:\n",
    "    print(\"Sobresaliente\")\n",
    "elif nota >= 7:\n",
    "    print(\"Notable\")\n",
    "elif nota >= 6:\n",
    "    print(\"Bien\")\n",
    "elif nota >= 5:\n",
    "    print(\"Suficiente\")\n",
    "else:\n",
    "    print(\"Insuficiente\")"
   ]
  },
  {
   "cell_type": "markdown",
   "metadata": {},
   "source": [
    "## Usando match (como switch)"
   ]
  },
  {
   "cell_type": "code",
   "execution_count": null,
   "metadata": {},
   "outputs": [],
   "source": [
    "valor = int(input(\"Dame un valor\"))\n",
    "\n",
    "match valor:\n",
    "    case 0:\n",
    "        print(\"Es cero\")\n",
    "    case 1 | 2:  # múltiples valores\n",
    "        print(\"Es uno o dos\")\n",
    "    case _:  # caso por defecto (como default en switch)\n",
    "        print(\"No coincide con ningún patrón\")\n"
   ]
  },
  {
   "cell_type": "code",
   "execution_count": null,
   "metadata": {},
   "outputs": [],
   "source": [
    "# Ejemplo: Clasificación de edades\n",
    "edad = int(input(\"¿Cuántos años tienes? \"))\n",
    "\n",
    "if edad < 0:\n",
    "    print(\"Edad inválida\")\n",
    "elif edad < 12:\n",
    "    print(\"Eres un niño\")\n",
    "elif edad < 18:\n",
    "    print(\"Eres un adolescente\")\n",
    "elif edad < 65:\n",
    "    print(\"Eres un adulto\")\n",
    "else:\n",
    "    print(\"Eres un adulto mayor\")"
   ]
  },
  {
   "cell_type": "code",
   "execution_count": null,
   "metadata": {},
   "outputs": [],
   "source": [
    "# Ejemplo: Menú de opciones\n",
    "print(\"=== MENÚ ===\")\n",
    "print(\"1. Nuevo archivo\")\n",
    "print(\"2. Abrir archivo\")\n",
    "print(\"3. Guardar archivo\")\n",
    "print(\"4. Salir\")\n",
    "\n",
    "opcion = int(input(\"Elige una opción: \"))\n",
    "\n",
    "if opcion == 1:\n",
    "    print(\"Creando nuevo archivo...\")\n",
    "elif opcion == 2:\n",
    "    print(\"Abriendo archivo...\")\n",
    "elif opcion == 3:\n",
    "    print(\"Guardando archivo...\")\n",
    "elif opcion == 4:\n",
    "    print(\"Saliendo...\")\n",
    "else:\n",
    "    print(\"Opción no válida\")"
   ]
  },
  {
   "cell_type": "markdown",
   "metadata": {},
   "source": [
    "## 5. Condiciones Compuestas con Operadores Lógicos\n",
    "\n",
    "Podemos combinar múltiples condiciones usando `and`, `or`, `not`"
   ]
  },
  {
   "cell_type": "code",
   "execution_count": null,
   "metadata": {},
   "outputs": [],
   "source": [
    "# Ejemplo con AND - Ambas condiciones deben cumplirse\n",
    "edad = int(input(\"¿Cuántos años tienes? \"))\n",
    "tiene_carnet = input(\"¿Tienes carnet de conducir? (si/no): \").lower()\n",
    "\n",
    "if edad >= 18 and tiene_carnet == \"si\":\n",
    "    print(\"Puedes conducir\")\n",
    "else:\n",
    "    print(\"No puedes conducir\")"
   ]
  },
  {
   "cell_type": "code",
   "execution_count": null,
   "metadata": {},
   "outputs": [],
   "source": [
    "# Ejemplo con OR - Al menos una condición debe cumplirse\n",
    "dia = input(\"¿Qué día es hoy? \").lower()\n",
    "\n",
    "if dia == \"sábado\" or dia == \"domingo\":\n",
    "    print(\"Es fin de semana, ¡a descansar!\")\n",
    "else:\n",
    "    print(\"Es día laboral\")"
   ]
  },
  {
   "cell_type": "code",
   "execution_count": null,
   "metadata": {},
   "outputs": [],
   "source": [
    "# Ejemplo con NOT - Invierte la condición\n",
    "llueve = input(\"¿Está lloviendo? (si/no): \").lower()\n",
    "\n",
    "if not llueve == \"si\":\n",
    "    print(\"No necesitas paraguas\")\n",
    "else:\n",
    "    print(\"Lleva paraguas\")"
   ]
  },
  {
   "cell_type": "code",
   "execution_count": null,
   "metadata": {},
   "outputs": [],
   "source": [
    "# Ejemplo combinado: Descuento en tienda\n",
    "es_estudiante = input(\"¿Eres estudiante? (si/no): \").lower()\n",
    "edad = int(input(\"¿Cuántos años tienes? \"))\n",
    "total_compra = float(input(\"Total de la compra: \"))\n",
    "\n",
    "# Descuento si es estudiante O mayor de 65 O compra más de 100€\n",
    "if es_estudiante == \"si\" or edad > 65 or total_compra > 100:\n",
    "    descuento = total_compra * 0.10\n",
    "    total_final = total_compra - descuento\n",
    "    print(f\"Tienes un descuento de {descuento}€\")\n",
    "    print(f\"Total a pagar: {total_final}€\")\n",
    "else:\n",
    "    print(f\"Total a pagar: {total_compra}€\")"
   ]
  },
  {
   "cell_type": "markdown",
   "metadata": {},
   "source": [
    "## 6. Verificación de Rangos\n",
    "\n",
    "Podemos verificar si un valor está dentro de un rango usando operadores de comparación combinados."
   ]
  },
  {
   "cell_type": "code",
   "execution_count": null,
   "metadata": {},
   "outputs": [],
   "source": [
    "# Verificar si un número está en un rango\n",
    "numero = int(input(\"Introduce un número del 1 al 10: \"))\n",
    "\n",
    "if 1 <= numero <= 10:\n",
    "    print(\"Número válido\")\n",
    "else:\n",
    "    print(\"Número fuera de rango\")"
   ]
  },
  {
   "cell_type": "code",
   "execution_count": null,
   "metadata": {},
   "outputs": [],
   "source": [
    "# Clasificar temperatura\n",
    "temperatura = float(input(\"Temperatura actual: \"))\n",
    "\n",
    "if temperatura < 0:\n",
    "    print(\"Congelación\")\n",
    "elif 0 <= temperatura < 15:\n",
    "    print(\"Frío\")\n",
    "elif 15 <= temperatura < 25:\n",
    "    print(\"Templado\")\n",
    "elif 25 <= temperatura < 35:\n",
    "    print(\"Calor\")\n",
    "else:\n",
    "    print(\"Calor extremo\")"
   ]
  },
  {
   "cell_type": "code",
   "execution_count": null,
   "metadata": {},
   "outputs": [],
   "source": [
    "# Verificar hora del día\n",
    "hora = int(input(\"¿Qué hora es? (0-23): \"))\n",
    "\n",
    "if 0 <= hora < 6:\n",
    "    print(\"Madrugada\")\n",
    "elif 6 <= hora < 12:\n",
    "    print(\"Mañana\")\n",
    "elif 12 <= hora < 20:\n",
    "    print(\"Tarde\")\n",
    "elif 20 <= hora < 24:\n",
    "    print(\"Noche\")\n",
    "else:\n",
    "    print(\"Hora inválida\")"
   ]
  },
  {
   "cell_type": "markdown",
   "metadata": {},
   "source": [
    "## 7. Condicionales Anidados\n",
    "\n",
    "Podemos poner un `if` dentro de otro `if` para verificar condiciones más complejas.\n",
    "\n",
    "**⚠️ Cuidado:** Cada nivel de anidación añade 4 espacios más de indentación."
   ]
  },
  {
   "cell_type": "code",
   "execution_count": null,
   "metadata": {},
   "outputs": [],
   "source": [
    "# Ejemplo: Acceso a una atracción\n",
    "edad = int(input(\"¿Cuántos años tienes? \"))\n",
    "\n",
    "if edad >= 12:\n",
    "    altura = float(input(\"¿Cuánto mides (en metros)? \"))\n",
    "    \n",
    "    if altura >= 1.40:\n",
    "        print(\"Puedes subir a la atracción\")\n",
    "    else:\n",
    "        print(\"No tienes la altura mínima (1.40m)\")\n",
    "else:\n",
    "    print(\"Eres menor de 12 años, no puedes subir\")"
   ]
  },
  {
   "cell_type": "code",
   "execution_count": null,
   "metadata": {},
   "outputs": [],
   "source": [
    "# Ejemplo: Sistema de login\n",
    "usuario_correcto = \"admin\"\n",
    "password_correcto = \"1234\"\n",
    "\n",
    "usuario = input(\"Usuario: \")\n",
    "\n",
    "if usuario == usuario_correcto:\n",
    "    password = input(\"Contraseña: \")\n",
    "    \n",
    "    if password == password_correcto:\n",
    "        print(\"Acceso concedido\")\n",
    "        print(\"Bienvenido al sistema\")\n",
    "    else:\n",
    "        print(\"Contraseña incorrecta\")\n",
    "else:\n",
    "    print(\"Usuario no encontrado\")"
   ]
  },
  {
   "cell_type": "code",
   "execution_count": null,
   "metadata": {},
   "outputs": [],
   "source": [
    "# Ejemplo: Clasificación de números\n",
    "numero = int(input(\"Introduce un número: \"))\n",
    "\n",
    "if numero >= 0:\n",
    "    if numero == 0:\n",
    "        print(\"El número es cero\")\n",
    "    else:\n",
    "        print(\"El número es positivo\")\n",
    "        \n",
    "        if numero % 2 == 0:\n",
    "            print(\"y además es par\")\n",
    "        else:\n",
    "            print(\"y además es impar\")\n",
    "else:\n",
    "    print(\"El número es negativo\")"
   ]
  },
  {
   "cell_type": "markdown",
   "metadata": {},
   "source": [
    "## 8. Operador Ternario (Condicional en una Línea)\n",
    "\n",
    "Python permite escribir un if-else simple en una sola línea.\n",
    "\n",
    "**Sintaxis:**\n",
    "```python\n",
    "variable = valor_si_true if condicion else valor_si_false\n",
    "```"
   ]
  },
  {
   "cell_type": "code",
   "execution_count": null,
   "metadata": {},
   "outputs": [],
   "source": [
    "# Ejemplo básico\n",
    "edad = 20\n",
    "mensaje = \"Mayor de edad\" if edad >= 18 else \"Menor de edad\"\n",
    "print(mensaje)"
   ]
  },
  {
   "cell_type": "code",
   "execution_count": null,
   "metadata": {},
   "outputs": [],
   "source": [
    "# Comparación con if-else tradicional\n",
    "nota = 7\n",
    "\n",
    "# Forma tradicional\n",
    "if nota >= 5:\n",
    "    resultado = \"Aprobado\"\n",
    "else:\n",
    "    resultado = \"Suspendido\"\n",
    "print(\"Forma tradicional:\", resultado)\n",
    "\n",
    "# Forma ternaria (una línea)\n",
    "resultado = \"Aprobado\" if nota >= 5 else \"Suspendido\"\n",
    "print(\"Forma ternaria:\", resultado)"
   ]
  },
  {
   "cell_type": "code",
   "execution_count": null,
   "metadata": {},
   "outputs": [],
   "source": [
    "# Ejemplo práctico: Determinar el máximo\n",
    "a = 15\n",
    "b = 20\n",
    "\n",
    "maximo = a if a > b else b\n",
    "print(\"El máximo es:\", maximo)"
   ]
  },
  {
   "cell_type": "markdown",
   "metadata": {},
   "source": [
    "## 9. Ejemplos Prácticos Completos"
   ]
  },
  {
   "cell_type": "code",
   "execution_count": null,
   "metadata": {},
   "outputs": [],
   "source": [
    "# Ejemplo 1: Calculadora de IMC con clasificación\n",
    "print(\"=== CALCULADORA DE IMC ===\")\n",
    "\n",
    "peso = float(input(\"Peso en kg: \"))\n",
    "altura = float(input(\"Altura en metros: \"))\n",
    "\n",
    "imc = peso / (altura ** 2)\n",
    "print(f\"Tu IMC es: {imc:.2f}\")\n",
    "\n",
    "if imc < 18.5:\n",
    "    print(\"Clasificación: Bajo peso\")\n",
    "elif 18.5 <= imc < 25:\n",
    "    print(\"Clasificación: Peso normal\")\n",
    "elif 25 <= imc < 30:\n",
    "    print(\"Clasificación: Sobrepeso\")\n",
    "else:\n",
    "    print(\"Clasificación: Obesidad\")"
   ]
  },
  {
   "cell_type": "code",
   "execution_count": null,
   "metadata": {},
   "outputs": [],
   "source": [
    "# Ejemplo 2: Sistema de descuentos\n",
    "print(\"=== SISTEMA DE DESCUENTOS ===\")\n",
    "\n",
    "total = float(input(\"Total de la compra: \"))\n",
    "es_socio = input(\"¿Eres socio? (si/no): \").lower()\n",
    "\n",
    "descuento = 0\n",
    "\n",
    "if es_socio == \"si\":\n",
    "    if total >= 100:\n",
    "        descuento = 0.20  # 20% para socios con compra >= 100\n",
    "    else:\n",
    "        descuento = 0.10  # 10% para socios con compra < 100\n",
    "else:\n",
    "    if total >= 150:\n",
    "        descuento = 0.10  # 10% para no socios con compra >= 150\n",
    "\n",
    "if descuento > 0:\n",
    "    ahorro = total * descuento\n",
    "    total_final = total - ahorro\n",
    "    print(f\"Descuento aplicado: {descuento*100}%\")\n",
    "    print(f\"Ahorras: {ahorro:.2f}€\")\n",
    "    print(f\"Total a pagar: {total_final:.2f}€\")\n",
    "else:\n",
    "    print(\"No hay descuento aplicable\")\n",
    "    print(f\"Total a pagar: {total:.2f}€\")"
   ]
  },
  {
   "cell_type": "code",
   "execution_count": null,
   "metadata": {},
   "outputs": [],
   "source": [
    "# Ejemplo 3: Juego de adivinar el número\n",
    "print(\"=== ADIVINA EL NÚMERO ===\")\n",
    "print(\"Estoy pensando en un número del 1 al 10\")\n",
    "\n",
    "numero_secreto = 7  # En una versión más avanzada usaríamos random\n",
    "intento = int(input(\"¿Qué número crees que es? \"))\n",
    "\n",
    "if intento == numero_secreto:\n",
    "    print(\"¡Correcto! ¡Has adivinado!\")\n",
    "elif intento < numero_secreto:\n",
    "    print(\"El número es mayor\")\n",
    "else:\n",
    "    print(\"El número es menor\")"
   ]
  }
 ],
 "metadata": {
  "kernelspec": {
   "display_name": "Python 3",
   "language": "python",
   "name": "python3"
  },
  "language_info": {
   "codemirror_mode": {
    "name": "ipython",
    "version": 3
   },
   "file_extension": ".py",
   "mimetype": "text/x-python",
   "name": "python",
   "nbconvert_exporter": "python",
   "pygments_lexer": "ipython3",
   "version": "3.10.11"
  }
 },
 "nbformat": 4,
 "nbformat_minor": 4
}
