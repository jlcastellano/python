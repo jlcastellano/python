{
 "cells": [
  {
   "cell_type": "markdown",
   "metadata": {},
   "source": [
    "# Tema 02: Ejercicios Prácticos\n",
    "## Estructuras de Control\n",
    "\n",
    "**Nivel de dificultad:**\n",
    "- 🟢 Básico\n",
    "- 🟡 Intermedio\n",
    "- 🔴 Avanzado"
   ]
  },
  {
   "cell_type": "markdown",
   "metadata": {},
   "source": [
    "---\n",
    "## Bloque 1: Condicionales Básicos (if)"
   ]
  },
  {
   "cell_type": "markdown",
   "metadata": {},
   "source": [
    "### Ejercicio 1: Número Positivo 🟢\n",
    "\n",
    "Pide un número al usuario. Si es positivo (mayor que 0), muestra \"El número es positivo\".\n",
    "\n",
    "**Ejemplo:**\n",
    "```\n",
    "Introduce un número: 5\n",
    "El número es positivo\n",
    "```"
   ]
  },
  {
   "cell_type": "code",
   "execution_count": null,
   "metadata": {},
   "outputs": [],
   "source": [
    "# Escribe tu código aquí\n"
   ]
  },
  {
   "cell_type": "markdown",
   "metadata": {},
   "source": [
    "### Ejercicio 2: Control de Velocidad 🟢\n",
    "\n",
    "Pide la velocidad de un vehículo. Si supera los 120 km/h, muestra \"Estás excediendo el límite de velocidad\".\n",
    "\n",
    "**Ejemplo:**\n",
    "```\n",
    "Velocidad actual: 130\n",
    "Estás excediendo el límite de velocidad\n",
    "```"
   ]
  },
  {
   "cell_type": "code",
   "execution_count": null,
   "metadata": {},
   "outputs": [],
   "source": [
    "# Escribe tu código aquí\n"
   ]
  },
  {
   "cell_type": "markdown",
   "metadata": {},
   "source": [
    "### Ejercicio 3: Descuento por Compra 🟢\n",
    "\n",
    "Pide el total de una compra. Si es mayor o igual a 50€, muestra \"Tienes descuento del 10%\" y calcula el total con descuento.\n",
    "\n",
    "**Ejemplo:**\n",
    "```\n",
    "Total de la compra: 60\n",
    "Tienes descuento del 10%\n",
    "Total con descuento: 54.0€\n",
    "```"
   ]
  },
  {
   "cell_type": "code",
   "execution_count": null,
   "metadata": {},
   "outputs": [],
   "source": [
    "# Escribe tu código aquí\n"
   ]
  },
  {
   "cell_type": "markdown",
   "metadata": {},
   "source": [
    "---\n",
    "## Bloque 2: Condicionales if-else"
   ]
  },
  {
   "cell_type": "markdown",
   "metadata": {},
   "source": [
    "### Ejercicio 4: Par o Impar 🟢\n",
    "\n",
    "Pide un número al usuario y determina si es par o impar.\n",
    "\n",
    "**Pista:** Un número es par si el resto de dividirlo entre 2 es 0 (usa el operador `%`)\n",
    "\n",
    "**Ejemplo:**\n",
    "```\n",
    "Introduce un número: 7\n",
    "El número 7 es impar\n",
    "```"
   ]
  },
  {
   "cell_type": "code",
   "execution_count": null,
   "metadata": {},
   "outputs": [],
   "source": [
    "# Escribe tu código aquí\n"
   ]
  },
  {
   "cell_type": "markdown",
   "metadata": {},
   "source": [
    "### Ejercicio 5: Mayor de Edad 🟢\n",
    "\n",
    "Pide la edad del usuario y muestra si es mayor o menor de edad.\n",
    "\n",
    "**Ejemplo:**\n",
    "```\n",
    "¿Cuántos años tienes? 16\n",
    "Eres menor de edad\n",
    "```"
   ]
  },
  {
   "cell_type": "code",
   "execution_count": null,
   "metadata": {},
   "outputs": [],
   "source": [
    "# Escribe tu código aquí\n"
   ]
  },
  {
   "cell_type": "markdown",
   "metadata": {},
   "source": [
    "### Ejercicio 6: Contraseña Secreta 🟢\n",
    "\n",
    "Define una contraseña secreta en una variable. Pide al usuario que introduzca la contraseña y verifica si es correcta.\n",
    "\n",
    "**Ejemplo:**\n",
    "```\n",
    "Introduce la contraseña: python123\n",
    "Acceso concedido\n",
    "```\n",
    "o\n",
    "```\n",
    "Introduce la contraseña: 1234\n",
    "Contraseña incorrecta\n",
    "```"
   ]
  },
  {
   "cell_type": "code",
   "execution_count": null,
   "metadata": {},
   "outputs": [],
   "source": [
    "# Escribe tu código aquí\n",
    "password_correcta = \"python123\"\n",
    "\n"
   ]
  },
  {
   "cell_type": "markdown",
   "metadata": {},
   "source": [
    "### Ejercicio 7: Positivo o Negativo 🟢\n",
    "\n",
    "Pide un número y determina si es positivo o negativo. Si es 0, muestra \"El número es cero\".\n",
    "\n",
    "**Ejemplo:**\n",
    "```\n",
    "Introduce un número: -5\n",
    "El número es negativo\n",
    "```"
   ]
  },
  {
   "cell_type": "code",
   "execution_count": null,
   "metadata": {},
   "outputs": [],
   "source": [
    "# Escribe tu código aquí\n"
   ]
  },
  {
   "cell_type": "markdown",
   "metadata": {},
   "source": [
    "---\n",
    "## Bloque 3: Condicionales if-elif-else"
   ]
  },
  {
   "cell_type": "markdown",
   "metadata": {},
   "source": [
    "### Ejercicio 8: Clasificación de Notas 🟡\n",
    "\n",
    "Pide una nota (0-10) y muestra la calificación según:\n",
    "- 9-10: Sobresaliente\n",
    "- 7-8: Notable\n",
    "- 6: Bien\n",
    "- 5: Suficiente\n",
    "- 0-4: Insuficiente\n",
    "\n",
    "**Ejemplo:**\n",
    "```\n",
    "Introduce tu nota: 8.5\n",
    "Notable\n",
    "```"
   ]
  },
  {
   "cell_type": "code",
   "execution_count": null,
   "metadata": {},
   "outputs": [],
   "source": [
    "# Escribe tu código aquí\n"
   ]
  },
  {
   "cell_type": "markdown",
   "metadata": {},
   "source": [
    "### Ejercicio 9: Día de la Semana 🟡\n",
    "\n",
    "Pide un número del 1 al 7 y muestra el día de la semana correspondiente:\n",
    "- 1: Lunes\n",
    "- 2: Martes\n",
    "- ...\n",
    "- 7: Domingo\n",
    "\n",
    "Si el número no está entre 1 y 7, muestra \"Número inválido\".\n",
    "\n",
    "**Ejemplo:**\n",
    "```\n",
    "Introduce un número (1-7): 3\n",
    "Miércoles\n",
    "```"
   ]
  },
  {
   "cell_type": "code",
   "execution_count": null,
   "metadata": {},
   "outputs": [],
   "source": [
    "# Escribe tu código aquí\n"
   ]
  },
  {
   "cell_type": "markdown",
   "metadata": {},
   "source": [
    "### Ejercicio 10: Calculadora Simple 🟡\n",
    "\n",
    "Pide dos números y una operación (+, -, *, /). Realiza la operación y muestra el resultado.\n",
    "\n",
    "**Ejemplo:**\n",
    "```\n",
    "Primer número: 10\n",
    "Segundo número: 5\n",
    "Operación (+, -, *, /): *\n",
    "Resultado: 10 * 5 = 50\n",
    "```"
   ]
  },
  {
   "cell_type": "code",
   "execution_count": null,
   "metadata": {},
   "outputs": [],
   "source": [
    "# Escribe tu código aquí\n"
   ]
  },
  {
   "cell_type": "markdown",
   "metadata": {},
   "source": [
    "### Ejercicio 11: Estaciones del Año 🟡\n",
    "\n",
    "Pide un número de mes (1-12) y muestra la estación correspondiente:\n",
    "- 12, 1, 2: Invierno\n",
    "- 3, 4, 5: Primavera\n",
    "- 6, 7, 8: Verano\n",
    "- 9, 10, 11: Otoño\n",
    "\n",
    "**Ejemplo:**\n",
    "```\n",
    "Introduce el mes (1-12): 7\n",
    "Verano\n",
    "```"
   ]
  },
  {
   "cell_type": "code",
   "execution_count": null,
   "metadata": {},
   "outputs": [],
   "source": [
    "# Escribe tu código aquí\n"
   ]
  },
  {
   "cell_type": "markdown",
   "metadata": {},
   "source": [
    "---\n",
    "## Bloque 4: Condiciones Compuestas"
   ]
  },
  {
   "cell_type": "markdown",
   "metadata": {},
   "source": [
    "### Ejercicio 12: Acceso al Cine 🟡\n",
    "\n",
    "Para entrar al cine necesitas:\n",
    "- Tener 13 años o más\n",
    "- Tener entrada\n",
    "\n",
    "Pide la edad y si tiene entrada (si/no). Determina si puede entrar.\n",
    "\n",
    "**Ejemplo:**\n",
    "```\n",
    "¿Cuántos años tienes? 15\n",
    "¿Tienes entrada? (si/no): si\n",
    "Puedes entrar al cine\n",
    "```"
   ]
  },
  {
   "cell_type": "code",
   "execution_count": null,
   "metadata": {},
   "outputs": [],
   "source": [
    "# Escribe tu código aquí\n"
   ]
  },
  {
   "cell_type": "markdown",
   "metadata": {},
   "source": [
    "### Ejercicio 13: Triángulo Válido 🔴\n",
    "\n",
    "Pide tres longitudes de lados. Un triángulo es válido si la suma de dos lados cualesquiera es mayor que el tercer lado.\n",
    "\n",
    "Verifica las tres condiciones:\n",
    "- a + b > c\n",
    "- a + c > b\n",
    "- b + c > a\n",
    "\n",
    "**Ejemplo:**\n",
    "```\n",
    "Lado 1: 3\n",
    "Lado 2: 4\n",
    "Lado 3: 5\n",
    "Es un triángulo válido\n",
    "```"
   ]
  },
  {
   "cell_type": "code",
   "execution_count": null,
   "metadata": {},
   "outputs": [],
   "source": [
    "# Escribe tu código aquí\n"
   ]
  },
  {
   "cell_type": "markdown",
   "metadata": {},
   "source": [
    "### Ejercicio 14: Año Bisiesto 🔴\n",
    "\n",
    "Un año es bisiesto si:\n",
    "- Es divisible entre 4 Y\n",
    "- NO es divisible entre 100, a menos que también sea divisible entre 400\n",
    "\n",
    "Pide un año y determina si es bisiesto.\n",
    "\n",
    "**Ejemplos de años bisiestos:** 2000, 2004, 2008, 2012, 2016, 2020  \n",
    "**Ejemplos de años NO bisiestos:** 1900, 2001, 2100\n",
    "\n",
    "**Pista:** `(año % 4 == 0 and año % 100 != 0) or (año % 400 == 0)`"
   ]
  },
  {
   "cell_type": "code",
   "execution_count": null,
   "metadata": {},
   "outputs": [],
   "source": [
    "# Escribe tu código aquí\n"
   ]
  },
  {
   "cell_type": "markdown",
   "metadata": {},
   "source": [
    "---\n",
    "## Bloque 5: Condicionales Anidados"
   ]
  },
  {
   "cell_type": "markdown",
   "metadata": {},
   "source": [
    "### Ejercicio 15: Precio de Entrada al Parque 🟡\n",
    "\n",
    "El precio de entrada a un parque depende de la edad:\n",
    "- Menores de 4 años: Gratis\n",
    "- De 4 a 12 años: 5€\n",
    "- De 13 a 64 años: 10€\n",
    "- 65 años o más: 7€\n",
    "\n",
    "Además, si es fin de semana (sábado o domingo), hay un recargo del 20%.\n",
    "\n",
    "Pide la edad y el día de la semana, y calcula el precio final.\n",
    "\n",
    "**Ejemplo:**\n",
    "```\n",
    "¿Cuántos años tienes? 30\n",
    "¿Qué día es? (lunes, martes, etc.): sábado\n",
    "Precio base: 10€\n",
    "Recargo fin de semana: 2.0€\n",
    "Precio final: 12.0€\n",
    "```"
   ]
  },
  {
   "cell_type": "code",
   "execution_count": null,
   "metadata": {},
   "outputs": [],
   "source": [
    "# Escribe tu código aquí\n"
   ]
  },
  {
   "cell_type": "markdown",
   "metadata": {},
   "source": [
    "### Ejercicio 16: Sistema de Login 🟡\n",
    "\n",
    "Crea un sistema de login simple con:\n",
    "- Usuario correcto: \"admin\"\n",
    "- Contraseña correcta: \"1234\"\n",
    "\n",
    "Primero verifica el usuario. Si es correcto, pide la contraseña. Muestra mensajes apropiados en cada caso.\n",
    "\n",
    "**Ejemplo:**\n",
    "```\n",
    "Usuario: admin\n",
    "Contraseña: 1234\n",
    "¡Bienvenido al sistema!\n",
    "```"
   ]
  },
  {
   "cell_type": "code",
   "execution_count": null,
   "metadata": {},
   "outputs": [],
   "source": [
    "# Escribe tu código aquí\n"
   ]
  },
  {
   "cell_type": "markdown",
   "metadata": {},
   "source": [
    "### Ejercicio 17: Clasificación Completa de Números 🔴\n",
    "\n",
    "Pide un número y muestra:\n",
    "1. Si es positivo, negativo o cero\n",
    "2. Si es positivo, además indica si es par o impar\n",
    "3. Si es negativo, indica si es par o impar\n",
    "\n",
    "**Ejemplo 1:**\n",
    "```\n",
    "Introduce un número: 8\n",
    "El número es positivo\n",
    "El número es par\n",
    "```\n",
    "\n",
    "**Ejemplo 2:**\n",
    "```\n",
    "Introduce un número: -5\n",
    "El número es negativo\n",
    "El número es impar\n",
    "```"
   ]
  },
  {
   "cell_type": "code",
   "execution_count": null,
   "metadata": {},
   "outputs": [],
   "source": [
    "# Escribe tu código aquí\n"
   ]
  },
  {
   "cell_type": "markdown",
   "metadata": {},
   "source": [
    "---\n",
    "## Bloque 6: Ejercicios Integradores"
   ]
  },
  {
   "cell_type": "markdown",
   "metadata": {},
   "source": [
    "### Ejercicio 18: Calculadora de IMC Completa 🔴\n",
    "\n",
    "Crea un programa que:\n",
    "1. Pida peso (kg) y altura (m)\n",
    "2. Calcule el IMC\n",
    "3. Clasifique según:\n",
    "   - IMC < 18.5: Bajo peso\n",
    "   - 18.5 ≤ IMC < 25: Normal\n",
    "   - 25 ≤ IMC < 30: Sobrepeso\n",
    "   - IMC ≥ 30: Obesidad\n",
    "4. De recomendaciones según la clasificación\n",
    "\n",
    "**Ejemplo:**\n",
    "```\n",
    "Peso (kg): 70\n",
    "Altura (m): 1.75\n",
    "Tu IMC es: 22.86\n",
    "Clasificación: Normal\n",
    "Recomendación: Mantén tu peso actual con dieta equilibrada y ejercicio\n",
    "```"
   ]
  },
  {
   "cell_type": "code",
   "execution_count": null,
   "metadata": {},
   "outputs": [],
   "source": [
    "# Escribe tu código aquí\n"
   ]
  },
  {
   "cell_type": "markdown",
   "metadata": {},
   "source": [
    "### Ejercicio 19: Juego Piedra, Papel o Tijera 🔴\n",
    "\n",
    "Crea un juego donde:\n",
    "1. El jugador elige piedra, papel o tijera\n",
    "2. La computadora elige aleatoriamente (usa una variable fija por ahora)\n",
    "3. Determina el ganador según las reglas:\n",
    "   - Piedra vence a Tijera\n",
    "   - Tijera vence a Papel\n",
    "   - Papel vence a Piedra\n",
    "\n",
    "**Ejemplo:**\n",
    "```\n",
    "Elige (piedra/papel/tijera): papel\n",
    "Computadora eligió: piedra\n",
    "¡Ganaste! Papel vence a Piedra\n",
    "```"
   ]
  },
  {
   "cell_type": "code",
   "execution_count": null,
   "metadata": {},
   "outputs": [],
   "source": [
    "# Escribe tu código aquí\n",
    "# Por ahora, define la elección de la computadora como variable\n",
    "computadora = \"piedra\"  # Puedes cambiar esto para probar\n",
    "\n"
   ]
  },
  {
   "cell_type": "markdown",
   "metadata": {},
   "source": [
    "### Ejercicio 20: Sistema de Calificación de Restaurante 🔴\n",
    "\n",
    "Un restaurante califica sus servicios de 1 a 5 estrellas. Crea un programa que:\n",
    "1. Pida tres calificaciones: comida, servicio y ambiente (1-5 cada una)\n",
    "2. Calcule el promedio\n",
    "3. Muestre una clasificación:\n",
    "   - 4.5-5: Excelente\n",
    "   - 4-4.4: Muy bueno\n",
    "   - 3-3.9: Bueno\n",
    "   - 2-2.9: Regular\n",
    "   - 1-1.9: Malo\n",
    "4. De una recomendación específica\n",
    "\n",
    "**Ejemplo:**\n",
    "```\n",
    "Califica la comida (1-5): 5\n",
    "Califica el servicio (1-5): 4\n",
    "Califica el ambiente (1-5): 5\n",
    "Promedio: 4.67\n",
    "Clasificación: Excelente\n",
    "¡Altamente recomendado!\n",
    "```"
   ]
  },
  {
   "cell_type": "code",
   "execution_count": null,
   "metadata": {},
   "outputs": [],
   "source": [
    "# Escribe tu código aquí\n"
   ]
  },
  {
   "cell_type": "markdown",
   "metadata": {},
   "source": [
    "---\n",
    "## 🎯 Desafíos Extra (Opcional)"
   ]
  },
  {
   "cell_type": "markdown",
   "metadata": {},
   "source": [
    "### Desafío 1: Validador de Fecha 🔴\n",
    "\n",
    "Pide día, mes y año, y valida si la fecha es correcta considerando:\n",
    "- Meses con 31 días: 1, 3, 5, 7, 8, 10, 12\n",
    "- Meses con 30 días: 4, 6, 9, 11\n",
    "- Febrero: 28 días (29 si es bisiesto)\n",
    "\n",
    "**Ejemplo:**\n",
    "```\n",
    "Día: 31\n",
    "Mes: 4\n",
    "Año: 2025\n",
    "Fecha inválida (abril solo tiene 30 días)\n",
    "```"
   ]
  },
  {
   "cell_type": "code",
   "execution_count": null,
   "metadata": {},
   "outputs": [],
   "source": [
    "# Escribe tu código aquí\n"
   ]
  },
  {
   "cell_type": "markdown",
   "metadata": {},
   "source": [
    "### Desafío 2: Calculadora de Impuestos 🔴\n",
    "\n",
    "Crea un calculador de impuestos sobre la renta:\n",
    "- Hasta 12,450€: 0%\n",
    "- De 12,451€ a 20,200€: 19%\n",
    "- De 20,201€ a 35,200€: 24%\n",
    "- De 35,201€ a 60,000€: 30%\n",
    "- Más de 60,000€: 37%\n",
    "\n",
    "El impuesto se calcula por tramos (solo se aplica el porcentaje al exceso de cada tramo).\n",
    "\n",
    "**Ejemplo simplificado:**\n",
    "```\n",
    "Salario anual: 25000\n",
    "Primer tramo (0-12450): 0€ de impuestos\n",
    "Segundo tramo (12451-20200): 1472.5€ de impuestos\n",
    "Tercer tramo (20201-25000): 1152€ de impuestos\n",
    "Total impuestos: 2624.5€\n",
    "Salario neto: 22375.5€\n",
    "```"
   ]
  },
  {
   "cell_type": "code",
   "execution_count": null,
   "metadata": {},
   "outputs": [],
   "source": [
    "# Escribe tu código aquí\n"
   ]
  }
 ],
 "metadata": {
  "kernelspec": {
   "display_name": "Python 3",
   "language": "python",
   "name": "python3"
  },
  "language_info": {
   "codemirror_mode": {
    "name": "ipython",
    "version": 3
   },
   "file_extension": ".py",
   "mimetype": "text/x-python",
   "name": "python",
   "nbconvert_exporter": "python",
   "pygments_lexer": "ipython3",
   "version": "3.8.0"
  }
 },
 "nbformat": 4,
 "nbformat_minor": 4
}
