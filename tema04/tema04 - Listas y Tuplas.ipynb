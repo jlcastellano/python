{
 "cells": [
  {
   "cell_type": "markdown",
   "metadata": {},
   "source": [
    "# Tema 04: Listas y Tuplas\n"
   ]
  },
  {
   "cell_type": "markdown",
   "metadata": {},
   "source": [
    "## 1. ¿Qué son las Listas?\n",
    "\n",
    "Una **lista** es una colección **ordenada** y **modificable** de elementos.\n",
    "\n",
    "### Características de las listas:\n",
    "- Pueden contener elementos de **diferentes tipos** (números, cadenas, booleanos, etc.)\n",
    "- Los elementos están **ordenados** (tienen una posición específica)\n",
    "- Son **mutables** (se pueden modificar después de crearlas)\n",
    "- Permiten **elementos duplicados**\n",
    "- Se definen con **corchetes** `[]`\n",
    "\n",
    "### Sintaxis básica:\n",
    "```python\n",
    "nombre_lista = [elemento1, elemento2, elemento3, ...]\n",
    "```\n",
    "\n",
    "### En la vida real:\n",
    "- Lista de compras\n",
    "- Lista de estudiantes en una clase\n",
    "- Lista de reproducción de música\n",
    "- Registro de temperaturas diarias"
   ]
  },
  {
   "cell_type": "markdown",
   "metadata": {},
   "source": [
    "## 2. Crear Listas"
   ]
  },
  {
   "cell_type": "code",
   "execution_count": null,
   "metadata": {},
   "outputs": [],
   "source": [
    "# Lista vacía\n",
    "lista_vacia = []\n",
    "print(\"Lista vacía:\", lista_vacia)\n",
    "\n",
    "# Lista de números\n",
    "numeros = [1, 2, 3, 4, 5]\n",
    "print(\"Números:\", numeros)\n",
    "\n",
    "# Lista de cadenas\n",
    "frutas = [\"manzana\", \"banana\", \"naranja\", \"pera\"]\n",
    "print(\"Frutas:\", frutas)\n",
    "\n",
    "# Lista mixta (diferentes tipos)\n",
    "mixta = [\"Juan\", 25, True, 1.75, \"España\"]\n",
    "print(\"Lista mixta:\", mixta)\n",
    "\n",
    "# Lista con duplicados\n",
    "letras = [\"a\", \"b\", \"c\", \"a\", \"b\"]\n",
    "print(\"Letras:\", letras)"
   ]
  },
  {
   "cell_type": "code",
   "execution_count": null,
   "metadata": {},
   "outputs": [],
   "source": [
    "# Crear lista con list()\n",
    "lista_rango = list(range(1, 11))\n",
    "print(\"Del 1 al 10:\", lista_rango)\n",
    "\n",
    "# Crear lista desde una cadena\n",
    "palabra = \"Python\"\n",
    "letras = list(palabra)\n",
    "print(\"Letras de Python:\", letras)"
   ]
  },
  {
   "cell_type": "markdown",
   "metadata": {},
   "source": [
    "## 3. Acceder a Elementos de una Lista\n",
    "\n",
    "Cada elemento de una lista tiene un **índice** (posición) que comienza en **0**.\n",
    "\n",
    "### Índices positivos (de izquierda a derecha):\n",
    "```\n",
    "Lista:   [\"a\", \"b\", \"c\", \"d\", \"e\"]\n",
    "Índice:    0    1    2    3    4\n",
    "```\n",
    "\n",
    "### Índices negativos (de derecha a izquierda):\n",
    "```\n",
    "Lista:   [\"a\", \"b\", \"c\", \"d\", \"e\"]\n",
    "Índice:   -5   -4   -3   -2   -1\n",
    "```"
   ]
  },
  {
   "cell_type": "code",
   "execution_count": null,
   "metadata": {},
   "outputs": [],
   "source": [
    "# Acceder por índice\n",
    "frutas = [\"manzana\", \"banana\", \"naranja\", \"pera\", \"uva\"]\n",
    "\n",
    "print(\"Primera fruta:\", frutas[0])\n",
    "print(\"Segunda fruta:\", frutas[1])\n",
    "print(\"Última fruta:\", frutas[-1])\n",
    "print(\"Penúltima fruta:\", frutas[-2])"
   ]
  },
  {
   "cell_type": "code",
   "execution_count": null,
   "metadata": {},
   "outputs": [],
   "source": [
    "# ⚠️ Error común: índice fuera de rango\n",
    "numeros = [10, 20, 30]\n",
    "print(numeros[0])  # ✅ Correcto\n",
    "print(numeros[2])  # ✅ Correcto\n",
    "# print(numeros[3])  # ❌ Error: IndexError (no existe índice 3)"
   ]
  },
  {
   "cell_type": "markdown",
   "metadata": {},
   "source": [
    "## 4. Slicing - Extraer Sublistas\n",
    "\n",
    "El **slicing** permite extraer una porción de la lista.\n",
    "\n",
    "**Sintaxis:**\n",
    "```python\n",
    "lista[inicio:fin:paso]\n",
    "```\n",
    "\n",
    "- `inicio`: índice donde comienza (incluido)\n",
    "- `fin`: índice donde termina (NO incluido)\n",
    "- `paso`: cada cuántos elementos tomar (opcional, por defecto 1)"
   ]
  },
  {
   "cell_type": "code",
   "execution_count": null,
   "metadata": {},
   "outputs": [],
   "source": [
    "numeros = [0, 1, 2, 3, 4, 5, 6, 7, 8, 9]\n",
    "\n",
    "# Desde el índice 2 hasta el 5 (no incluido)\n",
    "print(\"numeros[2:5]:\", numeros[2:5])  # [2, 3, 4]\n",
    "\n",
    "# Desde el inicio hasta el índice 4\n",
    "print(\"numeros[:4]:\", numeros[:4])  # [0, 1, 2, 3]\n",
    "\n",
    "# Desde el índice 5 hasta el final\n",
    "print(\"numeros[5:]:\", numeros[5:])  # [5, 6, 7, 8, 9]\n",
    "\n",
    "# Toda la lista\n",
    "print(\"numeros[:]:\", numeros[:])  # Copia de toda la lista\n",
    "\n",
    "# Cada 2 elementos\n",
    "print(\"numeros[::2]:\", numeros[::2])  # [0, 2, 4, 6, 8]\n",
    "\n",
    "# Invertir la lista\n",
    "print(\"numeros[::-1]:\", numeros[::-1])  # [9, 8, 7, 6, 5, 4, 3, 2, 1, 0]"
   ]
  },
  {
   "cell_type": "code",
   "execution_count": null,
   "metadata": {},
   "outputs": [],
   "source": [
    "# Ejemplos prácticos\n",
    "dias = [\"lun\", \"mar\", \"mie\", \"jue\", \"vie\", \"sab\", \"dom\"]\n",
    "\n",
    "print(\"Días laborables:\", dias[:5])\n",
    "print(\"Fin de semana:\", dias[5:])\n",
    "print(\"Días alternos:\", dias[::2])"
   ]
  },
  {
   "cell_type": "markdown",
   "metadata": {},
   "source": [
    "## 5. Modificar Listas\n",
    "\n",
    "Las listas son **mutables**, lo que significa que podemos cambiar sus elementos."
   ]
  },
  {
   "cell_type": "code",
   "execution_count": null,
   "metadata": {},
   "outputs": [],
   "source": [
    "# Modificar un elemento\n",
    "frutas = [\"manzana\", \"banana\", \"naranja\"]\n",
    "print(\"Antes:\", frutas)\n",
    "\n",
    "frutas[1] = \"fresa\"\n",
    "print(\"Después:\", frutas)"
   ]
  },
  {
   "cell_type": "code",
   "execution_count": null,
   "metadata": {},
   "outputs": [],
   "source": [
    "# Modificar varios elementos con slicing\n",
    "numeros = [1, 2, 3, 4, 5]\n",
    "print(\"Antes:\", numeros)\n",
    "\n",
    "numeros[1:4] = [20, 30, 40]\n",
    "print(\"Después:\", numeros)"
   ]
  },
  {
   "cell_type": "markdown",
   "metadata": {},
   "source": [
    "## 6. Métodos de Listas - Agregar Elementos"
   ]
  },
  {
   "cell_type": "markdown",
   "metadata": {},
   "source": [
    "### 6.1. append() - Agregar al Final"
   ]
  },
  {
   "cell_type": "code",
   "execution_count": null,
   "metadata": {},
   "outputs": [],
   "source": [
    "# append() agrega UN elemento al final\n",
    "numeros = [1, 2, 3]\n",
    "print(\"Antes:\", numeros)\n",
    "\n",
    "numeros.append(4)\n",
    "print(\"Después de append(4):\", numeros)\n",
    "\n",
    "numeros.append(5)\n",
    "print(\"Después de append(5):\", numeros)"
   ]
  },
  {
   "cell_type": "code",
   "execution_count": null,
   "metadata": {},
   "outputs": [],
   "source": [
    "# Ejemplo práctico: construir una lista dinámicamente\n",
    "compras = []\n",
    "\n",
    "compras.append(\"leche\")\n",
    "compras.append(\"pan\")\n",
    "compras.append(\"huevos\")\n",
    "\n",
    "print(\"Lista de compras:\", compras)"
   ]
  },
  {
   "cell_type": "markdown",
   "metadata": {},
   "source": [
    "### 6.2. insert() - Insertar en una Posición Específica"
   ]
  },
  {
   "cell_type": "code",
   "execution_count": null,
   "metadata": {},
   "outputs": [],
   "source": [
    "# insert(índice, elemento)\n",
    "frutas = [\"manzana\", \"naranja\", \"pera\"]\n",
    "print(\"Antes:\", frutas)\n",
    "\n",
    "frutas.insert(1, \"banana\")\n",
    "print(\"Después de insert(1, 'banana'):\", frutas)\n",
    "\n",
    "frutas.insert(0, \"fresa\")\n",
    "print(\"Después de insert(0, 'fresa'):\", frutas)"
   ]
  },
  {
   "cell_type": "markdown",
   "metadata": {},
   "source": [
    "### 6.3. extend() - Agregar Múltiples Elementos"
   ]
  },
  {
   "cell_type": "code",
   "execution_count": null,
   "metadata": {},
   "outputs": [],
   "source": [
    "# extend() agrega todos los elementos de otra lista\n",
    "numeros = [1, 2, 3]\n",
    "print(\"Antes:\", numeros)\n",
    "\n",
    "numeros.extend([4, 5, 6])\n",
    "print(\"Después de extend([4, 5, 6]):\", numeros)"
   ]
  },
  {
   "cell_type": "code",
   "execution_count": null,
   "metadata": {},
   "outputs": [],
   "source": [
    "# Diferencia entre append() y extend()\n",
    "lista1 = [1, 2, 3]\n",
    "lista2 = [1, 2, 3]\n",
    "\n",
    "lista1.append([4, 5, 6])  # Agrega la lista como UN elemento\n",
    "lista2.extend([4, 5, 6])  # Agrega cada elemento de la lista\n",
    "\n",
    "print(\"Con append():\", lista1)  # [1, 2, 3, [4, 5, 6]]\n",
    "print(\"Con extend():\", lista2)  # [1, 2, 3, 4, 5, 6]"
   ]
  },
  {
   "cell_type": "markdown",
   "metadata": {},
   "source": [
    "### 6.4. Operador + y * con Listas"
   ]
  },
  {
   "cell_type": "code",
   "execution_count": null,
   "metadata": {},
   "outputs": [],
   "source": [
    "# Concatenar listas con +\n",
    "lista1 = [1, 2, 3]\n",
    "lista2 = [4, 5, 6]\n",
    "lista3 = lista1 + lista2\n",
    "print(\"Concatenar:\", lista3)\n",
    "\n",
    "# Repetir listas con *\n",
    "lista = [\"Python\"] * 3\n",
    "print(\"Repetir:\", lista)"
   ]
  },
  {
   "cell_type": "markdown",
   "metadata": {},
   "source": [
    "## 7. Métodos de Listas - Eliminar Elementos"
   ]
  },
  {
   "cell_type": "markdown",
   "metadata": {},
   "source": [
    "### 7.1. remove() - Eliminar por Valor"
   ]
  },
  {
   "cell_type": "code",
   "execution_count": null,
   "metadata": {},
   "outputs": [],
   "source": [
    "# remove() elimina la primera aparición del valor\n",
    "frutas = [\"manzana\", \"banana\", \"naranja\", \"banana\"]\n",
    "print(\"Antes:\", frutas)\n",
    "\n",
    "frutas.remove(\"banana\")\n",
    "print(\"Después de remove('banana'):\", frutas)  # Solo elimina la primera"
   ]
  },
  {
   "cell_type": "code",
   "execution_count": null,
   "metadata": {},
   "outputs": [],
   "source": [
    "# ⚠️ Error si el elemento no existe\n",
    "numeros = [1, 2, 3]\n",
    "# numeros.remove(5)  # ValueError: 5 is not in list\n",
    "\n",
    "# ✅ Mejor: verificar primero\n",
    "if 5 in numeros:\n",
    "    numeros.remove(5)\n",
    "else:\n",
    "    print(\"El número 5 no está en la lista\")"
   ]
  },
  {
   "cell_type": "markdown",
   "metadata": {},
   "source": [
    "### 7.2. pop() - Eliminar por Índice y Devolver el Valor"
   ]
  },
  {
   "cell_type": "code",
   "execution_count": null,
   "metadata": {},
   "outputs": [],
   "source": [
    "# pop() sin argumentos elimina el último elemento\n",
    "numeros = [10, 20, 30, 40, 50]\n",
    "print(\"Antes:\", numeros)\n",
    "\n",
    "ultimo = numeros.pop()\n",
    "print(\"Elemento eliminado:\", ultimo)\n",
    "print(\"Después:\", numeros)"
   ]
  },
  {
   "cell_type": "code",
   "execution_count": null,
   "metadata": {},
   "outputs": [],
   "source": [
    "# pop(índice) elimina el elemento en esa posición\n",
    "frutas = [\"manzana\", \"banana\", \"naranja\", \"pera\"]\n",
    "print(\"Antes:\", frutas)\n",
    "\n",
    "fruta_eliminada = frutas.pop(1)\n",
    "print(\"Fruta eliminada:\", fruta_eliminada)\n",
    "print(\"Después:\", frutas)"
   ]
  },
  {
   "cell_type": "markdown",
   "metadata": {},
   "source": [
    "### 7.3. del - Eliminar por Índice o Rango"
   ]
  },
  {
   "cell_type": "code",
   "execution_count": null,
   "metadata": {},
   "outputs": [],
   "source": [
    "# del elimina por índice\n",
    "numeros = [10, 20, 30, 40, 50]\n",
    "print(\"Antes:\", numeros)\n",
    "\n",
    "del numeros[2]\n",
    "print(\"Después de del numeros[2]:\", numeros)"
   ]
  },
  {
   "cell_type": "code",
   "execution_count": null,
   "metadata": {},
   "outputs": [],
   "source": [
    "# del con slicing - eliminar varios elementos\n",
    "numeros = [1, 2, 3, 4, 5, 6, 7, 8, 9]\n",
    "print(\"Antes:\", numeros)\n",
    "\n",
    "del numeros[2:5]\n",
    "print(\"Después de del numeros[2:5]:\", numeros)"
   ]
  },
  {
   "cell_type": "code",
   "execution_count": null,
   "metadata": {},
   "outputs": [],
   "source": [
    "# del puede eliminar toda la lista\n",
    "lista = [1, 2, 3]\n",
    "del lista\n",
    "# print(lista)  # NameError: lista no existe"
   ]
  },
  {
   "cell_type": "markdown",
   "metadata": {},
   "source": [
    "### 7.4. clear() - Vaciar la Lista"
   ]
  },
  {
   "cell_type": "code",
   "execution_count": null,
   "metadata": {},
   "outputs": [],
   "source": [
    "# clear() elimina todos los elementos pero mantiene la lista\n",
    "numeros = [1, 2, 3, 4, 5]\n",
    "print(\"Antes:\", numeros)\n",
    "\n",
    "numeros.clear()\n",
    "print(\"Después de clear():\", numeros)\n",
    "print(\"La lista existe:\", type(numeros))  # Sigue siendo una lista"
   ]
  },
  {
   "cell_type": "markdown",
   "metadata": {},
   "source": [
    "## 8. Otros Métodos Útiles de Listas"
   ]
  },
  {
   "cell_type": "markdown",
   "metadata": {},
   "source": [
    "### 8.1. index() - Encontrar la Posición de un Elemento"
   ]
  },
  {
   "cell_type": "code",
   "execution_count": null,
   "metadata": {},
   "outputs": [],
   "source": [
    "# index() devuelve el índice de la primera aparición\n",
    "frutas = [\"manzana\", \"banana\", \"naranja\", \"pera\", \"banana\"]\n",
    "\n",
    "posicion = frutas.index(\"naranja\")\n",
    "print(f\"'naranja' está en la posición {posicion}\")\n",
    "\n",
    "posicion_banana = frutas.index(\"banana\")\n",
    "print(f\"Primera 'banana' en posición {posicion_banana}\")"
   ]
  },
  {
   "cell_type": "code",
   "execution_count": null,
   "metadata": {},
   "outputs": [],
   "source": [
    "# ⚠️ Error si el elemento no existe\n",
    "numeros = [1, 2, 3, 4, 5]\n",
    "# posicion = numeros.index(10)  # ValueError\n",
    "\n",
    "# ✅ Mejor: verificar primero con 'in'\n",
    "if 10 in numeros:\n",
    "    posicion = numeros.index(10)\n",
    "else:\n",
    "    print(\"El número 10 no está en la lista\")"
   ]
  },
  {
   "cell_type": "markdown",
   "metadata": {},
   "source": [
    "### 8.2. count() - Contar Apariciones"
   ]
  },
  {
   "cell_type": "code",
   "execution_count": null,
   "metadata": {},
   "outputs": [],
   "source": [
    "# count() devuelve cuántas veces aparece un elemento\n",
    "numeros = [1, 2, 3, 2, 4, 2, 5, 2]\n",
    "\n",
    "veces = numeros.count(2)\n",
    "print(f\"El número 2 aparece {veces} veces\")\n",
    "\n",
    "print(f\"El número 3 aparece {numeros.count(3)} veces\")\n",
    "print(f\"El número 10 aparece {numeros.count(10)} veces\")  # 0 si no existe"
   ]
  },
  {
   "cell_type": "markdown",
   "metadata": {},
   "source": [
    "### 8.3. sort() - Ordenar la Lista"
   ]
  },
  {
   "cell_type": "code",
   "execution_count": null,
   "metadata": {},
   "outputs": [],
   "source": [
    "# sort() ordena la lista EN EL LUGAR (modifica la original)\n",
    "numeros = [5, 2, 8, 1, 9, 3]\n",
    "print(\"Antes:\", numeros)\n",
    "\n",
    "numeros.sort()\n",
    "print(\"Después de sort():\", numeros)"
   ]
  },
  {
   "cell_type": "code",
   "execution_count": null,
   "metadata": {},
   "outputs": [],
   "source": [
    "# Ordenar en orden descendente\n",
    "numeros = [5, 2, 8, 1, 9, 3]\n",
    "numeros.sort(reverse=True)\n",
    "print(\"Orden descendente:\", numeros)"
   ]
  },
  {
   "cell_type": "code",
   "execution_count": null,
   "metadata": {},
   "outputs": [],
   "source": [
    "# Ordenar cadenas (alfabéticamente)\n",
    "nombres = [\"María\", \"Ana\", \"Juan\", \"Carlos\"]\n",
    "nombres.sort()\n",
    "print(\"Ordenados:\", nombres)"
   ]
  },
  {
   "cell_type": "markdown",
   "metadata": {},
   "source": [
    "### 8.4. reverse() - Invertir el Orden"
   ]
  },
  {
   "cell_type": "code",
   "execution_count": null,
   "metadata": {},
   "outputs": [],
   "source": [
    "# reverse() invierte el orden de la lista\n",
    "numeros = [1, 2, 3, 4, 5]\n",
    "print(\"Antes:\", numeros)\n",
    "\n",
    "numeros.reverse()\n",
    "print(\"Después de reverse():\", numeros)"
   ]
  },
  {
   "cell_type": "markdown",
   "metadata": {},
   "source": [
    "### 8.5. copy() - Copiar una Lista"
   ]
  },
  {
   "cell_type": "code",
   "execution_count": null,
   "metadata": {},
   "outputs": [],
   "source": [
    "# ❌ Asignación simple NO crea una copia\n",
    "lista1 = [1, 2, 3]\n",
    "lista2 = lista1  # lista2 apunta a la misma lista que lista1\n",
    "\n",
    "lista2.append(4)\n",
    "print(\"lista1:\", lista1)  # ¡También se modifica!\n",
    "print(\"lista2:\", lista2)"
   ]
  },
  {
   "cell_type": "code",
   "execution_count": null,
   "metadata": {},
   "outputs": [],
   "source": [
    "# ✅ copy() crea una copia independiente\n",
    "lista1 = [1, 2, 3]\n",
    "lista2 = lista1.copy()  # Copia real\n",
    "\n",
    "lista2.append(4)\n",
    "print(\"lista1:\", lista1)  # No se modifica\n",
    "print(\"lista2:\", lista2)"
   ]
  },
  {
   "cell_type": "code",
   "execution_count": null,
   "metadata": {},
   "outputs": [],
   "source": [
    "# También se puede copiar con slicing\n",
    "lista1 = [1, 2, 3]\n",
    "lista2 = lista1[:]  # Copia con slicing\n",
    "\n",
    "lista2.append(4)\n",
    "print(\"lista1:\", lista1)\n",
    "print(\"lista2:\", lista2)"
   ]
  },
  {
   "cell_type": "markdown",
   "metadata": {},
   "source": [
    "## 9. Operaciones con Listas"
   ]
  },
  {
   "cell_type": "markdown",
   "metadata": {},
   "source": [
    "### 9.1. len() - Longitud de la Lista"
   ]
  },
  {
   "cell_type": "code",
   "execution_count": null,
   "metadata": {},
   "outputs": [],
   "source": [
    "# len() devuelve el número de elementos\n",
    "frutas = [\"manzana\", \"banana\", \"naranja\"]\n",
    "print(f\"La lista tiene {len(frutas)} elementos\")\n",
    "\n",
    "lista_vacia = []\n",
    "print(f\"Lista vacía tiene {len(lista_vacia)} elementos\")"
   ]
  },
  {
   "cell_type": "markdown",
   "metadata": {},
   "source": [
    "### 9.2. in - Verificar si un Elemento Existe"
   ]
  },
  {
   "cell_type": "code",
   "execution_count": null,
   "metadata": {},
   "outputs": [],
   "source": [
    "# Operador 'in' verifica pertenencia\n",
    "frutas = [\"manzana\", \"banana\", \"naranja\"]\n",
    "\n",
    "if \"banana\" in frutas:\n",
    "    print(\"Sí, tenemos bananas\")\n",
    "\n",
    "if \"pera\" not in frutas:\n",
    "    print(\"No tenemos peras\")"
   ]
  },
  {
   "cell_type": "markdown",
   "metadata": {},
   "source": [
    "### 9.3. min(), max(), sum() - Operaciones Numéricas"
   ]
  },
  {
   "cell_type": "code",
   "execution_count": null,
   "metadata": {},
   "outputs": [],
   "source": [
    "# Funciones para listas numéricas\n",
    "numeros = [10, 5, 8, 15, 3, 12]\n",
    "\n",
    "print(\"Mínimo:\", min(numeros))\n",
    "print(\"Máximo:\", max(numeros))\n",
    "print(\"Suma:\", sum(numeros))\n",
    "print(\"Promedio:\", sum(numeros) / len(numeros))"
   ]
  },
  {
   "cell_type": "markdown",
   "metadata": {},
   "source": [
    "## 10. Recorrer Listas con Bucles"
   ]
  },
  {
   "cell_type": "markdown",
   "metadata": {},
   "source": [
    "### 10.1. Bucle for Básico"
   ]
  },
  {
   "cell_type": "code",
   "execution_count": null,
   "metadata": {},
   "outputs": [],
   "source": [
    "# Recorrer elementos directamente\n",
    "frutas = [\"manzana\", \"banana\", \"naranja\", \"pera\"]\n",
    "\n",
    "for fruta in frutas:\n",
    "    print(f\"Me gusta la {fruta}\")"
   ]
  },
  {
   "cell_type": "markdown",
   "metadata": {},
   "source": [
    "### 10.2. Recorrer con Índices"
   ]
  },
  {
   "cell_type": "code",
   "execution_count": null,
   "metadata": {},
   "outputs": [],
   "source": [
    "# Usar range() y len() para obtener índices\n",
    "frutas = [\"manzana\", \"banana\", \"naranja\"]\n",
    "\n",
    "for i in range(len(frutas)):\n",
    "    print(f\"Fruta {i}: {frutas[i]}\")"
   ]
  },
  {
   "cell_type": "markdown",
   "metadata": {},
   "source": [
    "### 10.3. enumerate() - Índice y Valor al Mismo Tiempo"
   ]
  },
  {
   "cell_type": "code",
   "execution_count": null,
   "metadata": {},
   "outputs": [],
   "source": [
    "# enumerate() da índice y valor\n",
    "frutas = [\"manzana\", \"banana\", \"naranja\"]\n",
    "\n",
    "for indice, fruta in enumerate(frutas):\n",
    "    print(f\"{indice}: {fruta}\")"
   ]
  },
  {
   "cell_type": "code",
   "execution_count": null,
   "metadata": {},
   "outputs": [],
   "source": [
    "# Empezar el índice desde 1\n",
    "frutas = [\"manzana\", \"banana\", \"naranja\"]\n",
    "\n",
    "for indice, fruta in enumerate(frutas, start=1):\n",
    "    print(f\"#{indice}: {fruta}\")"
   ]
  },
  {
   "cell_type": "markdown",
   "metadata": {},
   "source": [
    "## 11. List Comprehension - Crear Listas de Forma Concisa\n",
    "\n",
    "La **list comprehension** es una forma compacta de crear listas.\n",
    "\n",
    "**Sintaxis básica:**\n",
    "```python\n",
    "[expresion for elemento in iterable]\n",
    "```\n",
    "\n",
    "**Con condición:**\n",
    "```python\n",
    "[expresion for elemento in iterable if condicion]\n",
    "```"
   ]
  },
  {
   "cell_type": "code",
   "execution_count": null,
   "metadata": {},
   "outputs": [],
   "source": [
    "# Forma tradicional: crear lista de cuadrados\n",
    "cuadrados = []\n",
    "for i in range(1, 6):\n",
    "    cuadrados.append(i ** 2)\n",
    "print(\"Forma tradicional:\", cuadrados)\n",
    "\n",
    "# Con list comprehension (más conciso)\n",
    "cuadrados = [i ** 2 for i in range(1, 6)]\n",
    "print(\"List comprehension:\", cuadrados)"
   ]
  },
  {
   "cell_type": "code",
   "execution_count": null,
   "metadata": {},
   "outputs": [],
   "source": [
    "# Filtrar solo números pares\n",
    "numeros = [1, 2, 3, 4, 5, 6, 7, 8, 9, 10]\n",
    "pares = [n for n in numeros if n % 2 == 0]\n",
    "print(\"Números pares:\", pares)"
   ]
  },
  {
   "cell_type": "code",
   "execution_count": null,
   "metadata": {},
   "outputs": [],
   "source": [
    "# Convertir a mayúsculas\n",
    "palabras = [\"hola\", \"mundo\", \"python\"]\n",
    "mayusculas = [palabra.upper() for palabra in palabras]\n",
    "print(\"En mayúsculas:\", mayusculas)"
   ]
  },
  {
   "cell_type": "code",
   "execution_count": null,
   "metadata": {},
   "outputs": [],
   "source": [
    "# Ejemplo más complejo: solo palabras largas en mayúsculas\n",
    "palabras = [\"el\", \"python\", \"es\", \"genial\"]\n",
    "largas_mayus = [p.upper() for p in palabras if len(p) > 2]\n",
    "print(\"Palabras largas en mayúsculas:\", largas_mayus)"
   ]
  },
  {
   "cell_type": "markdown",
   "metadata": {},
   "source": [
    "## 12. Listas Multidimensionales (Listas de Listas)\n",
    "\n",
    "Una lista puede contener otras listas como elementos."
   ]
  },
  {
   "cell_type": "code",
   "execution_count": null,
   "metadata": {},
   "outputs": [],
   "source": [
    "# Matriz 3x3\n",
    "matriz = [\n",
    "    [1, 2, 3],\n",
    "    [4, 5, 6],\n",
    "    [7, 8, 9]\n",
    "]\n",
    "\n",
    "print(\"Matriz completa:\")\n",
    "print(matriz)"
   ]
  },
  {
   "cell_type": "code",
   "execution_count": null,
   "metadata": {},
   "outputs": [],
   "source": [
    "# Acceder a elementos\n",
    "matriz = [\n",
    "    [1, 2, 3],\n",
    "    [4, 5, 6],\n",
    "    [7, 8, 9]\n",
    "]\n",
    "\n",
    "print(\"Primera fila:\", matriz[0])\n",
    "print(\"Segundo elemento de la primera fila:\", matriz[0][1])\n",
    "print(\"Elemento central:\", matriz[1][1])"
   ]
  },
  {
   "cell_type": "code",
   "execution_count": null,
   "metadata": {},
   "outputs": [],
   "source": [
    "# Recorrer matriz con bucles anidados\n",
    "matriz = [\n",
    "    [1, 2, 3],\n",
    "    [4, 5, 6],\n",
    "    [7, 8, 9]\n",
    "]\n",
    "\n",
    "print(\"Matriz formateada:\")\n",
    "for fila in matriz:\n",
    "    for elemento in fila:\n",
    "        print(elemento, end=\" \")\n",
    "    print()  # Nueva línea después de cada fila"
   ]
  },
  {
   "cell_type": "code",
   "execution_count": null,
   "metadata": {},
   "outputs": [],
   "source": [
    "# Ejemplo práctico: tabla de estudiantes con notas\n",
    "estudiantes = [\n",
    "    [\"Ana\", 8.5, 9.0, 7.5],\n",
    "    [\"Juan\", 7.0, 8.0, 8.5],\n",
    "    [\"María\", 9.5, 9.0, 10.0]\n",
    "]\n",
    "\n",
    "for estudiante in estudiantes:\n",
    "    nombre = estudiante[0]\n",
    "    notas = estudiante[1:]\n",
    "    promedio = sum(notas) / len(notas)\n",
    "    print(f\"{nombre}: Promedio = {promedio:.2f}\")"
   ]
  },
  {
   "cell_type": "markdown",
   "metadata": {},
   "source": [
    "## 13. Tuplas - Listas Inmutables\n",
    "\n",
    "Las **tuplas** son similares a las listas, pero **NO SE PUEDEN MODIFICAR** después de crearlas.\n",
    "\n",
    "### Características de las tuplas:\n",
    "- Son **inmutables** (no se pueden modificar)\n",
    "- Se definen con **paréntesis** `()`\n",
    "- Son más rápidas que las listas\n",
    "- Se usan para datos que no deben cambiar\n",
    "\n",
    "### Sintaxis:\n",
    "```python\n",
    "nombre_tupla = (elemento1, elemento2, elemento3)\n",
    "```"
   ]
  },
  {
   "cell_type": "code",
   "execution_count": null,
   "metadata": {},
   "outputs": [],
   "source": [
    "# Crear tuplas\n",
    "coordenadas = (10, 20)\n",
    "print(\"Coordenadas:\", coordenadas)\n",
    "\n",
    "colores_rgb = (255, 128, 0)\n",
    "print(\"Color RGB:\", colores_rgb)\n",
    "\n",
    "persona = (\"Juan\", 25, \"España\")\n",
    "print(\"Persona:\", persona)"
   ]
  },
  {
   "cell_type": "code",
   "execution_count": null,
   "metadata": {},
   "outputs": [],
   "source": [
    "# Tupla de un solo elemento (necesita coma)\n",
    "tupla_unitaria = (5,)  # Con coma\n",
    "no_tupla = (5)  # Sin coma, es solo un número\n",
    "\n",
    "print(type(tupla_unitaria))  # <class 'tuple'>\n",
    "print(type(no_tupla))  # <class 'int'>"
   ]
  },
  {
   "cell_type": "code",
   "execution_count": null,
   "metadata": {},
   "outputs": [],
   "source": [
    "# Acceder a elementos (igual que listas)\n",
    "coordenadas = (10, 20, 30)\n",
    "\n",
    "print(\"Primera coordenada:\", coordenadas[0])\n",
    "print(\"Última coordenada:\", coordenadas[-1])\n",
    "print(\"Primeras dos:\", coordenadas[:2])"
   ]
  },
  {
   "cell_type": "code",
   "execution_count": null,
   "metadata": {},
   "outputs": [],
   "source": [
    "# ❌ Las tuplas NO se pueden modificar\n",
    "colores = (\"rojo\", \"verde\", \"azul\")\n",
    "# colores[0] = \"amarillo\"  # TypeError: 'tuple' object does not support item assignment"
   ]
  },
  {
   "cell_type": "code",
   "execution_count": null,
   "metadata": {},
   "outputs": [],
   "source": [
    "# Métodos de tuplas (solo 2)\n",
    "numeros = (1, 2, 3, 2, 4, 2, 5)\n",
    "\n",
    "print(\"Veces que aparece 2:\", numeros.count(2))\n",
    "print(\"Índice del primer 3:\", numeros.index(3))"
   ]
  },
  {
   "cell_type": "code",
   "execution_count": null,
   "metadata": {},
   "outputs": [],
   "source": [
    "# Recorrer tuplas (igual que listas)\n",
    "dias_semana = (\"lun\", \"mar\", \"mie\", \"jue\", \"vie\", \"sab\", \"dom\")\n",
    "\n",
    "for dia in dias_semana:\n",
    "    print(dia)"
   ]
  },
  {
   "cell_type": "markdown",
   "metadata": {},
   "source": [
    "### Desempaquetar Tuplas"
   ]
  },
  {
   "cell_type": "code",
   "execution_count": null,
   "metadata": {},
   "outputs": [],
   "source": [
    "# Asignar elementos de tupla a variables\n",
    "coordenadas = (10, 20)\n",
    "x, y = coordenadas\n",
    "\n",
    "print(f\"x = {x}\")\n",
    "print(f\"y = {y}\")"
   ]
  },
  {
   "cell_type": "code",
   "execution_count": null,
   "metadata": {},
   "outputs": [],
   "source": [
    "# Intercambiar valores fácilmente\n",
    "a = 5\n",
    "b = 10\n",
    "print(f\"Antes: a={a}, b={b}\")\n",
    "\n",
    "a, b = b, a  # Intercambio con tuplas\n",
    "print(f\"Después: a={a}, b={b}\")"
   ]
  },
  {
   "cell_type": "markdown",
   "metadata": {},
   "source": [
    "## 14. Diferencias entre Listas y Tuplas\n",
    "\n",
    "| Característica | Lista | Tupla |\n",
    "|----------------|-------|-------|\n",
    "| **Sintaxis** | `[1, 2, 3]` | `(1, 2, 3)` |\n",
    "| **Mutabilidad** | Mutable (se puede modificar) | Inmutable (NO se puede modificar) |\n",
    "| **Velocidad** | Más lenta | Más rápida |\n",
    "| **Métodos** | Muchos (append, remove, etc.) | Solo 2 (count, index) |\n",
    "| **Uso típico** | Colecciones que pueden cambiar | Datos fijos, coordenadas, configuración |\n",
    "\n",
    "### ¿Cuándo usar cada una?\n",
    "\n",
    "**Usa listas cuando:**\n",
    "- Los datos pueden cambiar (agregar, eliminar, modificar)\n",
    "- Necesitas métodos como append(), remove(), sort()\n",
    "- Trabajas con colecciones dinámicas\n",
    "\n",
    "**Usa tuplas cuando:**\n",
    "- Los datos son fijos y no deben cambiar\n",
    "- Necesitas mayor rendimiento\n",
    "- Quieres proteger los datos de modificaciones accidentales\n",
    "- Representas coordenadas, fechas, configuraciones"
   ]
  },
  {
   "cell_type": "markdown",
   "metadata": {},
   "source": [
    "## 15. Ejemplos Prácticos Completos"
   ]
  },
  {
   "cell_type": "code",
   "execution_count": null,
   "metadata": {},
   "outputs": [],
   "source": [
    "# Ejemplo 1: Gestión de notas\n",
    "print(\"=== GESTIÓN DE NOTAS ===\")\n",
    "notas = []\n",
    "\n",
    "# Pedir notas\n",
    "cantidad = int(input(\"¿Cuántas notas vas a introducir? \"))\n",
    "\n",
    "for i in range(cantidad):\n",
    "    nota = float(input(f\"Nota {i+1}: \"))\n",
    "    notas.append(nota)\n",
    "\n",
    "# Calcular estadísticas\n",
    "promedio = sum(notas) / len(notas)\n",
    "maxima = max(notas)\n",
    "minima = min(notas)\n",
    "aprobadas = len([n for n in notas if n >= 5])\n",
    "\n",
    "print(f\"\\nPromedio: {promedio:.2f}\")\n",
    "print(f\"Nota máxima: {maxima}\")\n",
    "print(f\"Nota mínima: {minima}\")\n",
    "print(f\"Aprobadas: {aprobadas}/{len(notas)}\")"
   ]
  },
  {
   "cell_type": "code",
   "execution_count": null,
   "metadata": {},
   "outputs": [],
   "source": [
    "# Ejemplo 2: Lista de compras interactiva\n",
    "print(\"=== LISTA DE COMPRAS ===\")\n",
    "compras = []\n",
    "\n",
    "while True:\n",
    "    print(\"\\n1. Agregar artículo\")\n",
    "    print(\"2. Ver lista\")\n",
    "    print(\"3. Eliminar artículo\")\n",
    "    print(\"4. Salir\")\n",
    "    \n",
    "    opcion = input(\"Elige una opción: \")\n",
    "    \n",
    "    if opcion == \"1\":\n",
    "        articulo = input(\"Artículo a agregar: \")\n",
    "        compras.append(articulo)\n",
    "        print(f\"'{articulo}' agregado a la lista\")\n",
    "    \n",
    "    elif opcion == \"2\":\n",
    "        if compras:\n",
    "            print(\"\\nLista de compras:\")\n",
    "            for i, articulo in enumerate(compras, 1):\n",
    "                print(f\"{i}. {articulo}\")\n",
    "        else:\n",
    "            print(\"La lista está vacía\")\n",
    "    \n",
    "    elif opcion == \"3\":\n",
    "        if compras:\n",
    "            articulo = input(\"Artículo a eliminar: \")\n",
    "            if articulo in compras:\n",
    "                compras.remove(articulo)\n",
    "                print(f\"'{articulo}' eliminado\")\n",
    "            else:\n",
    "                print(f\"'{articulo}' no está en la lista\")\n",
    "        else:\n",
    "            print(\"La lista está vacía\")\n",
    "    \n",
    "    elif opcion == \"4\":\n",
    "        print(\"¡Hasta luego!\")\n",
    "        break\n",
    "    \n",
    "    else:\n",
    "        print(\"Opción no válida\")"
   ]
  },
  {
   "cell_type": "code",
   "execution_count": null,
   "metadata": {},
   "outputs": [],
   "source": [
    "# Ejemplo 3: Filtrar y ordenar datos\n",
    "productos = [\n",
    "    (\"Laptop\", 899),\n",
    "    (\"Mouse\", 25),\n",
    "    (\"Teclado\", 75),\n",
    "    (\"Monitor\", 250),\n",
    "    (\"Webcam\", 60)\n",
    "]\n",
    "\n",
    "print(\"=== PRODUCTOS ===\")\n",
    "for nombre, precio in productos:\n",
    "    print(f\"{nombre}: ${precio}\")\n",
    "\n",
    "# Filtrar productos caros (> $100)\n",
    "caros = [(n, p) for n, p in productos if p > 100]\n",
    "print(\"\\nProductos > $100:\")\n",
    "for nombre, precio in caros:\n",
    "    print(f\"{nombre}: ${precio}\")\n",
    "\n",
    "# Ordenar por precio\n",
    "productos_ordenados = sorted(productos, key=lambda x: x[1])\n",
    "print(\"\\nOrdenados por precio:\")\n",
    "for nombre, precio in productos_ordenados:\n",
    "    print(f\"{nombre}: ${precio}\")"
   ]
  }
 ],
 "metadata": {
  "kernelspec": {
   "display_name": "Python 3",
   "language": "python",
   "name": "python3"
  },
  "language_info": {
   "codemirror_mode": {
    "name": "ipython",
    "version": 3
   },
   "file_extension": ".py",
   "mimetype": "text/x-python",
   "name": "python",
   "nbconvert_exporter": "python",
   "pygments_lexer": "ipython3",
   "version": "3.10.11"
  }
 },
 "nbformat": 4,
 "nbformat_minor": 4
}
