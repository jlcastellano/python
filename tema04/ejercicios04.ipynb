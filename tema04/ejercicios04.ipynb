{
 "cells": [
  {
   "cell_type": "markdown",
   "metadata": {},
   "source": [
    "# Tema 04: Ejercicios Prácticos\n",
    "## Listas y Tuplas\n",
    "\n",
    "**Nivel de dificultad:**\n",
    "- 🟢 Básico\n",
    "- 🟡 Intermedio\n",
    "- 🔴 Avanzado"
   ]
  },
  {
   "cell_type": "markdown",
   "metadata": {},
   "source": [
    "---\n",
    "## Bloque 1: Crear y Acceder a Listas"
   ]
  },
  {
   "cell_type": "markdown",
   "metadata": {},
   "source": [
    "### Ejercicio 1: Crear una Lista 🟢\n",
    "\n",
    "Crea una lista con tus 5 películas favoritas e imprímela.\n",
    "\n",
    "**Salida esperada:**\n",
    "```\n",
    "Mis películas favoritas:\n",
    "['Película 1', 'Película 2', 'Película 3', 'Película 4', 'Película 5']\n",
    "```"
   ]
  },
  {
   "cell_type": "code",
   "execution_count": null,
   "metadata": {},
   "outputs": [],
   "source": [
    "# Escribe tu código aquí\n"
   ]
  },
  {
   "cell_type": "markdown",
   "metadata": {},
   "source": [
    "### Ejercicio 2: Acceder a Elementos 🟢\n",
    "\n",
    "Dada la siguiente lista, imprime:\n",
    "- El primer elemento\n",
    "- El último elemento\n",
    "- El tercer elemento\n",
    "\n",
    "```python\n",
    "numeros = [10, 20, 30, 40, 50, 60, 70]\n",
    "```"
   ]
  },
  {
   "cell_type": "code",
   "execution_count": null,
   "metadata": {},
   "outputs": [],
   "source": [
    "# Escribe tu código aquí\n",
    "numeros = [10, 20, 30, 40, 50, 60, 70]\n",
    "\n"
   ]
  },
  {
   "cell_type": "markdown",
   "metadata": {},
   "source": [
    "### Ejercicio 3: Slicing Básico 🟢\n",
    "\n",
    "Dada la lista `letras = ['a', 'b', 'c', 'd', 'e', 'f', 'g', 'h']`, extrae:\n",
    "- Las primeras 3 letras\n",
    "- Las últimas 3 letras\n",
    "- Las letras de la posición 2 a la 5 (no incluida)\n",
    "- La lista completa en orden inverso"
   ]
  },
  {
   "cell_type": "code",
   "execution_count": null,
   "metadata": {},
   "outputs": [],
   "source": [
    "# Escribe tu código aquí\n",
    "letras = ['a', 'b', 'c', 'd', 'e', 'f', 'g', 'h']\n",
    "\n"
   ]
  },
  {
   "cell_type": "markdown",
   "metadata": {},
   "source": [
    "### Ejercicio 4: Modificar Elementos 🟢\n",
    "\n",
    "Dada la lista `frutas = ['manzana', 'banana', 'naranja', 'pera']`:\n",
    "1. Cambia 'banana' por 'fresa'\n",
    "2. Imprime la lista modificada"
   ]
  },
  {
   "cell_type": "code",
   "execution_count": null,
   "metadata": {},
   "outputs": [],
   "source": [
    "# Escribe tu código aquí\n",
    "frutas = ['manzana', 'banana', 'naranja', 'pera']\n",
    "\n"
   ]
  },
  {
   "cell_type": "markdown",
   "metadata": {},
   "source": [
    "---\n",
    "## Bloque 2: Agregar y Eliminar Elementos"
   ]
  },
  {
   "cell_type": "markdown",
   "metadata": {},
   "source": [
    "### Ejercicio 5: Usar append() 🟢\n",
    "\n",
    "Crea una lista vacía. Pide al usuario 5 números y agrégalos a la lista con `append()`. Imprime la lista final.\n",
    "\n",
    "**Ejemplo:**\n",
    "```\n",
    "Introduce número 1: 5\n",
    "Introduce número 2: 10\n",
    "...\n",
    "Lista final: [5, 10, 15, 20, 25]\n",
    "```"
   ]
  },
  {
   "cell_type": "code",
   "execution_count": null,
   "metadata": {},
   "outputs": [],
   "source": [
    "# Escribe tu código aquí\n"
   ]
  },
  {
   "cell_type": "markdown",
   "metadata": {},
   "source": [
    "### Ejercicio 6: insert() en Acción 🟢\n",
    "\n",
    "Dada la lista `colores = ['rojo', 'azul', 'verde']`:\n",
    "1. Inserta 'amarillo' en la posición 1\n",
    "2. Inserta 'negro' al principio (posición 0)\n",
    "3. Imprime la lista resultante"
   ]
  },
  {
   "cell_type": "code",
   "execution_count": null,
   "metadata": {},
   "outputs": [],
   "source": [
    "# Escribe tu código aquí\n",
    "colores = ['rojo', 'azul', 'verde']\n",
    "\n"
   ]
  },
  {
   "cell_type": "markdown",
   "metadata": {},
   "source": [
    "### Ejercicio 7: remove() y pop() 🟡\n",
    "\n",
    "Dada la lista `numeros = [10, 20, 30, 40, 50, 60]`:\n",
    "1. Elimina el número 30 usando `remove()`\n",
    "2. Elimina el último elemento usando `pop()` y guárdalo en una variable\n",
    "3. Imprime la lista resultante y el elemento eliminado"
   ]
  },
  {
   "cell_type": "code",
   "execution_count": null,
   "metadata": {},
   "outputs": [],
   "source": [
    "# Escribe tu código aquí\n",
    "numeros = [10, 20, 30, 40, 50, 60]\n",
    "\n"
   ]
  },
  {
   "cell_type": "markdown",
   "metadata": {},
   "source": [
    "### Ejercicio 8: Diferencia entre append() y extend() 🟡\n",
    "\n",
    "Crea dos listas iguales: `lista1 = [1, 2, 3]` y `lista2 = [1, 2, 3]`\n",
    "\n",
    "1. A `lista1` aplica `append([4, 5, 6])`\n",
    "2. A `lista2` aplica `extend([4, 5, 6])`\n",
    "3. Imprime ambas listas y observa la diferencia"
   ]
  },
  {
   "cell_type": "code",
   "execution_count": null,
   "metadata": {},
   "outputs": [],
   "source": [
    "# Escribe tu código aquí\n"
   ]
  },
  {
   "cell_type": "markdown",
   "metadata": {},
   "source": [
    "---\n",
    "## Bloque 3: Métodos de Listas"
   ]
  },
  {
   "cell_type": "markdown",
   "metadata": {},
   "source": [
    "### Ejercicio 9: Ordenar Listas 🟢\n",
    "\n",
    "Dada la lista `numeros = [45, 12, 78, 23, 56, 34, 89]`:\n",
    "1. Ordénala de menor a mayor\n",
    "2. Imprímela\n",
    "3. Ordénala de mayor a menor\n",
    "4. Imprímela"
   ]
  },
  {
   "cell_type": "code",
   "execution_count": null,
   "metadata": {},
   "outputs": [],
   "source": [
    "# Escribe tu código aquí\n",
    "numeros = [45, 12, 78, 23, 56, 34, 89]\n",
    "\n"
   ]
  },
  {
   "cell_type": "markdown",
   "metadata": {},
   "source": [
    "### Ejercicio 10: count() e index() 🟢\n",
    "\n",
    "Dada la lista `letras = ['a', 'b', 'c', 'a', 'd', 'e', 'a', 'f']`:\n",
    "1. Cuenta cuántas veces aparece la letra 'a'\n",
    "2. Encuentra la posición de la primera 'd'\n",
    "3. Imprime los resultados"
   ]
  },
  {
   "cell_type": "code",
   "execution_count": null,
   "metadata": {},
   "outputs": [],
   "source": [
    "# Escribe tu código aquí\n",
    "letras = ['a', 'b', 'c', 'a', 'd', 'e', 'a', 'f']\n",
    "\n"
   ]
  },
  {
   "cell_type": "markdown",
   "metadata": {},
   "source": [
    "### Ejercicio 11: reverse() 🟢\n",
    "\n",
    "Dada la lista `dias = ['lunes', 'martes', 'miércoles', 'jueves', 'viernes']`:\n",
    "1. Invierte el orden de la lista\n",
    "2. Imprímela"
   ]
  },
  {
   "cell_type": "code",
   "execution_count": null,
   "metadata": {},
   "outputs": [],
   "source": [
    "# Escribe tu código aquí\n",
    "dias = ['lunes', 'martes', 'miércoles', 'jueves', 'viernes']\n",
    "\n"
   ]
  },
  {
   "cell_type": "markdown",
   "metadata": {},
   "source": [
    "### Ejercicio 12: Copiar Listas Correctamente 🟡\n",
    "\n",
    "Crea una lista `original = [1, 2, 3, 4, 5]`\n",
    "\n",
    "1. Crea una copia usando el método `copy()`\n",
    "2. Modifica la copia agregando el número 6\n",
    "3. Imprime ambas listas para verificar que son independientes"
   ]
  },
  {
   "cell_type": "code",
   "execution_count": null,
   "metadata": {},
   "outputs": [],
   "source": [
    "# Escribe tu código aquí\n"
   ]
  },
  {
   "cell_type": "markdown",
   "metadata": {},
   "source": [
    "---\n",
    "## Bloque 4: Recorrer Listas"
   ]
  },
  {
   "cell_type": "markdown",
   "metadata": {},
   "source": [
    "### Ejercicio 13: Recorrer con for 🟢\n",
    "\n",
    "Dada la lista `animales = ['perro', 'gato', 'pájaro', 'pez']`, imprime cada animal en una línea con el formato:\n",
    "```\n",
    "Me gusta el perro\n",
    "Me gusta el gato\n",
    "...\n",
    "```"
   ]
  },
  {
   "cell_type": "code",
   "execution_count": null,
   "metadata": {},
   "outputs": [],
   "source": [
    "# Escribe tu código aquí\n",
    "animales = ['perro', 'gato', 'pájaro', 'pez']\n",
    "\n"
   ]
  },
  {
   "cell_type": "markdown",
   "metadata": {},
   "source": [
    "### Ejercicio 14: Usar enumerate() 🟡\n",
    "\n",
    "Dada la lista `ciudades = ['Madrid', 'Barcelona', 'Valencia', 'Sevilla']`, imprímela numerada empezando desde 1:\n",
    "```\n",
    "1. Madrid\n",
    "2. Barcelona\n",
    "3. Valencia\n",
    "4. Sevilla\n",
    "```"
   ]
  },
  {
   "cell_type": "code",
   "execution_count": null,
   "metadata": {},
   "outputs": [],
   "source": [
    "# Escribe tu código aquí\n",
    "ciudades = ['Madrid', 'Barcelona', 'Valencia', 'Sevilla']\n",
    "\n"
   ]
  },
  {
   "cell_type": "markdown",
   "metadata": {},
   "source": [
    "### Ejercicio 15: Sumar Elementos 🟢\n",
    "\n",
    "Dada la lista `precios = [12.50, 8.75, 15.00, 22.30, 9.99]`:\n",
    "1. Calcula el total usando un bucle\n",
    "2. Calcula el total usando `sum()`\n",
    "3. Verifica que ambos resultados son iguales"
   ]
  },
  {
   "cell_type": "code",
   "execution_count": null,
   "metadata": {},
   "outputs": [],
   "source": [
    "# Escribe tu código aquí\n",
    "precios = [12.50, 8.75, 15.00, 22.30, 9.99]\n",
    "\n"
   ]
  },
  {
   "cell_type": "markdown",
   "metadata": {},
   "source": [
    "### Ejercicio 16: Filtrar Elementos 🟡\n",
    "\n",
    "Dada la lista `numeros = [5, 12, 8, 23, 15, 7, 30, 18]`, crea una nueva lista que contenga solo los números mayores que 10.\n",
    "\n",
    "**Salida esperada:**\n",
    "```\n",
    "Números mayores que 10: [12, 23, 15, 30, 18]\n",
    "```"
   ]
  },
  {
   "cell_type": "code",
   "execution_count": null,
   "metadata": {},
   "outputs": [],
   "source": [
    "# Escribe tu código aquí\n",
    "numeros = [5, 12, 8, 23, 15, 7, 30, 18]\n",
    "\n"
   ]
  },
  {
   "cell_type": "markdown",
   "metadata": {},
   "source": [
    "---\n",
    "## Bloque 5: List Comprehension"
   ]
  },
  {
   "cell_type": "markdown",
   "metadata": {},
   "source": [
    "### Ejercicio 17: Cuadrados con List Comprehension 🟡\n",
    "\n",
    "Crea una lista con los cuadrados de los números del 1 al 10 usando list comprehension.\n",
    "\n",
    "**Salida esperada:**\n",
    "```\n",
    "[1, 4, 9, 16, 25, 36, 49, 64, 81, 100]\n",
    "```"
   ]
  },
  {
   "cell_type": "code",
   "execution_count": null,
   "metadata": {},
   "outputs": [],
   "source": [
    "# Escribe tu código aquí\n"
   ]
  },
  {
   "cell_type": "markdown",
   "metadata": {},
   "source": [
    "### Ejercicio 18: Pares con List Comprehension 🟡\n",
    "\n",
    "Crea una lista con solo los números pares del 1 al 20 usando list comprehension.\n",
    "\n",
    "**Salida esperada:**\n",
    "```\n",
    "[2, 4, 6, 8, 10, 12, 14, 16, 18, 20]\n",
    "```"
   ]
  },
  {
   "cell_type": "code",
   "execution_count": null,
   "metadata": {},
   "outputs": [],
   "source": [
    "# Escribe tu código aquí\n"
   ]
  },
  {
   "cell_type": "markdown",
   "metadata": {},
   "source": [
    "### Ejercicio 19: Convertir a Mayúsculas 🟡\n",
    "\n",
    "Dada la lista `palabras = ['python', 'java', 'javascript', 'ruby']`, crea una nueva lista con todas las palabras en mayúsculas usando list comprehension."
   ]
  },
  {
   "cell_type": "code",
   "execution_count": null,
   "metadata": {},
   "outputs": [],
   "source": [
    "# Escribe tu código aquí\n",
    "palabras = ['python', 'java', 'javascript', 'ruby']\n",
    "\n"
   ]
  },
  {
   "cell_type": "markdown",
   "metadata": {},
   "source": [
    "### Ejercicio 20: Filtrar Palabras Largas 🔴\n",
    "\n",
    "Dada la lista `palabras = ['el', 'programación', 'es', 'divertida', 'y', 'útil']`, crea una nueva lista solo con las palabras que tengan más de 3 letras, convertidas a mayúsculas.\n",
    "\n",
    "**Salida esperada:**\n",
    "```\n",
    "['PROGRAMACIÓN', 'DIVERTIDA', 'ÚTIL']\n",
    "```"
   ]
  },
  {
   "cell_type": "code",
   "execution_count": null,
   "metadata": {},
   "outputs": [],
   "source": [
    "# Escribe tu código aquí\n",
    "palabras = ['el', 'programación', 'es', 'divertida', 'y', 'útil']\n",
    "\n"
   ]
  },
  {
   "cell_type": "markdown",
   "metadata": {},
   "source": [
    "---\n",
    "## Bloque 6: Funciones Útiles"
   ]
  },
  {
   "cell_type": "markdown",
   "metadata": {},
   "source": [
    "### Ejercicio 21: len(), min(), max(), sum() 🟢\n",
    "\n",
    "Dada la lista `temperaturas = [22, 25, 19, 27, 23, 21, 26]`, calcula:\n",
    "1. Número de días (longitud de la lista)\n",
    "2. Temperatura mínima\n",
    "3. Temperatura máxima\n",
    "4. Temperatura promedio"
   ]
  },
  {
   "cell_type": "code",
   "execution_count": null,
   "metadata": {},
   "outputs": [],
   "source": [
    "# Escribe tu código aquí\n",
    "temperaturas = [22, 25, 19, 27, 23, 21, 26]\n",
    "\n"
   ]
  },
  {
   "cell_type": "markdown",
   "metadata": {},
   "source": [
    "### Ejercicio 22: Verificar Pertenencia con 'in' 🟢\n",
    "\n",
    "Dada la lista `invitados = ['Ana', 'Juan', 'María', 'Carlos', 'Lucía']`:\n",
    "1. Pide un nombre al usuario\n",
    "2. Verifica si está en la lista\n",
    "3. Imprime un mensaje apropiado"
   ]
  },
  {
   "cell_type": "code",
   "execution_count": null,
   "metadata": {},
   "outputs": [],
   "source": [
    "# Escribe tu código aquí\n",
    "invitados = ['Ana', 'Juan', 'María', 'Carlos', 'Lucía']\n",
    "\n"
   ]
  },
  {
   "cell_type": "markdown",
   "metadata": {},
   "source": [
    "---\n",
    "## Bloque 7: Listas Multidimensionales"
   ]
  },
  {
   "cell_type": "markdown",
   "metadata": {},
   "source": [
    "### Ejercicio 23: Crear una Matriz 🟡\n",
    "\n",
    "Crea una matriz 3x3 (lista de listas) con los números del 1 al 9 e imprímela de forma ordenada.\n",
    "\n",
    "**Salida esperada:**\n",
    "```\n",
    "1 2 3\n",
    "4 5 6\n",
    "7 8 9\n",
    "```"
   ]
  },
  {
   "cell_type": "code",
   "execution_count": null,
   "metadata": {},
   "outputs": [],
   "source": [
    "# Escribe tu código aquí\n"
   ]
  },
  {
   "cell_type": "markdown",
   "metadata": {},
   "source": [
    "### Ejercicio 24: Acceder a Elementos de Matriz 🟡\n",
    "\n",
    "Dada la matriz:\n",
    "```python\n",
    "matriz = [\n",
    "    [1, 2, 3],\n",
    "    [4, 5, 6],\n",
    "    [7, 8, 9]\n",
    "]\n",
    "```\n",
    "Imprime:\n",
    "1. El elemento en la fila 1, columna 2\n",
    "2. Toda la segunda fila\n",
    "3. El elemento central (5)"
   ]
  },
  {
   "cell_type": "code",
   "execution_count": null,
   "metadata": {},
   "outputs": [],
   "source": [
    "# Escribe tu código aquí\n",
    "matriz = [\n",
    "    [1, 2, 3],\n",
    "    [4, 5, 6],\n",
    "    [7, 8, 9]\n",
    "]\n",
    "\n"
   ]
  },
  {
   "cell_type": "markdown",
   "metadata": {},
   "source": [
    "### Ejercicio 25: Suma de Filas 🔴\n",
    "\n",
    "Dada la matriz:\n",
    "```python\n",
    "ventas = [\n",
    "    [100, 150, 200],  # Semana 1\n",
    "    [120, 180, 220],  # Semana 2\n",
    "    [110, 160, 210]   # Semana 3\n",
    "]\n",
    "```\n",
    "Calcula e imprime la suma de cada fila (total por semana)."
   ]
  },
  {
   "cell_type": "code",
   "execution_count": null,
   "metadata": {},
   "outputs": [],
   "source": [
    "# Escribe tu código aquí\n",
    "ventas = [\n",
    "    [100, 150, 200],\n",
    "    [120, 180, 220],\n",
    "    [110, 160, 210]\n",
    "]\n",
    "\n"
   ]
  },
  {
   "cell_type": "markdown",
   "metadata": {},
   "source": [
    "---\n",
    "## Bloque 8: Tuplas"
   ]
  },
  {
   "cell_type": "markdown",
   "metadata": {},
   "source": [
    "### Ejercicio 26: Crear una Tupla 🟢\n",
    "\n",
    "Crea una tupla con las coordenadas (x, y, z) = (10, 20, 30) e imprime:\n",
    "1. La tupla completa\n",
    "2. El valor de x\n",
    "3. El valor de z"
   ]
  },
  {
   "cell_type": "code",
   "execution_count": null,
   "metadata": {},
   "outputs": [],
   "source": [
    "# Escribe tu código aquí\n"
   ]
  },
  {
   "cell_type": "markdown",
   "metadata": {},
   "source": [
    "### Ejercicio 27: Tuplas son Inmutables 🟢\n",
    "\n",
    "Crea una tupla `colores = ('rojo', 'verde', 'azul')` e intenta cambiar el primer elemento a 'amarillo'. Observa el error y comenta por qué sucede."
   ]
  },
  {
   "cell_type": "code",
   "execution_count": null,
   "metadata": {},
   "outputs": [],
   "source": [
    "# Escribe tu código aquí\n",
    "colores = ('rojo', 'verde', 'azul')\n",
    "\n",
    "# Intenta modificar:\n",
    "# colores[0] = 'amarillo'\n",
    "\n",
    "# Explica el error:\n"
   ]
  },
  {
   "cell_type": "markdown",
   "metadata": {},
   "source": [
    "### Ejercicio 28: Desempaquetar Tuplas 🟡\n",
    "\n",
    "Dada la tupla `persona = ('Juan', 25, 'España')`, desempaquétala en tres variables: nombre, edad y país. Imprime cada variable."
   ]
  },
  {
   "cell_type": "code",
   "execution_count": null,
   "metadata": {},
   "outputs": [],
   "source": [
    "# Escribe tu código aquí\n",
    "persona = ('Juan', 25, 'España')\n",
    "\n"
   ]
  },
  {
   "cell_type": "markdown",
   "metadata": {},
   "source": [
    "### Ejercicio 29: Intercambiar Valores 🟡\n",
    "\n",
    "Dadas las variables `a = 10` y `b = 20`, intercambia sus valores usando tuplas en una sola línea."
   ]
  },
  {
   "cell_type": "code",
   "execution_count": null,
   "metadata": {},
   "outputs": [],
   "source": [
    "# Escribe tu código aquí\n",
    "a = 10\n",
    "b = 20\n",
    "\n",
    "print(f\"Antes: a={a}, b={b}\")\n",
    "\n",
    "# Intercambio aquí\n",
    "\n",
    "print(f\"Después: a={a}, b={b}\")"
   ]
  },
  {
   "cell_type": "markdown",
   "metadata": {},
   "source": [
    "### Ejercicio 30: count() e index() en Tuplas 🟢\n",
    "\n",
    "Dada la tupla `numeros = (1, 2, 3, 2, 4, 2, 5)`:\n",
    "1. Cuenta cuántas veces aparece el 2\n",
    "2. Encuentra la posición del primer 4"
   ]
  },
  {
   "cell_type": "code",
   "execution_count": null,
   "metadata": {},
   "outputs": [],
   "source": [
    "# Escribe tu código aquí\n",
    "numeros = (1, 2, 3, 2, 4, 2, 5)\n",
    "\n"
   ]
  },
  {
   "cell_type": "markdown",
   "metadata": {},
   "source": [
    "---\n",
    "## Bloque 9: Ejercicios de Aplicación Práctica"
   ]
  },
  {
   "cell_type": "markdown",
   "metadata": {},
   "source": [
    "### Ejercicio 31: Gestión de Tareas 🟡\n",
    "\n",
    "Crea un programa que:\n",
    "1. Tenga una lista vacía de tareas\n",
    "2. Permita agregar tareas\n",
    "3. Permita ver todas las tareas\n",
    "4. Permita marcar una tarea como completada (eliminarla)\n",
    "5. Tenga un menú que se repita hasta que el usuario elija salir"
   ]
  },
  {
   "cell_type": "code",
   "execution_count": null,
   "metadata": {},
   "outputs": [],
   "source": [
    "# Escribe tu código aquí\n"
   ]
  },
  {
   "cell_type": "markdown",
   "metadata": {},
   "source": [
    "### Ejercicio 32: Estadísticas de Notas 🔴\n",
    "\n",
    "Pide al usuario que introduzca notas (termina cuando ingrese -1). Luego calcula y muestra:\n",
    "1. Número de notas introducidas\n",
    "2. Promedio\n",
    "3. Nota más alta y más baja\n",
    "4. Número de aprobados (>=5)\n",
    "5. Número de sobresalientes (>=9)\n",
    "6. Lista de notas ordenadas de mayor a menor"
   ]
  },
  {
   "cell_type": "code",
   "execution_count": null,
   "metadata": {},
   "outputs": [],
   "source": [
    "# Escribe tu código aquí\n"
   ]
  },
  {
   "cell_type": "markdown",
   "metadata": {},
   "source": [
    "### Ejercicio 33: Eliminador de Duplicados 🟡\n",
    "\n",
    "Crea una función que elimine los duplicados de una lista manteniendo el orden original.\n",
    "\n",
    "**Ejemplo:**\n",
    "```python\n",
    "lista = [1, 2, 3, 2, 4, 1, 5, 3]\n",
    "sin_duplicados = eliminar_duplicados(lista)\n",
    "print(sin_duplicados)  # [1, 2, 3, 4, 5]\n",
    "```\n",
    "\n",
    "**Pista:** Usa una lista nueva y verifica si cada elemento ya está antes de agregarlo."
   ]
  },
  {
   "cell_type": "code",
   "execution_count": null,
   "metadata": {},
   "outputs": [],
   "source": [
    "# Escribe tu código aquí\n"
   ]
  },
  {
   "cell_type": "markdown",
   "metadata": {},
   "source": [
    "### Ejercicio 34: Encontrar Elementos Comunes 🔴\n",
    "\n",
    "Dadas dos listas, encuentra los elementos que aparecen en ambas (intersección).\n",
    "\n",
    "**Ejemplo:**\n",
    "```python\n",
    "lista1 = [1, 2, 3, 4, 5]\n",
    "lista2 = [4, 5, 6, 7, 8]\n",
    "comunes = [4, 5]\n",
    "```"
   ]
  },
  {
   "cell_type": "code",
   "execution_count": null,
   "metadata": {},
   "outputs": [],
   "source": [
    "# Escribe tu código aquí\n",
    "lista1 = [1, 2, 3, 4, 5]\n",
    "lista2 = [4, 5, 6, 7, 8]\n",
    "\n"
   ]
  },
  {
   "cell_type": "markdown",
   "metadata": {},
   "source": [
    "### Ejercicio 35: Inventario de Productos 🔴\n",
    "\n",
    "Crea un sistema de inventario que:\n",
    "1. Use una lista de tuplas: `[(nombre_producto, cantidad, precio), ...]`\n",
    "2. Permita agregar productos\n",
    "3. Permita ver todos los productos\n",
    "4. Calcule el valor total del inventario\n",
    "5. Encuentre el producto más caro\n",
    "\n",
    "**Ejemplo de estructura:**\n",
    "```python\n",
    "inventario = [\n",
    "    ('Laptop', 5, 899.99),\n",
    "    ('Mouse', 20, 25.50),\n",
    "    ('Teclado', 15, 75.00)\n",
    "]\n",
    "```"
   ]
  },
  {
   "cell_type": "code",
   "execution_count": null,
   "metadata": {},
   "outputs": [],
   "source": [
    "# Escribe tu código aquí\n"
   ]
  }
 ],
 "metadata": {
  "kernelspec": {
   "display_name": "Python 3",
   "language": "python",
   "name": "python3"
  },
  "language_info": {
   "codemirror_mode": {
    "name": "ipython",
    "version": 3
   },
   "file_extension": ".py",
   "mimetype": "text/x-python",
   "name": "python",
   "nbconvert_exporter": "python",
   "pygments_lexer": "ipython3",
   "version": "3.8.0"
  }
 },
 "nbformat": 4,
 "nbformat_minor": 4
}
