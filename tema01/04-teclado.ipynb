{
 "cells": [
  {
   "cell_type": "markdown",
   "metadata": {},
   "source": [
    "# Lección 4: Entrada de Datos por Teclado\n",
    "## Interactuando con el usuario mediante input()\n",
    "\n",
    "Una de las características fundamentales de los programas interactivos es la capacidad de **recibir datos del usuario**. En Python, utilizamos la función `input()` para leer información desde el teclado, lo que nos permite crear programas dinámicos que respondan a las necesidades específicas del usuario.\n",
    "\n",
    "En esta lección aprenderemos a capturar datos, convertir tipos y manejar errores de entrada."
   ]
  },
  {
   "cell_type": "markdown",
   "metadata": {},
   "source": [
    "## 1. La Función input(): Fundamentos\n",
    "\n",
    "La función `input()` es la herramienta principal para obtener datos del usuario en Python. **Siempre devuelve una cadena de texto** (string), independientemente de lo que el usuario escriba.\n",
    "\n",
    "**Comparación con Java:**\n",
    "- Java: Necesita `Scanner` y es más verboso\n",
    "```java\n",
    "Scanner scanner = new Scanner(System.in);\n",
    "String entrada = scanner.nextLine();\n",
    "```\n",
    "- Python: Simple y directo\n",
    "```python\n",
    "entrada = input()\n",
    "```"
   ]
  },
  {
   "cell_type": "markdown",
   "metadata": {},
   "source": [
    "### 1.1 Uso Básico de input()"
   ]
  },
  {
   "cell_type": "code",
   "execution_count": 1,
   "metadata": {},
   "outputs": [
    {
     "name": "stdout",
     "output_type": "stream",
     "text": [
      "=== USO BÁSICO DE input() ===\n",
      "\n",
      "Ejemplo 1: input() sin mensaje\n"
     ]
    },
    {
     "name": "stdout",
     "output_type": "stream",
     "text": [
      " Hola Python\n"
     ]
    },
    {
     "name": "stdout",
     "output_type": "stream",
     "text": [
      "Has escrito: 'Hola Python'\n",
      "Tipo de dato: <class 'str'>\n",
      "Longitud: 11 caracteres\n"
     ]
    }
   ],
   "source": [
    "print(\"=== USO BÁSICO DE input() ===\")\n",
    "print()\n",
    "print(\"Ejemplo 1: input() sin mensaje\")\n",
    "\n",
    "# input() básico - sin mensaje\n",
    "valor = input()\n",
    "\n",
    "# Análisis de lo que recibimos\n",
    "print(f\"Has escrito: '{valor}'\")\n",
    "print(f\"Tipo de dato: {type(valor)}\")\n",
    "print(f\"Longitud: {len(valor)} caracteres\")"
   ]
  },
  {
   "cell_type": "markdown",
   "metadata": {},
   "source": [
    "### 1.2 input() con Mensaje (Prompt)\n",
    "\n",
    "Es una buena práctica proporcionar un mensaje claro al usuario:"
   ]
  },
  {
   "cell_type": "code",
   "execution_count": 2,
   "metadata": {},
   "outputs": [
    {
     "name": "stdout",
     "output_type": "stream",
     "text": [
      "=== input() CON MENSAJES ===\n",
      "\n"
     ]
    },
    {
     "name": "stdout",
     "output_type": "stream",
     "text": [
      "👤 ¿Cuál es tu nombre?  Ana García\n"
     ]
    },
    {
     "name": "stdout",
     "output_type": "stream",
     "text": [
      "¡Hola Ana García! Bienvenido/a al programa.\n",
      "\n"
     ]
    },
    {
     "name": "stdout",
     "output_type": "stream",
     "text": [
      "🎂 ¿Cuántos años tienes?  25\n"
     ]
    },
    {
     "name": "stdout",
     "output_type": "stream",
     "text": [
      "Tu edad como texto: '25' (tipo: <class 'str'>)\n",
      "\n"
     ]
    },
    {
     "name": "stdout",
     "output_type": "stream",
     "text": [
      "🌍 ¿De qué ciudad eres?  Madrid\n"
     ]
    },
    {
     "name": "stdout",
     "output_type": "stream",
     "text": [
      "\n",
      "📋 RESUMEN DE INFORMACIÓN:\n",
      "  • Nombre: Ana García\n",
      "  • Edad: 25 (como texto)\n",
      "  • Ciudad: Madrid\n"
     ]
    }
   ],
   "source": [
    "print(\"=== input() CON MENSAJES ===\")\n",
    "print()\n",
    "\n",
    "# input() con mensaje descriptivo\n",
    "nombre = input(\"👤 ¿Cuál es tu nombre? \")\n",
    "print(f\"¡Hola {nombre}! Bienvenido/a al programa.\")\n",
    "print()\n",
    "\n",
    "# Más ejemplos con mensajes claros\n",
    "edad_texto = input(\"🎂 ¿Cuántos años tienes? \")\n",
    "print(f\"Tu edad como texto: '{edad_texto}' (tipo: {type(edad_texto)})\")\n",
    "print()\n",
    "\n",
    "ciudad = input(\"🌍 ¿De qué ciudad eres? \")\n",
    "\n",
    "# Mostrar toda la información recopilada\n",
    "print(\"\\n📋 RESUMEN DE INFORMACIÓN:\")\n",
    "print(f\"  • Nombre: {nombre}\")\n",
    "print(f\"  • Edad: {edad_texto} (como texto)\")\n",
    "print(f\"  • Ciudad: {ciudad}\")"
   ]
  },
  {
   "cell_type": "markdown",
   "metadata": {},
   "source": [
    "### 1.3 Problema: Todo es Texto\n",
    "\n",
    "El principal desafío con `input()` es que **siempre devuelve cadenas de texto**, incluso cuando el usuario escribe números:"
   ]
  },
  {
   "cell_type": "code",
   "execution_count": 3,
   "metadata": {},
   "outputs": [
    {
     "name": "stdout",
     "output_type": "stream",
     "text": [
      "=== PROBLEMA: TODO ES TEXTO ===\n",
      "\n"
     ]
    },
    {
     "name": "stdout",
     "output_type": "stream",
     "text": [
      "Escribe el número 100:  100\n"
     ]
    },
    {
     "name": "stdout",
     "output_type": "stream",
     "text": [
      "Lo que escribiste: '100'\n",
      "Tipo de dato: <class 'str'>\n",
      "¿Es igual al número 100? False\n",
      "¿Es igual al texto '100'? True\n",
      "\n",
      "Intentando operaciones matemáticas:\n"
     ]
    },
    {
     "name": "stdout",
     "output_type": "stream",
     "text": [
      "Escribe otro número:  50\n"
     ]
    },
    {
     "name": "stdout",
     "output_type": "stream",
     "text": [
      "\n",
      "❌ ERRORES COMUNES:\n",
      "1. Concatenación en lugar de suma:\n",
      "   '100' + '50' = '10050'\n",
      "\n",
      "2. Error al intentar sumar texto con número:\n",
      "   Error: can only concatenate str (not \"int\") to str\n",
      "\n",
      "3. Error al intentar multiplicar texto por texto:\n",
      "   Error: can't multiply sequence by non-int of type 'str'\n"
     ]
    }
   ],
   "source": [
    "print(\"=== PROBLEMA: TODO ES TEXTO ===\")\n",
    "print()\n",
    "\n",
    "# El usuario escribe un número, pero se guarda como texto\n",
    "numero_texto = input(\"Escribe el número 100: \")\n",
    "\n",
    "print(f\"Lo que escribiste: '{numero_texto}'\")\n",
    "print(f\"Tipo de dato: {type(numero_texto)}\")\n",
    "print(f\"¿Es igual al número 100? {numero_texto == 100}\")\n",
    "print(f\"¿Es igual al texto '100'? {numero_texto == '100'}\")\n",
    "print()\n",
    "\n",
    "print(\"Intentando operaciones matemáticas:\")\n",
    "otro_numero = input(\"Escribe otro número: \")\n",
    "\n",
    "print(\"\\n❌ ERRORES COMUNES:\")\n",
    "print(\"1. Concatenación en lugar de suma:\")\n",
    "resultado_texto = numero_texto + otro_numero\n",
    "print(f\"   '{numero_texto}' + '{otro_numero}' = '{resultado_texto}'\")\n",
    "print()\n",
    "\n",
    "print(\"2. Error al intentar sumar texto con número:\")\n",
    "try:\n",
    "    resultado_error = numero_texto + 10\n",
    "except TypeError as e:\n",
    "    print(f\"   Error: {e}\")\n",
    "print()\n",
    "\n",
    "print(\"3. Error al intentar multiplicar texto por texto:\")\n",
    "try:\n",
    "    resultado_error = numero_texto * otro_numero\n",
    "except TypeError as e:\n",
    "    print(f\"   Error: {e}\")"
   ]
  },
  {
   "cell_type": "markdown",
   "metadata": {},
   "source": [
    "## 2. Conversión de Tipos (Type Casting)\n",
    "\n",
    "Para resolver el problema anterior, necesitamos **convertir las cadenas de texto a números**. Esto se llama \"casting\" o conversión de tipos."
   ]
  },
  {
   "cell_type": "markdown",
   "metadata": {},
   "source": [
    "### 2.1 Conversión a Enteros con int()\n",
    "\n",
    "La función `int()` convierte una cadena de texto a un número entero:"
   ]
  },
  {
   "cell_type": "code",
   "execution_count": 4,
   "metadata": {},
   "outputs": [
    {
     "name": "stdout",
     "output_type": "stream",
     "text": [
      "=== CONVERSIÓN A ENTEROS ===\n",
      "\n"
     ]
    },
    {
     "name": "stdout",
     "output_type": "stream",
     "text": [
      "🔢 Introduce un número entero:  42\n"
     ]
    },
    {
     "name": "stdout",
     "output_type": "stream",
     "text": [
      "\n",
      "ANTES de la conversión:\n",
      "  Valor: '42'\n",
      "  Tipo: <class 'str'>\n",
      "  Es texto: True\n",
      "\n",
      "DESPUÉS de int():\n",
      "  Valor: 42\n",
      "  Tipo: <class 'int'>\n",
      "  Es número: True\n",
      "\n",
      "✅ OPERACIONES EXITOSAS:\n",
      "  42 + 58 = 100\n",
      "  42 * 2 = 84\n",
      "  42 ** 2 = 1764\n",
      "  42 // 5 = 8 (división entera)\n",
      "  42 % 5 = 2 (resto)\n"
     ]
    }
   ],
   "source": [
    "print(\"=== CONVERSIÓN A ENTEROS ===\")\n",
    "print()\n",
    "\n",
    "# Obtener entrada como texto\n",
    "entrada_texto = input(\"🔢 Introduce un número entero: \")\n",
    "\n",
    "print(\"\\nANTES de la conversión:\")\n",
    "print(f\"  Valor: '{entrada_texto}'\")\n",
    "print(f\"  Tipo: {type(entrada_texto)}\")\n",
    "print(f\"  Es texto: {isinstance(entrada_texto, str)}\")\n",
    "\n",
    "# Convertir a entero\n",
    "numero_entero = int(entrada_texto)\n",
    "\n",
    "print(\"\\nDESPUÉS de int():\")\n",
    "print(f\"  Valor: {numero_entero}\")\n",
    "print(f\"  Tipo: {type(numero_entero)}\")\n",
    "print(f\"  Es número: {isinstance(numero_entero, int)}\")\n",
    "\n",
    "# Ahora podemos hacer operaciones matemáticas\n",
    "print(\"\\n✅ OPERACIONES EXITOSAS:\")\n",
    "print(f\"  {numero_entero} + 58 = {numero_entero + 58}\")\n",
    "print(f\"  {numero_entero} * 2 = {numero_entero * 2}\")\n",
    "print(f\"  {numero_entero} ** 2 = {numero_entero ** 2}\")\n",
    "print(f\"  {numero_entero} // 5 = {numero_entero // 5} (división entera)\")\n",
    "print(f\"  {numero_entero} % 5 = {numero_entero % 5} (resto)\")"
   ]
  },
  {
   "cell_type": "markdown",
   "metadata": {},
   "source": [
    "### 2.2 Conversión a Decimales con float()\n",
    "\n",
    "La función `float()` convierte una cadena a un número decimal (punto flotante):"
   ]
  },
  {
   "cell_type": "code",
   "execution_count": 5,
   "metadata": {},
   "outputs": [
    {
     "name": "stdout",
     "output_type": "stream",
     "text": [
      "=== CONVERSIÓN A DECIMALES ===\n",
      "\n"
     ]
    },
    {
     "name": "stdout",
     "output_type": "stream",
     "text": [
      "💰 Introduce un precio (puede tener decimales):  19.99\n"
     ]
    },
    {
     "name": "stdout",
     "output_type": "stream",
     "text": [
      "\n",
      "ANÁLISIS DE LA CONVERSIÓN:\n",
      "  Entrada original: '19.99' (str)\n",
      "  Después de float(): 19.99 (float)\n",
      "\n",
      "💡 VENTAJA: float() acepta enteros y decimales:\n"
     ]
    },
    {
     "name": "stdout",
     "output_type": "stream",
     "text": [
      "Introduce otro número (entero o decimal):  25\n"
     ]
    },
    {
     "name": "stdout",
     "output_type": "stream",
     "text": [
      "  '25' → 25.0 (se convierte a decimal automáticamente)\n",
      "\n",
      "🧮 CÁLCULOS CON DECIMALES:\n",
      "  Precio: $19.99\n",
      "  Cantidad: 25.0\n",
      "  Total: $499.75\n",
      "  Con descuento del 10%: $449.77\n",
      "  IVA (21%): $94.45\n",
      "  Total final: $544.23\n"
     ]
    }
   ],
   "source": [
    "print(\"=== CONVERSIÓN A DECIMALES ===\")\n",
    "print()\n",
    "\n",
    "# Obtener un precio con decimales\n",
    "precio_texto = input(\"💰 Introduce un precio (puede tener decimales): \")\n",
    "precio = float(precio_texto)\n",
    "\n",
    "print(\"\\nANÁLISIS DE LA CONVERSIÓN:\")\n",
    "print(f\"  Entrada original: '{precio_texto}' ({type(precio_texto).__name__})\")\n",
    "print(f\"  Después de float(): {precio} ({type(precio).__name__})\")\n",
    "\n",
    "# float() también funciona con números enteros\n",
    "print(\"\\n💡 VENTAJA: float() acepta enteros y decimales:\")\n",
    "cantidad_texto = input(\"Introduce otro número (entero o decimal): \")\n",
    "cantidad = float(cantidad_texto)\n",
    "print(f\"  '{cantidad_texto}' → {cantidad} (se convierte a decimal automáticamente)\")\n",
    "\n",
    "# Cálculos prácticos\n",
    "print(\"\\n🧮 CÁLCULOS CON DECIMALES:\")\n",
    "total = precio * cantidad\n",
    "descuento = total * 0.10\n",
    "total_con_descuento = total - descuento\n",
    "iva = total_con_descuento * 0.21\n",
    "total_final = total_con_descuento + iva\n",
    "\n",
    "print(f\"  Precio: ${precio}\")\n",
    "print(f\"  Cantidad: {cantidad}\")\n",
    "print(f\"  Total: ${total:.2f}\")\n",
    "print(f\"  Con descuento del 10%: ${total_con_descuento:.2f}\")\n",
    "print(f\"  IVA (21%): ${iva:.2f}\")\n",
    "print(f\"  Total final: ${total_final:.2f}\")"
   ]
  },
  {
   "cell_type": "markdown",
   "metadata": {},
   "source": [
    "### 2.3 Conversión Directa: Combinando input() con int() o float()\n",
    "\n",
    "Podemos combinar la entrada y conversión en una sola línea:"
   ]
  },
  {
   "cell_type": "code",
   "execution_count": 6,
   "metadata": {},
   "outputs": [
    {
     "name": "stdout",
     "output_type": "stream",
     "text": [
      "=== CONVERSIÓN DIRECTA ===\n",
      "\n",
      "Método tradicional (dos pasos):\n"
     ]
    },
    {
     "name": "stdout",
     "output_type": "stream",
     "text": [
      "Introduce tu edad:  28\n"
     ]
    },
    {
     "name": "stdout",
     "output_type": "stream",
     "text": [
      "\n",
      "Método directo (un paso):\n"
     ]
    },
    {
     "name": "stdout",
     "output_type": "stream",
     "text": [
      "Introduce el año actual:  2024\n",
      "Introduce tu altura en metros:  1.75\n",
      "Introduce tu peso en kg:  70.5\n"
     ]
    },
    {
     "name": "stdout",
     "output_type": "stream",
     "text": [
      "\n",
      "📊 CÁLCULOS AUTOMÁTICOS:\n",
      "  Año de nacimiento: 1996\n",
      "  IMC: 23.02 (peso normal)\n",
      "  En 10 años tendrás: 38 años\n",
      "\n",
      "🔍 VERIFICACIÓN DE TIPOS:\n",
      "  edad: <class 'int'>\n",
      "  año: <class 'int'>\n",
      "  altura: <class 'float'>\n",
      "  peso: <class 'float'>\n"
     ]
    }
   ],
   "source": [
    "print(\"=== CONVERSIÓN DIRECTA ===\")\n",
    "print()\n",
    "\n",
    "# Método tradicional (dos pasos)\n",
    "print(\"Método tradicional (dos pasos):\")\n",
    "edad_texto = input(\"Introduce tu edad: \")\n",
    "edad = int(edad_texto)\n",
    "\n",
    "print(\"\\nMétodo directo (un paso):\")\n",
    "# Método directo (recomendado)\n",
    "año = int(input(\"Introduce el año actual: \"))\n",
    "altura = float(input(\"Introduce tu altura en metros: \"))\n",
    "peso = float(input(\"Introduce tu peso en kg: \"))\n",
    "\n",
    "# Cálculos automáticos\n",
    "año_nacimiento = año - edad\n",
    "imc = peso / (altura ** 2)\n",
    "edad_futura = edad + 10\n",
    "\n",
    "# Determinar estado del IMC\n",
    "if imc < 18.5:\n",
    "    estado_imc = \"bajo peso\"\n",
    "elif imc < 25:\n",
    "    estado_imc = \"peso normal\"\n",
    "elif imc < 30:\n",
    "    estado_imc = \"sobrepeso\"\n",
    "else:\n",
    "    estado_imc = \"obesidad\"\n",
    "\n",
    "print(\"\\n📊 CÁLCULOS AUTOMÁTICOS:\")\n",
    "print(f\"  Año de nacimiento: {año_nacimiento}\")\n",
    "print(f\"  IMC: {imc:.2f} ({estado_imc})\")\n",
    "print(f\"  En 10 años tendrás: {edad_futura} años\")\n",
    "\n",
    "print(\"\\n🔍 VERIFICACIÓN DE TIPOS:\")\n",
    "print(f\"  edad: {type(edad)}\")\n",
    "print(f\"  año: {type(año)}\")\n",
    "print(f\"  altura: {type(altura)}\")\n",
    "print(f\"  peso: {type(peso)}\")"
   ]
  },
  {
   "cell_type": "markdown",
   "metadata": {},
   "source": [
    "## 3. Manejo de Errores en la Entrada\n",
    "\n",
    "¿Qué pasa si el usuario introduce datos incorrectos? Necesitamos manejar estos errores de forma elegante."
   ]
  },
  {
   "cell_type": "markdown",
   "metadata": {},
   "source": [
    "### 3.1 Errores Comunes y sus Causas"
   ]
  },
  {
   "cell_type": "code",
   "execution_count": 7,
   "metadata": {},
   "outputs": [
    {
     "name": "stdout",
     "output_type": "stream",
     "text": [
      "=== ERRORES COMUNES EN CONVERSIÓN ===\n",
      "\n",
      "Demostración de errores típicos:\n",
      "\n",
      "1. ❌ Convertir texto a entero:\n",
      "   int('abc') → Error: invalid literal for int() with base 10: 'abc'\n",
      "\n",
      "2. ❌ Convertir número con decimales a int():\n",
      "   int('3.14') → Error: invalid literal for int() with base 10: '3.14'\n",
      "\n",
      "3. ❌ Cadena vacía:\n",
      "   int('') → Error: invalid literal for int() with base 10: \n",
      "\n",
      "4. ❌ Espacios y caracteres especiales:\n",
      "   int(' 123 ') → ¡Funciona! Python ignora espacios: 123\n",
      "   int('123abc') → Error: invalid literal for int() with base 10: '123abc'\n",
      "\n",
      "5. ❌ Diferentes formatos de números:\n",
      "   int('1,234') → Error: invalid literal for int() with base 10: '1,234'\n",
      "   float('1,234') → Error: could not convert string to float: 1,234\n"
     ]
    }
   ],
   "source": [
    "print(\"=== ERRORES COMUNES EN CONVERSIÓN ===\")\n",
    "print()\n",
    "print(\"Demostración de errores típicos:\")\n",
    "print()\n",
    "\n",
    "# Lista de casos problemáticos\n",
    "casos_problema = [\n",
    "    (\"1. ❌ Convertir texto a entero:\", \"abc\", int),\n",
    "    (\"2. ❌ Convertir número con decimales a int():\", \"3.14\", int),\n",
    "    (\"3. ❌ Cadena vacía:\", \"\", int),\n",
    "    (\"4. ❌ Espacios y caracteres especiales:\", \" 123 \", int),\n",
    "    (\"   \", \"123abc\", int),\n",
    "    (\"5. ❌ Diferentes formatos de números:\", \"1,234\", int),\n",
    "    (\"   \", \"1,234\", float)\n",
    "]\n",
    "\n",
    "for descripcion, valor, funcion in casos_problema:\n",
    "    if descripcion.strip():  # Solo mostrar descripciones no vacías\n",
    "        print(descripcion)\n",
    "    \n",
    "    try:\n",
    "        resultado = funcion(valor)\n",
    "        print(f\"   {funcion.__name__}('{valor}') → ¡Funciona! Python ignora espacios: {resultado}\")\n",
    "    except ValueError as e:\n",
    "        print(f\"   {funcion.__name__}('{valor}') → Error: {e}\")\n",
    "    print()"
   ]
  },
  {
   "cell_type": "markdown",
   "metadata": {},
   "source": [
    "### 3.2 Validación Básica con try-except\n",
    "\n",
    "Podemos usar bloques `try-except` para manejar errores de conversión:"
   ]
  },
  {
   "cell_type": "code",
   "execution_count": 8,
   "metadata": {},
   "outputs": [
    {
     "name": "stdout",
     "output_type": "stream",
     "text": [
      "=== VALIDACIÓN CON try-except ===\n",
      "\n",
      "🧮 CALCULADORA SIMPLE CON VALIDACIÓN\n"
     ]
    },
    {
     "name": "stdout",
     "output_type": "stream",
     "text": [
      "Introduce el primer número:  abc\n"
     ]
    },
    {
     "name": "stdout",
     "output_type": "stream",
     "text": [
      "❌ Error: 'abc' no es un número válido.\n",
      "   Detalle técnico: invalid literal for int() with base 10: 'abc'\n"
     ]
    },
    {
     "name": "stdout",
     "output_type": "stream",
     "text": [
      "Introduce el primer número:  15\n"
     ]
    },
    {
     "name": "stdout",
     "output_type": "stream",
     "text": [
      "✅ Primer número aceptado: 15\n"
     ]
    },
    {
     "name": "stdout",
     "output_type": "stream",
     "text": [
      "Introduce el segundo número:  3.14\n"
     ]
    },
    {
     "name": "stdout",
     "output_type": "stream",
     "text": [
      "❌ Error: '3.14' no es un número entero válido.\n",
      "   Detalle técnico: invalid literal for int() with base 10: '3.14'\n"
     ]
    },
    {
     "name": "stdout",
     "output_type": "stream",
     "text": [
      "Introduce el segundo número:  7\n"
     ]
    },
    {
     "name": "stdout",
     "output_type": "stream",
     "text": [
      "✅ Segundo número aceptado: 7\n",
      "\n",
      "🎉 RESULTADOS:\n",
      "  15 + 7 = 22\n",
      "  15 - 7 = 8\n",
      "  15 × 7 = 105\n",
      "  15 ÷ 7 = 2.14\n"
     ]
    }
   ],
   "source": [
    "print(\"=== VALIDACIÓN CON try-except ===\")\n",
    "print()\n",
    "print(\"🧮 CALCULADORA SIMPLE CON VALIDACIÓN\")\n",
    "\n",
    "def obtener_numero_entero(mensaje):\n",
    "    \"\"\"Función que solicita un número entero válido al usuario\"\"\"\n",
    "    while True:\n",
    "        entrada = input(mensaje)\n",
    "        try:\n",
    "            numero = int(entrada)\n",
    "            print(f\"✅ Primer número aceptado: {numero}\" if \"primer\" in mensaje.lower() else f\"✅ Segundo número aceptado: {numero}\")\n",
    "            return numero\n",
    "        except ValueError as e:\n",
    "            print(f\"❌ Error: '{entrada}' no es un número {'entero ' if 'int' in str(e) else ''}válido.\")\n",
    "            print(f\"   Detalle técnico: {e}\")\n",
    "\n",
    "# Solicitar números con validación\n",
    "numero1 = obtener_numero_entero(\"Introduce el primer número: \")\n",
    "numero2 = obtener_numero_entero(\"Introduce el segundo número: \")\n",
    "\n",
    "# Realizar cálculos\n",
    "print(\"\\n🎉 RESULTADOS:\")\n",
    "print(f\"  {numero1} + {numero2} = {numero1 + numero2}\")\n",
    "print(f\"  {numero1} - {numero2} = {numero1 - numero2}\")\n",
    "print(f\"  {numero1} × {numero2} = {numero1 * numero2}\")\n",
    "print(f\"  {numero1} ÷ {numero2} = {numero1 / numero2:.2f}\")"
   ]
  },
  {
   "cell_type": "markdown",
   "metadata": {},
   "source": [
    "### 3.3 Validación Avanzada con Múltiples Condiciones"
   ]
  },
  {
   "cell_type": "code",
   "execution_count": 9,
   "metadata": {},
   "outputs": [
    {
     "name": "stdout",
     "output_type": "stream",
     "text": [
      "=== VALIDACIÓN AVANZADA ===\n",
      "\n",
      "🎯 SISTEMA DE VALIDACIÓN INTELIGENTE\n"
     ]
    },
    {
     "name": "stdout",
     "output_type": "stream",
     "text": [
      "📅 Introduce tu año de nacimiento (1900-2024):  1985\n"
     ]
    },
    {
     "name": "stdout",
     "output_type": "stream",
     "text": [
      "✅ Año válido: 1985\n"
     ]
    },
    {
     "name": "stdout",
     "output_type": "stream",
     "text": [
      "💰 Introduce tu salario mensual (mayor a 0):  -500\n"
     ]
    },
    {
     "name": "stdout",
     "output_type": "stream",
     "text": [
      "❌ Error: El salario debe ser mayor que 0. Recibido: -500.0\n"
     ]
    },
    {
     "name": "stdout",
     "output_type": "stream",
     "text": [
      "💰 Introduce tu salario mensual (mayor a 0):  2500.50\n"
     ]
    },
    {
     "name": "stdout",
     "output_type": "stream",
     "text": [
      "✅ Salario válido: 2500.5\n"
     ]
    },
    {
     "name": "stdout",
     "output_type": "stream",
     "text": [
      "⭐ Califica nuestro servicio (1-10):  11\n"
     ]
    },
    {
     "name": "stdout",
     "output_type": "stream",
     "text": [
      "❌ Error: La calificación debe estar entre 1 y 10. Recibido: 11\n"
     ]
    },
    {
     "name": "stdout",
     "output_type": "stream",
     "text": [
      "⭐ Califica nuestro servicio (1-10):  8\n"
     ]
    },
    {
     "name": "stdout",
     "output_type": "stream",
     "text": [
      "✅ Calificación válida: 8\n",
      "\n",
      "📊 RESUMEN DE DATOS VALIDADOS:\n",
      "  • Año de nacimiento: 1985 → Edad aproximada: 39 años\n",
      "  • Salario mensual: $2,500.50\n",
      "  • Salario anual: $30,006.00\n",
      "  • Calificación del servicio: 8/10 (¡Excelente!)\n"
     ]
    }
   ],
   "source": [
    "print(\"=== VALIDACIÓN AVANZADA ===\")\n",
    "print()\n",
    "print(\"🎯 SISTEMA DE VALIDACIÓN INTELIGENTE\")\n",
    "\n",
    "def obtener_año_nacimiento():\n",
    "    \"\"\"Solicita y valida un año de nacimiento\"\"\"\n",
    "    while True:\n",
    "        try:\n",
    "            año = int(input(\"📅 Introduce tu año de nacimiento (1900-2024): \"))\n",
    "            if 1900 <= año <= 2024:\n",
    "                print(f\"✅ Año válido: {año}\")\n",
    "                return año\n",
    "            else:\n",
    "                print(f\"❌ Error: El año debe estar entre 1900 y 2024. Recibido: {año}\")\n",
    "        except ValueError:\n",
    "            print(\"❌ Error: Por favor introduce un año válido (números enteros únicamente).\")\n",
    "\n",
    "def obtener_salario():\n",
    "    \"\"\"Solicita y valida un salario\"\"\"\n",
    "    while True:\n",
    "        try:\n",
    "            salario = float(input(\"💰 Introduce tu salario mensual (mayor a 0): \"))\n",
    "            if salario > 0:\n",
    "                print(f\"✅ Salario válido: {salario}\")\n",
    "                return salario\n",
    "            else:\n",
    "                print(f\"❌ Error: El salario debe ser mayor que 0. Recibido: {salario}\")\n",
    "        except ValueError:\n",
    "            print(\"❌ Error: Por favor introduce un número válido para el salario.\")\n",
    "\n",
    "def obtener_calificacion():\n",
    "    \"\"\"Solicita y valida una calificación del 1 al 10\"\"\"\n",
    "    while True:\n",
    "        try:\n",
    "            calificacion = int(input(\"⭐ Califica nuestro servicio (1-10): \"))\n",
    "            if 1 <= calificacion <= 10:\n",
    "                print(f\"✅ Calificación válida: {calificacion}\")\n",
    "                return calificacion\n",
    "            else:\n",
    "                print(f\"❌ Error: La calificación debe estar entre 1 y 10. Recibido: {calificacion}\")\n",
    "        except ValueError:\n",
    "            print(\"❌ Error: Por favor introduce un número entero del 1 al 10.\")\n",
    "\n",
    "# Recopilar datos validados\n",
    "año_nacimiento = obtener_año_nacimiento()\n",
    "salario = obtener_salario()\n",
    "calificacion = obtener_calificacion()\n",
    "\n",
    "# Cálculos y análisis\n",
    "edad_aproximada = 2024 - año_nacimiento\n",
    "salario_anual = salario * 12\n",
    "\n",
    "# Interpretar calificación\n",
    "if calificacion >= 9:\n",
    "    interpretacion = \"¡Excepcional!\"\n",
    "elif calificacion >= 7:\n",
    "    interpretacion = \"¡Excelente!\"\n",
    "elif calificacion >= 5:\n",
    "    interpretacion = \"Bueno\"\n",
    "else:\n",
    "    interpretacion = \"Necesita mejorar\"\n",
    "\n",
    "print(\"\\n📊 RESUMEN DE DATOS VALIDADOS:\")\n",
    "print(f\"  • Año de nacimiento: {año_nacimiento} → Edad aproximada: {edad_aproximada} años\")\n",
    "print(f\"  • Salario mensual: ${salario:,.2f}\")\n",
    "print(f\"  • Salario anual: ${salario_anual:,.2f}\")\n",
    "print(f\"  • Calificación del servicio: {calificacion}/10 ({interpretacion})\")"
   ]
  },
  {
   "cell_type": "markdown",
   "metadata": {},
   "source": [
    "## 4. Otras Conversiones de Tipos\n",
    "\n",
    "Además de `int()` y `float()`, Python ofrece otras funciones de conversión útiles:"
   ]
  },
  {
   "cell_type": "code",
   "execution_count": 10,
   "metadata": {},
   "outputs": [
    {
     "name": "stdout",
     "output_type": "stream",
     "text": [
      "=== OTRAS CONVERSIONES DE TIPOS ===\n",
      "\n",
      "1. 📝 CONVERSIÓN A CADENA - str():\n"
     ]
    },
    {
     "name": "stdout",
     "output_type": "stream",
     "text": [
      "   Introduce un número para convertir a texto:  42\n"
     ]
    },
    {
     "name": "stdout",
     "output_type": "stream",
     "text": [
      "   Número: 42 (int) → Texto: '42' (str)\n",
      "   Longitud como texto: 2 caracteres\n",
      "\n",
      "2. ✅ CONVERSIÓN A BOOLEANO - bool():\n"
     ]
    },
    {
     "name": "stdout",
     "output_type": "stream",
     "text": [
      "   Escribe 'true', 'false', o cualquier texto:  false\n"
     ]
    },
    {
     "name": "stdout",
     "output_type": "stream",
     "text": [
      "   Entrada: 'false'\n",
      "   Como booleano automático: True (cualquier texto no vacío es True)\n",
      "   Interpretación manual: False\n",
      "\n",
      "3. 🔧 CONVERSIONES ESPECIALES:\n",
      "   • De decimal a entero: 3.14 → 3 (trunca, no redondea)\n",
      "   • De booleano a número: True → 1, False → 0\n",
      "   • Números en diferentes bases:\n",
      "     - Binario: '1010' → 10 (base 2)\n",
      "     - Hexadecimal: 'FF' → 255 (base 16)\n",
      "     - Octal: '77' → 63 (base 8)\n",
      "\n",
      "4. ⚠️  CASOS ESPECIALES DE bool():\n",
      "   bool('') = False (cadena vacía)\n",
      "   bool('0') = True (cadena con contenido)\n",
      "   bool('false') = True (cualquier texto es True)\n",
      "   bool(0) = False (solo el número 0 es False)\n",
      "   bool(0.0) = False (también 0.0 es False)\n",
      "   bool(-1) = True (cualquier número ≠ 0 es True)\n"
     ]
    }
   ],
   "source": [
    "print(\"=== OTRAS CONVERSIONES DE TIPOS ===\")\n",
    "print()\n",
    "\n",
    "# 1. Conversión a cadena\n",
    "print(\"1. 📝 CONVERSIÓN A CADENA - str():\")\n",
    "numero_para_texto = int(input(\"   Introduce un número para convertir a texto: \"))\n",
    "texto_resultado = str(numero_para_texto)\n",
    "print(f\"   Número: {numero_para_texto} ({type(numero_para_texto).__name__}) → Texto: '{texto_resultado}' ({type(texto_resultado).__name__})\")\n",
    "print(f\"   Longitud como texto: {len(texto_resultado)} caracteres\")\n",
    "print()\n",
    "\n",
    "# 2. Conversión a booleano\n",
    "print(\"2. ✅ CONVERSIÓN A BOOLEANO - bool():\")\n",
    "entrada_bool = input(\"   Escribe 'true', 'false', o cualquier texto: \")\n",
    "bool_automatico = bool(entrada_bool)\n",
    "\n",
    "# Interpretación manual\n",
    "if entrada_bool.lower() in ['true', 't', 'yes', 'y', '1']:\n",
    "    bool_manual = True\n",
    "elif entrada_bool.lower() in ['false', 'f', 'no', 'n', '0']:\n",
    "    bool_manual = False\n",
    "else:\n",
    "    bool_manual = bool_automatico  # Usar la conversión automática\n",
    "\n",
    "print(f\"   Entrada: '{entrada_bool}'\")\n",
    "print(f\"   Como booleano automático: {bool_automatico} (cualquier texto no vacío es True)\")\n",
    "print(f\"   Interpretación manual: {bool_manual}\")\n",
    "print()\n",
    "\n",
    "# 3. Conversiones especiales\n",
    "print(\"3. 🔧 CONVERSIONES ESPECIALES:\")\n",
    "print(f\"   • De decimal a entero: 3.14 → {int(3.14)} (trunca, no redondea)\")\n",
    "print(f\"   • De booleano a número: True → {int(True)}, False → {int(False)}\")\n",
    "print(\"   • Números en diferentes bases:\")\n",
    "print(f\"     - Binario: '1010' → {int('1010', 2)} (base 2)\")\n",
    "print(f\"     - Hexadecimal: 'FF' → {int('FF', 16)} (base 16)\")\n",
    "print(f\"     - Octal: '77' → {int('77', 8)} (base 8)\")\n",
    "print()\n",
    "\n",
    "# 4. Casos especiales de bool()\n",
    "print(\"4. ⚠️  CASOS ESPECIALES DE bool():\")\n",
    "casos_bool = [\n",
    "    (\"\", \"cadena vacía\"),\n",
    "    (\"0\", \"cadena con contenido\"),\n",
    "    (\"false\", \"cualquier texto es True\"),\n",
    "    (0, \"solo el número 0 es False\"),\n",
    "    (0.0, \"también 0.0 es False\"),\n",
    "    (-1, \"cualquier número ≠ 0 es True\")\n",
    "]\n",
    "\n",
    "for valor, descripcion in casos_bool:\n",
    "    resultado_bool = bool(valor)\n",
    "    tipo_valor = type(valor).__name__\n",
    "    print(f\"   bool({repr(valor)}) = {resultado_bool} ({descripcion})\")"
   ]
  },
  {
   "cell_type": "markdown",
   "metadata": {},
   "source": [
    "## 5. Comparación con Java\n",
    "\n",
    "Veamos las diferencias principales entre la entrada de datos en Python y Java:"
   ]
  },
  {
   "cell_type": "code",
   "execution_count": 11,
   "metadata": {},
   "outputs": [
    {
     "name": "stdout",
     "output_type": "stream",
     "text": [
      "=== COMPARACIÓN PYTHON vs JAVA ===\n",
      "\n",
      "📥 ENTRADA DE DATOS:\n",
      "\n",
      "Python:\n",
      "  nombre = input(\"Introduce tu nombre: \")\n",
      "  edad = int(input(\"Introduce tu edad: \"))\n",
      "  precio = float(input(\"Introduce un precio: \"))\n",
      "\n",
      "Java:\n",
      "  Scanner scanner = new Scanner(System.in);\n",
      "  System.out.print(\"Introduce tu nombre: \");\n",
      "  String nombre = scanner.nextLine();\n",
      "  System.out.print(\"Introduce tu edad: \");\n",
      "  int edad = scanner.nextInt();\n",
      "  System.out.print(\"Introduce un precio: \");\n",
      "  double precio = scanner.nextDouble();\n",
      "\n",
      "🔄 CONVERSIÓN DE TIPOS:\n",
      "\n",
      "Python:\n",
      "  numero_str = \"123\"\n",
      "  numero_int = int(numero_str)     # Simple y directo\n",
      "  numero_float = float(numero_str) # Una sola función\n",
      "\n",
      "Java:\n",
      "  String numeroStr = \"123\";\n",
      "  int numeroInt = Integer.parseInt(numeroStr);     // Más verboso\n",
      "  double numeroDouble = Double.parseDouble(numeroStr); // Clases wrapper\n",
      "\n",
      "⚡ VENTAJAS DE PYTHON:\n",
      "  • Sintaxis más simple y concisa\n",
      "  • No necesita importar clases adicionales\n",
      "  • Una sola función input() para todo\n",
      "  • Conversión de tipos más intuitiva\n",
      "  • Menos líneas de código\n",
      "  • Manejo de errores más elegante\n",
      "\n",
      "🛡️  VENTAJAS DE JAVA:\n",
      "  • Tipado estático (detecta errores en compilación)\n",
      "  • Mayor control sobre los tipos de datos\n",
      "  • Mejor rendimiento en aplicaciones grandes\n",
      "  • Separación clara entre diferentes tipos de entrada\n"
     ]
    }
   ],
   "source": [
    "print(\"=== COMPARACIÓN PYTHON vs JAVA ===\")\n",
    "print()\n",
    "\n",
    "print(\"📥 ENTRADA DE DATOS:\")\n",
    "print()\n",
    "print(\"Python:\")\n",
    "print('  nombre = input(\"Introduce tu nombre: \")')\n",
    "print('  edad = int(input(\"Introduce tu edad: \"))')\n",
    "print('  precio = float(input(\"Introduce un precio: \"))')\n",
    "print()\n",
    "print(\"Java:\")\n",
    "print(\"  Scanner scanner = new Scanner(System.in);\")\n",
    "print('  System.out.print(\"Introduce tu nombre: \");')\n",
    "print(\"  String nombre = scanner.nextLine();\")\n",
    "print('  System.out.print(\"Introduce tu edad: \");')\n",
    "print(\"  int edad = scanner.nextInt();\")\n",
    "print('  System.out.print(\"Introduce un precio: \");')\n",
    "print(\"  double precio = scanner.nextDouble();\")\n",
    "print()\n",
    "\n",
    "print(\"🔄 CONVERSIÓN DE TIPOS:\")\n",
    "print()\n",
    "print(\"Python:\")\n",
    "print('  numero_str = \"123\"')\n",
    "print('  numero_int = int(numero_str)     # Simple y directo')\n",
    "print('  numero_float = float(numero_str) # Una sola función')\n",
    "print()\n",
    "print(\"Java:\")\n",
    "print('  String numeroStr = \"123\";')\n",
    "print('  int numeroInt = Integer.parseInt(numeroStr);     // Más verboso')\n",
    "print('  double numeroDouble = Double.parseDouble(numeroStr); // Clases wrapper')\n",
    "print()\n",
    "\n",
    "print(\"⚡ VENTAJAS DE PYTHON:\")\n",
    "print(\"  • Sintaxis más simple y concisa\")\n",
    "print(\"  • No necesita importar clases adicionales\")\n",
    "print(\"  • Una sola función input() para todo\")\n",
    "print(\"  • Conversión de tipos más intuitiva\")\n",
    "print(\"  • Menos líneas de código\")\n",
    "print(\"  • Manejo de errores más elegante\")\n",
    "print()\n",
    "\n",
    "print(\"🛡️  VENTAJAS DE JAVA:\")\n",
    "print(\"  • Tipado estático (detecta errores en compilación)\")\n",
    "print(\"  • Mayor control sobre los tipos de datos\")\n",
    "print(\"  • Mejor rendimiento en aplicaciones grandes\")\n",
    "print(\"  • Separación clara entre diferentes tipos de entrada\")"
   ]
  },
  {
   "cell_type": "markdown",
   "metadata": {},
   "source": [
    "## 6. Ejemplo Práctico: Sistema de Registro de Usuario\n",
    "\n",
    "Pongamos en práctica todo lo aprendido con un ejemplo completo:"
   ]
  },
  {
   "cell_type": "code",
   "execution_count": 12,
   "metadata": {},
   "outputs": [
    {
     "name": "stdout",
     "output_type": "stream",
     "text": [
      "🏢 SISTEMA DE REGISTRO DE EMPLEADOS\n",
      "===================================\n"
     ]
    },
    {
     "name": "stdout",
     "output_type": "stream",
     "text": [
      "\n",
      "👤 Nombre completo:  Juan Pérez\n",
      "🎂 Edad (18-65):  abc\n"
     ]
    },
    {
     "name": "stdout",
     "output_type": "stream",
     "text": [
      "❌ Error: Por favor introduce un número válido.\n"
     ]
    },
    {
     "name": "stdout",
     "output_type": "stream",
     "text": [
      "🎂 Edad (18-65):  16\n"
     ]
    },
    {
     "name": "stdout",
     "output_type": "stream",
     "text": [
      "❌ Error: La edad debe estar entre 18 y 65 años.\n"
     ]
    },
    {
     "name": "stdout",
     "output_type": "stream",
     "text": [
      "🎂 Edad (18-65):  30\n",
      "💰 Salario mensual deseado:  3500.50\n",
      "🏢 Años de experiencia:  5\n",
      "📧 ¿Tienes email corporativo? (sí/no):  si\n"
     ]
    },
    {
     "name": "stdout",
     "output_type": "stream",
     "text": [
      "\n",
      "✅ REGISTRO COMPLETADO\n",
      "======================\n",
      "\n",
      "📊 INFORMACIÓN PERSONAL:\n",
      "  • Nombre: Juan Pérez\n",
      "  • Edad: 30 años\n",
      "  • Categoría: Adulto joven\n",
      "\n",
      "💼 INFORMACIÓN LABORAL:\n",
      "  • Salario mensual deseado: $3,500.50\n",
      "  • Salario anual: $42,006.00\n",
      "  • Años de experiencia: 5\n",
      "  • Nivel de experiencia: Intermedio\n",
      "  • Email corporativo: Sí\n",
      "\n",
      "🎯 EVALUACIÓN:\n",
      "  • Elegible para contratación: ✅ Sí\n",
      "  • Categoría salarial: Estándar\n",
      "  • Años para jubilación: 35\n",
      "\n",
      "🔍 ANÁLISIS TÉCNICO:\n",
      "  • Tipo de nombre: <class 'str'>\n",
      "  • Tipo de edad: <class 'int'>\n",
      "  • Tipo de salario: <class 'float'>\n",
      "  • Tipo de experiencia: <class 'int'>\n",
      "  • Tipo de email: <class 'bool'>\n",
      "\n",
      "¡Gracias por completar el registro! 🎉\n"
     ]
    }
   ],
   "source": [
    "# Sistema completo de registro con validación\n",
    "def obtener_nombre():\n",
    "    \"\"\"Obtiene y valida el nombre del usuario\"\"\"\n",
    "    while True:\n",
    "        nombre = input(\"\\n👤 Nombre completo: \").strip()\n",
    "        if len(nombre) >= 2 and nombre.replace(\" \", \"\").isalpha():\n",
    "            return nombre\n",
    "        print(\"❌ Error: Introduce un nombre válido (solo letras, mínimo 2 caracteres).\")\n",
    "\n",
    "def obtener_edad():\n",
    "    \"\"\"Obtiene y valida la edad (18-65)\"\"\"\n",
    "    while True:\n",
    "        try:\n",
    "            edad = int(input(\"🎂 Edad (18-65): \"))\n",
    "            if 18 <= edad <= 65:\n",
    "                return edad\n",
    "            else:\n",
    "                print(\"❌ Error: La edad debe estar entre 18 y 65 años.\")\n",
    "        except ValueError:\n",
    "            print(\"❌ Error: Por favor introduce un número válido.\")\n",
    "\n",
    "def obtener_salario():\n",
    "    \"\"\"Obtiene y valida el salario\"\"\"\n",
    "    while True:\n",
    "        try:\n",
    "            salario = float(input(\"💰 Salario mensual deseado: \"))\n",
    "            if salario > 0:\n",
    "                return salario\n",
    "            else:\n",
    "                print(\"❌ Error: El salario debe ser mayor que 0.\")\n",
    "        except ValueError:\n",
    "            print(\"❌ Error: Introduce un número válido para el salario.\")\n",
    "\n",
    "def obtener_experiencia():\n",
    "    \"\"\"Obtiene años de experiencia\"\"\"\n",
    "    while True:\n",
    "        try:\n",
    "            exp = int(input(\"🏢 Años de experiencia: \"))\n",
    "            if exp >= 0:\n",
    "                return exp\n",
    "            else:\n",
    "                print(\"❌ Error: Los años de experiencia no pueden ser negativos.\")\n",
    "        except ValueError:\n",
    "            print(\"❌ Error: Introduce un número válido.\")\n",
    "\n",
    "def obtener_email_corporativo():\n",
    "    \"\"\"Obtiene si tiene email corporativo\"\"\"\n",
    "    while True:\n",
    "        respuesta = input(\"📧 ¿Tienes email corporativo? (sí/no): \").lower().strip()\n",
    "        if respuesta in ['sí', 'si', 's', 'yes', 'y']:\n",
    "            return True\n",
    "        elif respuesta in ['no', 'n']:\n",
    "            return False\n",
    "        else:\n",
    "            print(\"❌ Error: Responde 'sí' o 'no'.\")\n",
    "\n",
    "# Ejecutar el sistema de registro\n",
    "print(\"🏢 SISTEMA DE REGISTRO DE EMPLEADOS\")\n",
    "print(\"===================================\")\n",
    "\n",
    "# Recopilar información\n",
    "nombre = obtener_nombre()\n",
    "edad = obtener_edad()\n",
    "salario = obtener_salario()\n",
    "experiencia = obtener_experiencia()\n",
    "tiene_email = obtener_email_corporativo()\n",
    "\n",
    "# Análisis y categorización\n",
    "salario_anual = salario * 12\n",
    "años_jubilacion = 65 - edad\n",
    "\n",
    "# Categorías\n",
    "if edad < 25:\n",
    "    categoria_edad = \"Joven profesional\"\n",
    "elif edad < 40:\n",
    "    categoria_edad = \"Adulto joven\"\n",
    "elif edad < 55:\n",
    "    categoria_edad = \"Adulto maduro\"\n",
    "else:\n",
    "    categoria_edad = \"Profesional senior\"\n",
    "\n",
    "if experiencia == 0:\n",
    "    nivel_exp = \"Sin experiencia\"\n",
    "elif experiencia < 3:\n",
    "    nivel_exp = \"Junior\"\n",
    "elif experiencia < 8:\n",
    "    nivel_exp = \"Intermedio\"\n",
    "else:\n",
    "    nivel_exp = \"Senior\"\n",
    "\n",
    "if salario < 2000:\n",
    "    categoria_salarial = \"Básico\"\n",
    "elif salario < 4000:\n",
    "    categoria_salarial = \"Estándar\"\n",
    "elif salario < 6000:\n",
    "    categoria_salarial = \"Premium\"\n",
    "else:\n",
    "    categoria_salarial = \"Ejecutivo\"\n",
    "\n",
    "# Evaluación de elegibilidad\n",
    "elegible = edad >= 18 and salario > 0\n",
    "\n",
    "# Mostrar resultados\n",
    "print(\"\\n✅ REGISTRO COMPLETADO\")\n",
    "print(\"======================\")\n",
    "print(\"\\n📊 INFORMACIÓN PERSONAL:\")\n",
    "print(f\"  • Nombre: {nombre}\")\n",
    "print(f\"  • Edad: {edad} años\")\n",
    "print(f\"  • Categoría: {categoria_edad}\")\n",
    "\n",
    "print(\"\\n💼 INFORMACIÓN LABORAL:\")\n",
    "print(f\"  • Salario mensual deseado: ${salario:,.2f}\")\n",
    "print(f\"  • Salario anual: ${salario_anual:,.2f}\")\n",
    "print(f\"  • Años de experiencia: {experiencia}\")\n",
    "print(f\"  • Nivel de experiencia: {nivel_exp}\")\n",
    "print(f\"  • Email corporativo: {'Sí' if tiene_email else 'No'}\")\n",
    "\n",
    "print(\"\\n🎯 EVALUACIÓN:\")\n",
    "print(f\"  • Elegible para contratación: {'✅ Sí' if elegible else '❌ No'}\")\n",
    "print(f\"  • Categoría salarial: {categoria_salarial}\")\n",
    "print(f\"  • Años para jubilación: {años_jubilacion}\")\n",
    "\n",
    "print(\"\\n🔍 ANÁLISIS TÉCNICO:\")\n",
    "print(f\"  • Tipo de nombre: {type(nombre)}\")\n",
    "print(f\"  • Tipo de edad: {type(edad)}\")\n",
    "print(f\"  • Tipo de salario: {type(salario)}\")\n",
    "print(f\"  • Tipo de experiencia: {type(experiencia)}\")\n",
    "print(f\"  • Tipo de email: {type(tiene_email)}\")\n",
    "\n",
    "print(\"\\n¡Gracias por completar el registro! 🎉\")"
   ]
  },
  {
   "cell_type": "markdown",
   "metadata": {},
   "source": [
    "## 7. Buenas Prácticas para Entrada de Datos\n",
    "\n",
    "Aquí tienes las mejores prácticas para manejar entrada de usuarios:"
   ]
  },
  {
   "cell_type": "code",
   "execution_count": 13,
   "metadata": {},
   "outputs": [
    {
     "name": "stdout",
     "output_type": "stream",
     "text": [
      "=== BUENAS PRÁCTICAS ===\n",
      "\n",
      "✅ RECOMENDACIONES:\n",
      "\n",
      "1. 📝 MENSAJES CLAROS Y DESCRIPTIVOS:\n",
      "   ❌ Malo: numero = int(input())\n",
      "   ✅ Bueno: edad = int(input(\"Introduce tu edad: \"))\n",
      "   ✅ Mejor: edad = int(input(\"🎂 Introduce tu edad (18-99): \"))\n",
      "\n",
      "2. 🛡️  VALIDACIÓN OBLIGATORIA:\n",
      "   • Siempre usar try-except para conversiones numéricas\n",
      "   • Validar rangos de valores\n",
      "   • Verificar formato de datos (emails, teléfonos, etc.)\n",
      "\n",
      "3. 🔄 BUCLES DE VALIDACIÓN:\n",
      "   • Permitir múltiples intentos\n",
      "   • Proporcionar mensajes de error específicos\n",
      "   • Dar ejemplos de formato correcto\n",
      "\n",
      "4. 🎨 EXPERIENCIA DE USUARIO:\n",
      "   • Usar emojis para hacer más amigable la interfaz\n",
      "   • Mensajes de confirmación cuando todo está bien\n",
      "   • Instrucciones claras sobre el formato esperado\n",
      "\n",
      "5. 🧹 LIMPIEZA DE DATOS:\n",
      "   • Usar .strip() para eliminar espacios\n",
      "   • Convertir a minúsculas para comparaciones\n",
      "   • Normalizar formatos (fechas, teléfonos, etc.)\n",
      "\n",
      "6. 🔧 FUNCIONES REUTILIZABLES:\n",
      "   • Crear funciones específicas para cada tipo de entrada\n",
      "   • Parámetros configurables (rangos, mensajes, etc.)\n",
      "   • Documentación clara con docstrings\n",
      "\n",
      "7. 📊 TIPOS DE DATOS APROPIADOS:\n",
      "   • int() para números enteros sin decimales\n",
      "   • float() para números con decimales\n",
      "   • str() para texto (por defecto en input())\n",
      "   • bool() para valores verdadero/falso\n",
      "\n",
      "8. ⚠️  MANEJO DE ERRORES:\n",
      "   • Capturar excepciones específicas\n",
      "   • Mensajes de error comprensibles\n",
      "   • No mostrar errores técnicos al usuario final\n"
     ]
    }
   ],
   "source": [
    "print(\"=== BUENAS PRÁCTICAS ===\")\n",
    "print()\n",
    "print(\"✅ RECOMENDACIONES:\")\n",
    "print()\n",
    "print(\"1. 📝 MENSAJES CLAROS Y DESCRIPTIVOS:\")\n",
    "print(\"   ❌ Malo: numero = int(input())\")\n",
    "print('   ✅ Bueno: edad = int(input(\"Introduce tu edad: \"))')\n",
    "print('   ✅ Mejor: edad = int(input(\"🎂 Introduce tu edad (18-99): \"))')\n",
    "print()\n",
    "print(\"2. 🛡️  VALIDACIÓN OBLIGATORIA:\")\n",
    "print(\"   • Siempre usar try-except para conversiones numéricas\")\n",
    "print(\"   • Validar rangos de valores\")\n",
    "print(\"   • Verificar formato de datos (emails, teléfonos, etc.)\")\n",
    "print()\n",
    "print(\"3. 🔄 BUCLES DE VALIDACIÓN:\")\n",
    "print(\"   • Permitir múltiples intentos\")\n",
    "print(\"   • Proporcionar mensajes de error específicos\")\n",
    "print(\"   • Dar ejemplos de formato correcto\")\n",
    "print()\n",
    "print(\"4. 🎨 EXPERIENCIA DE USUARIO:\")\n",
    "print(\"   • Usar emojis para hacer más amigable la interfaz\")\n",
    "print(\"   • Mensajes de confirmación cuando todo está bien\")\n",
    "print(\"   • Instrucciones claras sobre el formato esperado\")\n",
    "print()\n",
    "print(\"5. 🧹 LIMPIEZA DE DATOS:\")\n",
    "print(\"   • Usar .strip() para eliminar espacios\")\n",
    "print(\"   • Convertir a minúsculas para comparaciones\")\n",
    "print(\"   • Normalizar formatos (fechas, teléfonos, etc.)\")\n",
    "print()\n",
    "print(\"6. 🔧 FUNCIONES REUTILIZABLES:\")\n",
    "print(\"   • Crear funciones específicas para cada tipo de entrada\")\n",
    "print(\"   • Parámetros configurables (rangos, mensajes, etc.)\")\n",
    "print(\"   • Documentación clara con docstrings\")\n",
    "print()\n",
    "print(\"7. 📊 TIPOS DE DATOS APROPIADOS:\")\n",
    "print(\"   • int() para números enteros sin decimales\")\n",
    "print(\"   • float() para números con decimales\")\n",
    "print(\"   • str() para texto (por defecto en input())\")\n",
    "print(\"   • bool() para valores verdadero/falso\")\n",
    "print()\n",
    "print(\"8. ⚠️  MANEJO DE ERRORES:\")\n",
    "print(\"   • Capturar excepciones específicas\")\n",
    "print(\"   • Mensajes de error comprensibles\")\n",
    "print(\"   • No mostrar errores técnicos al usuario final\")"
   ]
  },
  {
   "cell_type": "markdown",
   "metadata": {},
   "source": [
    "## 8. Resumen y Conceptos Clave\n",
    "\n",
    "En esta lección hemos cubierto:\n",
    "\n",
    "**Función input():**\n",
    "- **Siempre devuelve cadenas** de texto (str)\n",
    "- Puede incluir un mensaje prompt\n",
    "- Es la forma estándar de obtener datos del usuario\n",
    "\n",
    "**Conversión de tipos (Casting):**\n",
    "- **int()**: Convierte cadenas a números enteros\n",
    "- **float()**: Convierte cadenas a números decimales\n",
    "- **str()**: Convierte cualquier tipo a cadena\n",
    "- **bool()**: Convierte a valores booleanos\n",
    "\n",
    "**Manejo de errores:**\n",
    "- **try-except**: Para capturar errores de conversión\n",
    "- **ValueError**: Error más común en conversiones\n",
    "- **Validación de rangos**: Verificar que los valores estén en rangos válidos\n",
    "\n",
    "**Buenas prácticas:**\n",
    "- Mensajes claros y descriptivos\n",
    "- Validación obligatoria para datos críticos\n",
    "- Bucles de validación con múltiples intentos\n",
    "- Funciones reutilizables para entrada de datos\n",
    "\n",
    "**Ventajas de Python sobre Java:**\n",
    "- Sintaxis más simple y directa\n",
    "- Una sola función para todas las entradas\n",
    "- Conversión de tipos más intuitiva\n",
    "- Menos código para lograr los mismos resultados"
   ]
  }
 ],
 "metadata": {
  "kernelspec": {
   "display_name": "Python 3 (ipykernel)",
   "language": "python",
   "name": "python3"
  },
  "language_info": {
   "codemirror_mode": {
    "name": "ipython",
    "version": 3
   },
   "file_extension": ".py",
   "mimetype": "text/x-python",
   "name": "python",
   "nbconvert_exporter": "python",
   "pygments_lexer": "ipython3",
   "version": "3.11.9"
  }
 },
 "nbformat": 4,
 "nbformat_minor": 4
}
