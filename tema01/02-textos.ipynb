{
 "cells": [
  {
   "cell_type": "markdown",
   "metadata": {},
   "source": [
    "# Lección 2: Trabajando con Textos (Cadenas de Caracteres)\n",
    "## Una guía completa sobre strings en Python\n",
    "\n",
    "En esta lección exploraremos uno de los tipos de datos más utilizados en programación: las cadenas de texto o **strings**. Python ofrece herramientas muy poderosas para trabajar con texto, desde operaciones básicas hasta manipulaciones complejas."
   ]
  },
  {
   "cell_type": "markdown",
   "metadata": {},
   "source": [
    "## 1. ¿Qué son las Cadenas de Texto?\n",
    "\n",
    "Una cadena (string) es una secuencia de caracteres que puede incluir letras, números, espacios, símbolos y caracteres especiales. En Python, las cadenas son **objetos inmutables**, lo que significa que no pueden modificarse una vez creadas.\n",
    "\n",
    "**Comparación con Java:**\n",
    "- En Java: `String texto = \"Hola Mundo\";`\n",
    "- En Python: `texto = \"Hola Mundo\"` (sin declaración de tipo)"
   ]
  },
  {
   "cell_type": "markdown",
   "metadata": {},
   "source": [
    "## 2. Creación de Cadenas\n",
    "\n",
    "Python permite crear cadenas usando comillas simples (`'`) o comillas dobles (`\"`):"
   ]
  },
  {
   "cell_type": "code",
   "execution_count": 1,
   "metadata": {},
   "outputs": [
    {
     "name": "stdout",
     "output_type": "stream",
     "text": [
      "Ambas cadenas son iguales: True\n",
      "Tipo de dato: <class 'str'>\n"
     ]
    }
   ],
   "source": [
    "# Usando comillas simples\n",
    "cadena_simple = 'Hola Mundo'\n",
    "\n",
    "# Usando comillas dobles\n",
    "cadena_doble = \"Hola Mundo\"\n",
    "\n",
    "# Ambas formas son equivalentes\n",
    "print(f\"Ambas cadenas son iguales: {cadena_simple == cadena_doble}\")\n",
    "print(f\"Tipo de dato: {type(cadena_simple)}\")"
   ]
  },
  {
   "cell_type": "markdown",
   "metadata": {},
   "source": [
    "### 2.1 ¿Cuándo usar comillas simples vs dobles?\n",
    "\n",
    "La elección depende del contenido de la cadena. Usar comillas diferentes nos permite incluir comillas literales sin problemas:"
   ]
  },
  {
   "cell_type": "code",
   "execution_count": 2,
   "metadata": {},
   "outputs": [
    {
     "name": "stdout",
     "output_type": "stream",
     "text": [
      "Este texto incluye \"comillas dobles\" dentro\n",
      "Esta 'palabra' tiene comillas simples\n"
     ]
    }
   ],
   "source": [
    "# Comillas dobles dentro de comillas simples\n",
    "texto_con_dobles = 'Este texto incluye \"comillas dobles\" dentro'\n",
    "print(texto_con_dobles)\n",
    "\n",
    "# Comillas simples dentro de comillas dobles\n",
    "texto_con_simples = \"Esta 'palabra' tiene comillas simples\"\n",
    "print(texto_con_simples)"
   ]
  },
  {
   "cell_type": "markdown",
   "metadata": {},
   "source": [
    "### 2.2 Caracteres de Escape\n",
    "\n",
    "Cuando necesitamos incluir el mismo tipo de comillas que estamos usando para delimitar la cadena, usamos el **carácter de escape** (`\\`):"
   ]
  },
  {
   "cell_type": "code",
   "execution_count": 3,
   "metadata": {},
   "outputs": [
    {
     "name": "stdout",
     "output_type": "stream",
     "text": [
      "Esta \"palabra\" tiene comillas dobles escapadas\n",
      "Esta 'palabra' tiene comillas simples escapadas\n",
      "Esta es una barra invertida: \\\n"
     ]
    }
   ],
   "source": [
    "# Escapando comillas dobles\n",
    "texto_escape_dobles = \"Esta \\\"palabra\\\" tiene comillas dobles escapadas\"\n",
    "print(texto_escape_dobles)\n",
    "\n",
    "# Escapando comillas simples\n",
    "texto_escape_simples = 'Esta \\'palabra\\' tiene comillas simples escapadas'\n",
    "print(texto_escape_simples)\n",
    "\n",
    "# Escapando la barra invertida\n",
    "barra_invertida = \"Esta es una barra invertida: \\\\\"\n",
    "print(barra_invertida)"
   ]
  },
  {
   "cell_type": "markdown",
   "metadata": {},
   "source": [
    "### 2.3 Cadenas Multilínea\n",
    "\n",
    "Para cadenas que abarcan múltiples líneas, usamos **triple comillas** (`\"\"\"` o `'''`):"
   ]
  },
  {
   "cell_type": "code",
   "execution_count": 4,
   "metadata": {},
   "outputs": [
    {
     "name": "stdout",
     "output_type": "stream",
     "text": [
      "Esta es una cadena\n",
      "que se extiende por\n",
      "múltiples líneas\n",
      "y preserva el formato\n"
     ]
    }
   ],
   "source": [
    "# Cadena multilínea con triple comillas dobles\n",
    "poema = \"\"\"Esta es una cadena\n",
    "que se extiende por\n",
    "múltiples líneas\n",
    "y preserva el formato\"\"\"\n",
    "\n",
    "print(poema)"
   ]
  },
  {
   "cell_type": "markdown",
   "metadata": {},
   "source": [
    "## 3. La Función print(): Mostrando Texto por Pantalla\n",
    "\n",
    "La función `print()` es fundamental para mostrar información al usuario. A diferencia de simplemente evaluar una expresión en Jupyter, `print()` nos permite mostrar múltiples valores y controlar el formato de salida."
   ]
  },
  {
   "cell_type": "markdown",
   "metadata": {},
   "source": [
    "### 3.1 Diferencia entre Evaluación y print()\n",
    "\n",
    "En Jupyter Notebook, solo se muestra el resultado de la última expresión evaluada:"
   ]
  },
  {
   "cell_type": "code",
   "execution_count": 5,
   "metadata": {},
   "outputs": [
    {
     "data": {
      "text/plain": [
       "'tercera cadena'"
      ]
     },
     "execution_count": 5,
     "metadata": {},
     "output_type": "execute_result"
    }
   ],
   "source": [
    "# Solo veremos la última evaluación\n",
    "\"primera cadena\"\n",
    "\"segunda cadena\"\n",
    "\"tercera cadena\"  # Solo esta se muestra"
   ]
  },
  {
   "cell_type": "code",
   "execution_count": 6,
   "metadata": {},
   "outputs": [
    {
     "name": "stdout",
     "output_type": "stream",
     "text": [
      "primera cadena\n",
      "segunda cadena\n",
      "tercera cadena\n"
     ]
    }
   ],
   "source": [
    "# Con print() vemos todas las cadenas\n",
    "print(\"primera cadena\")\n",
    "print(\"segunda cadena\")\n",
    "print(\"tercera cadena\")"
   ]
  },
  {
   "cell_type": "markdown",
   "metadata": {},
   "source": [
    "### 3.2 Características Avanzadas de print()\n",
    "\n",
    "La función `print()` acepta múltiples argumentos y parámetros opcionales:"
   ]
  },
  {
   "cell_type": "code",
   "execution_count": 7,
   "metadata": {},
   "outputs": [
    {
     "name": "stdout",
     "output_type": "stream",
     "text": [
      "Hola Python 2024\n",
      "Uno|Dos|Tres\n",
      "Sin salto de línea... continuamos aquí\n"
     ]
    }
   ],
   "source": [
    "# Múltiples argumentos (separados por espacios por defecto)\n",
    "print(\"Hola\", \"Python\", 2024)\n",
    "\n",
    "# Cambiar el separador\n",
    "print(\"Uno\", \"Dos\", \"Tres\", sep=\"|\")\n",
    "\n",
    "# Cambiar el final (sin salto de línea)\n",
    "print(\"Sin salto de línea...\", end=\" \")\n",
    "print(\"continuamos aquí\")"
   ]
  },
  {
   "cell_type": "markdown",
   "metadata": {},
   "source": [
    "## 4. Caracteres Especiales\n",
    "\n",
    "Python reconoce varios caracteres especiales que nos permiten formatear texto:"
   ]
  },
  {
   "cell_type": "code",
   "execution_count": 1,
   "metadata": {},
   "outputs": [
    {
     "name": "stdout",
     "output_type": "stream",
     "text": [
      "Texto con\ttabulación\n",
      "Primera línea\n",
      "Segunda línea\n",
      "sobreescritoarro\n",
      "Pitido: \u0007\n"
     ]
    }
   ],
   "source": [
    "# Tabulación (\\t)\n",
    "print(\"Texto con\\ttabulación\")\n",
    "\n",
    "# Salto de línea (\\n)\n",
    "print(\"Primera línea\\nSegunda línea\")\n",
    "\n",
    "# Retorno de carro (\\r) - regresa al inicio de la línea\n",
    "print(\"Retorno de carro\\rsobreescrito\")\n",
    "\n",
    "# Campana/pitido (\\a) - puede producir un sonido\n",
    "print(\"Pitido: \\a\")"
   ]
  },
  {
   "cell_type": "markdown",
   "metadata": {},
   "source": [
    "### 4.1 Cadenas Raw (Crudas)\n",
    "\n",
    "Cuando trabajamos con rutas de archivos o expresiones regulares, es útil usar cadenas raw que ignoran los caracteres de escape:"
   ]
  },
  {
   "cell_type": "code",
   "execution_count": 9,
   "metadata": {},
   "outputs": [
    {
     "name": "stdout",
     "output_type": "stream",
     "text": [
      "Ruta problemática:\n",
      "C:\n",
      "ombre\\directorio\n",
      "\n",
      "Ruta con cadena raw:\n",
      "C:\\nombre\\directorio\n",
      "\n",
      "Expresión regular: \\d+\\.\\d+ busca números decimales\n"
     ]
    }
   ],
   "source": [
    "# Problema con caracteres de escape en rutas\n",
    "ruta_problematica = \"C:\\nombre\\directorio\"\n",
    "print(\"Ruta problemática:\")\n",
    "print(ruta_problematica)\n",
    "\n",
    "# Solución con cadena raw\n",
    "ruta_correcta = r\"C:\\nombre\\directorio\"\n",
    "print(\"\\nRuta con cadena raw:\")\n",
    "print(ruta_correcta)\n",
    "\n",
    "# Útil para expresiones regulares\n",
    "patron_regex = r\"\\d+\\.\\d+\"  # Busca números decimales\n",
    "print(f\"\\nExpresión regular: {patron_regex} busca números decimales\")"
   ]
  },
  {
   "cell_type": "markdown",
   "metadata": {},
   "source": [
    "## 5. Variables de Cadena\n",
    "\n",
    "Al igual que con los números, podemos almacenar cadenas en variables para reutilizarlas:"
   ]
  },
  {
   "cell_type": "code",
   "execution_count": 10,
   "metadata": {},
   "outputs": [
    {
     "name": "stdout",
     "output_type": "stream",
     "text": [
      "Valor raw de la variable: 'Hola\\nMundo'\n",
      "Valor formateado:\n",
      "Hola\n",
      "Mundo\n"
     ]
    }
   ],
   "source": [
    "# Asignamos una cadena con carácter especial\n",
    "saludo = \"Hola\\nMundo\"\n",
    "\n",
    "# Mostrar el valor raw (sin procesar)\n",
    "print(f\"Valor raw de la variable: {repr(saludo)}\")\n",
    "\n",
    "# Mostrar el valor formateado\n",
    "print(\"Valor formateado:\")\n",
    "print(saludo)"
   ]
  },
  {
   "cell_type": "markdown",
   "metadata": {},
   "source": [
    "## 6. Operaciones con Cadenas\n",
    "\n",
    "Python permite realizar varias operaciones matemáticas con cadenas de manera intuitiva."
   ]
  },
  {
   "cell_type": "markdown",
   "metadata": {},
   "source": [
    "### 6.1 Concatenación (Unión de Cadenas)\n",
    "\n",
    "Podemos unir cadenas usando el operador `+`:"
   ]
  },
  {
   "cell_type": "code",
   "execution_count": 11,
   "metadata": {},
   "outputs": [
    {
     "name": "stdout",
     "output_type": "stream",
     "text": [
      "Concatenación básica: Hola Mundo\n",
      "Con variables: Juan tiene 25 años\n",
      "Cadenas literales adyacentes: Esto es una sola cadena\n"
     ]
    }
   ],
   "source": [
    "# Concatenación básica\n",
    "primera_parte = \"Hola\"\n",
    "segunda_parte = \"Mundo\"\n",
    "mensaje_completo = primera_parte + \" \" + segunda_parte\n",
    "print(f\"Concatenación básica: {mensaje_completo}\")\n",
    "\n",
    "# Concatenación con variables\n",
    "nombre = \"Juan\"\n",
    "edad = \"25\"\n",
    "informacion = nombre + \" tiene \" + edad + \" años\"\n",
    "print(f\"Con variables: {informacion}\")\n",
    "\n",
    "# Concatenación automática de cadenas literales adyacentes\n",
    "cadena_larga = \"Esto es \" \"una sola \" \"cadena\"\n",
    "print(f\"Cadenas literales adyacentes: {cadena_larga}\")"
   ]
  },
  {
   "cell_type": "markdown",
   "metadata": {},
   "source": [
    "### 6.2 Repetición de Cadenas\n",
    "\n",
    "El operador `*` nos permite repetir una cadena varias veces:"
   ]
  },
  {
   "cell_type": "code",
   "execution_count": 12,
   "metadata": {},
   "outputs": [
    {
     "name": "stdout",
     "output_type": "stream",
     "text": [
      "Separador: ==========================================\n",
      "Padding:           Texto centrado\n",
      "Patrón: -+-+-+-+-+\n",
      "Generando estructura:\n",
      "#####################\n",
      "#                   #\n",
      "#   TÍTULO PRINCIPAL   #\n",
      "#                   #\n",
      "#####################\n"
     ]
    }
   ],
   "source": [
    "# Crear separadores visuales\n",
    "separador = \"=\" * 42\n",
    "print(f\"Separador: {separador}\")\n",
    "\n",
    "# Crear padding (espaciado)\n",
    "espacios = \" \" * 10\n",
    "texto_centrado = espacios + \"Texto centrado\"\n",
    "print(f\"Padding: {texto_centrado}\")\n",
    "\n",
    "# Crear patrones\n",
    "patron = \"-+\" * 5\n",
    "print(f\"Patrón: {patron}\")\n",
    "\n",
    "# Ejemplo práctico: crear un marco\n",
    "ancho = 21\n",
    "titulo = \"TÍTULO PRINCIPAL\"\n",
    "print(\"Generando estructura:\")\n",
    "print(\"#\" * (ancho + 2))\n",
    "print(\"#\" + \" \" * ancho + \"#\")\n",
    "print(f\"#   {titulo}   #\")\n",
    "print(\"#\" + \" \" * ancho + \"#\")\n",
    "print(\"#\" * (ancho + 2))"
   ]
  },
  {
   "cell_type": "markdown",
   "metadata": {},
   "source": [
    "### 6.3 Diferencias con Java\n",
    "\n",
    "**Java:**\n",
    "```java\n",
    "String str1 = \"Hola\";\n",
    "String str2 = \"Mundo\";\n",
    "String resultado = str1 + \" \" + str2;\n",
    "// No hay operador de repetición nativo\n",
    "```\n",
    "\n",
    "**Python:**\n",
    "```python\n",
    "str1 = \"Hola\"\n",
    "str2 = \"Mundo\"\n",
    "resultado = str1 + \" \" + str2\n",
    "repeticion = \"-\" * 10  # ¡Más simple!\n",
    "```"
   ]
  },
  {
   "cell_type": "markdown",
   "metadata": {},
   "source": [
    "## 7. Indexación: Accediendo a Caracteres Individuales\n",
    "\n",
    "En Python, podemos acceder a caracteres individuales usando **índices**. Los índices empiezan en 0 y van hasta la longitud de la cadena menos 1."
   ]
  },
  {
   "cell_type": "code",
   "execution_count": 13,
   "metadata": {},
   "outputs": [
    {
     "name": "stdout",
     "output_type": "stream",
     "text": [
      "Palabra: 'Python'\n",
      "Índices positivos:\n",
      "  Índice 0: 'P'\n",
      "  Índice 1: 'y'\n",
      "  Índice 2: 't'\n",
      "  Índice 3: 'h'\n",
      "  Índice 4: 'o'\n",
      "  Índice 5: 'n'\n",
      "\n",
      "Esquema visual:\n",
      " P | y | t | h | o | n\n",
      " 0   1   2   3   4   5   (índices positivos)\n",
      "-6  -5  -4  -3  -2  -1   (índices negativos)\n"
     ]
    }
   ],
   "source": [
    "palabra = \"Python\"\n",
    "print(f\"Palabra: '{palabra}'\")\n",
    "print(\"Índices positivos:\")\n",
    "\n",
    "# Acceder a cada carácter por su índice\n",
    "for i in range(len(palabra)):\n",
    "    print(f\"  Índice {i}: '{palabra[i]}'\")\n",
    "\n",
    "print(\"\\nEsquema visual:\")\n",
    "print(\" P | y | t | h | o | n\")\n",
    "print(\" 0   1   2   3   4   5   (índices positivos)\")\n",
    "print(\"-6  -5  -4  -3  -2  -1   (índices negativos)\")"
   ]
  },
  {
   "cell_type": "markdown",
   "metadata": {},
   "source": [
    "### 7.1 Índices Negativos\n",
    "\n",
    "Una característica única de Python es el uso de **índices negativos** para acceder a elementos desde el final:"
   ]
  },
  {
   "cell_type": "code",
   "execution_count": 14,
   "metadata": {},
   "outputs": [
    {
     "name": "stdout",
     "output_type": "stream",
     "text": [
      "Acceso desde el final:\n",
      "  palabra[-1] = 'n' (último carácter)\n",
      "  palabra[-2] = 'o' (penúltimo carácter)\n",
      "  palabra[-6] = 'P' (primer carácter usando índice negativo)\n",
      "\n",
      "Equivalencias:\n",
      "  palabra[0] == palabra[-6]: True\n",
      "  palabra[5] == palabra[-1]: True\n"
     ]
    }
   ],
   "source": [
    "print(\"Acceso desde el final:\")\n",
    "print(f\"  palabra[-1] = '{palabra[-1]}' (último carácter)\")\n",
    "print(f\"  palabra[-2] = '{palabra[-2]}' (penúltimo carácter)\")\n",
    "print(f\"  palabra[-6] = '{palabra[-6]}' (primer carácter usando índice negativo)\")\n",
    "\n",
    "print(\"\\nEquivalencias:\")\n",
    "print(f\"  palabra[0] == palabra[-6]: {palabra[0] == palabra[-6]}\")\n",
    "print(f\"  palabra[5] == palabra[-1]: {palabra[5] == palabra[-1]}\")"
   ]
  },
  {
   "cell_type": "markdown",
   "metadata": {},
   "source": [
    "### 7.2 Errores de Índice\n",
    "\n",
    "Si intentamos acceder a un índice que no existe, Python lanza un `IndexError`:"
   ]
  },
  {
   "cell_type": "code",
   "execution_count": 15,
   "metadata": {},
   "outputs": [
    {
     "name": "stdout",
     "output_type": "stream",
     "text": [
      "Longitud de la palabra: 6\n",
      "Índices válidos: 0 a 5 (o -6 a -1)\n",
      "Error al acceder al índice 10: string index out of range\n"
     ]
    }
   ],
   "source": [
    "print(f\"Longitud de la palabra: {len(palabra)}\")\n",
    "print(f\"Índices válidos: 0 a {len(palabra)-1} (o {-len(palabra)} a -1)\")\n",
    "\n",
    "# Intentar acceder a un índice inválido\n",
    "try:\n",
    "    caracter = palabra[10]\n",
    "except IndexError as e:\n",
    "    print(f\"Error al acceder al índice 10: {e}\")"
   ]
  },
  {
   "cell_type": "markdown",
   "metadata": {},
   "source": [
    "## 8. Slicing: Extrayendo Subcadenas\n",
    "\n",
    "El **slicing** es una de las características más poderosas de Python para trabajar con secuencias. Nos permite extraer porciones de una cadena usando la sintaxis `[inicio:fin:paso]`."
   ]
  },
  {
   "cell_type": "markdown",
   "metadata": {},
   "source": [
    "### 8.1 Slicing Básico\n",
    "\n",
    "La sintaxis básica es `cadena[inicio:fin]` donde:\n",
    "- `inicio`: índice donde empezar (incluido)\n",
    "- `fin`: índice donde terminar (excluido)"
   ]
  },
  {
   "cell_type": "code",
   "execution_count": 16,
   "metadata": {},
   "outputs": [
    {
     "name": "stdout",
     "output_type": "stream",
     "text": [
      "Cadena original: 'Programación'\n",
      "\n",
      "Slicing básico:\n",
      "  texto[0:7] = 'Program' (del índice 0 al 6)\n",
      "  texto[7:12] = 'ación' (del índice 7 al 11)\n",
      "  texto[0:4] = 'Prog' (primeros 4 caracteres)\n",
      "  texto[8:12] = 'ción' (últimos 4 caracteres)\n"
     ]
    }
   ],
   "source": [
    "texto = \"Programación\"\n",
    "print(f\"Cadena original: '{texto}'\")\n",
    "print(\"\\nSlicing básico:\")\n",
    "print(f\"  texto[0:7] = '{texto[0:7]}' (del índice 0 al 6)\")\n",
    "print(f\"  texto[7:12] = '{texto[7:12]}' (del índice 7 al 11)\")\n",
    "print(f\"  texto[0:4] = '{texto[0:4]}' (primeros 4 caracteres)\")\n",
    "print(f\"  texto[8:12] = '{texto[8:12]}' (últimos 4 caracteres)\")"
   ]
  },
  {
   "cell_type": "markdown",
   "metadata": {},
   "source": [
    "### 8.2 Slicing con Valores Omitidos\n",
    "\n",
    "Podemos omitir el inicio o el final para usar valores por defecto:"
   ]
  },
  {
   "cell_type": "code",
   "execution_count": 17,
   "metadata": {},
   "outputs": [
    {
     "name": "stdout",
     "output_type": "stream",
     "text": [
      "Slicing con omisiones:\n",
      "  texto[:4] = 'Prog' (desde el inicio hasta el índice 3)\n",
      "  texto[4:] = 'ramación' (desde el índice 4 hasta el final)\n",
      "  texto[:] = 'Programación' (copia completa de la cadena)\n",
      "\n",
      "Verificación de concatenación:\n",
      "  texto[:4] + texto[4:] = 'Programación'\n",
      "  ¿Es igual al original? True\n"
     ]
    }
   ],
   "source": [
    "print(\"Slicing con omisiones:\")\n",
    "print(f\"  texto[:4] = '{texto[:4]}' (desde el inicio hasta el índice 3)\")\n",
    "print(f\"  texto[4:] = '{texto[4:]}' (desde el índice 4 hasta el final)\")\n",
    "print(f\"  texto[:] = '{texto[:]}' (copia completa de la cadena)\")\n",
    "\n",
    "# Demostrar que dividir y unir da el original\n",
    "print(\"\\nVerificación de concatenación:\")\n",
    "primera_mitad = texto[:4]\n",
    "segunda_mitad = texto[4:]\n",
    "reconstruido = primera_mitad + segunda_mitad\n",
    "print(f\"  texto[:4] + texto[4:] = '{reconstruido}'\")\n",
    "print(f\"  ¿Es igual al original? {reconstruido == texto}\")"
   ]
  },
  {
   "cell_type": "markdown",
   "metadata": {},
   "source": [
    "### 8.3 Slicing con Índices Negativos\n",
    "\n",
    "Los índices negativos también funcionan en slicing:"
   ]
  },
  {
   "cell_type": "code",
   "execution_count": 18,
   "metadata": {},
   "outputs": [
    {
     "name": "stdout",
     "output_type": "stream",
     "text": [
      "Slicing con índices negativos:\n",
      "  texto[-5:] = 'ación' (últimos 5 caracteres)\n",
      "  texto[:-5] = 'Program' (todos excepto los últimos 5)\n",
      "  texto[-8:-3] = 'ramac' (de la posición -8 a -4)\n",
      "  texto[-1:] = 'n' (último carácter usando slicing)\n"
     ]
    }
   ],
   "source": [
    "print(\"Slicing con índices negativos:\")\n",
    "print(f\"  texto[-5:] = '{texto[-5:]}' (últimos 5 caracteres)\")\n",
    "print(f\"  texto[:-5] = '{texto[:-5]}' (todos excepto los últimos 5)\")\n",
    "print(f\"  texto[-8:-3] = '{texto[-8:-3]}' (de la posición -8 a -4)\")\n",
    "print(f\"  texto[-1:] = '{texto[-1:]}' (último carácter usando slicing)\")"
   ]
  },
  {
   "cell_type": "markdown",
   "metadata": {},
   "source": [
    "### 8.4 Slicing con Paso\n",
    "\n",
    "El tercer parámetro opcional especifica el **paso** (step):"
   ]
  },
  {
   "cell_type": "code",
   "execution_count": 19,
   "metadata": {},
   "outputs": [
    {
     "name": "stdout",
     "output_type": "stream",
     "text": [
      "Slicing con paso:\n",
      "  texto[::2] = 'Pormai' (cada 2 caracteres)\n",
      "  texto[1::2] = 'rgaacó' (cada 2 caracteres empezando en 1)\n",
      "  texto[::3] = 'Pagó' (cada 3 caracteres)\n",
      "  texto[::-1] = 'nóicamargorP' (cadena invertida)\n",
      "  texto[2:8:2] = 'orm' (del índice 2 al 7, cada 2 caracteres)\n"
     ]
    }
   ],
   "source": [
    "print(\"Slicing con paso:\")\n",
    "print(f\"  texto[::2] = '{texto[::2]}' (cada 2 caracteres)\")\n",
    "print(f\"  texto[1::2] = '{texto[1::2]}' (cada 2 caracteres empezando en 1)\")\n",
    "print(f\"  texto[::3] = '{texto[::3]}' (cada 3 caracteres)\")\n",
    "print(f\"  texto[::-1] = '{texto[::-1]}' (cadena invertida)\")\n",
    "print(f\"  texto[2:8:2] = '{texto[2:8:2]}' (del índice 2 al 7, cada 2 caracteres)\")"
   ]
  },
  {
   "cell_type": "markdown",
   "metadata": {},
   "source": [
    "### 8.5 Tolerancia a Errores en Slicing\n",
    "\n",
    "A diferencia de la indexación individual, el slicing es **tolerante a errores**:"
   ]
  },
  {
   "cell_type": "code",
   "execution_count": 20,
   "metadata": {},
   "outputs": [
    {
     "name": "stdout",
     "output_type": "stream",
     "text": [
      "Tolerancia a errores en slicing:\n",
      "  texto[:100] = 'Programación' (índice muy grande)\n",
      "  texto[100:] = '' (inicio más allá del final)\n",
      "  texto[5:2] = '' (inicio mayor que fin)\n",
      "  len(texto[100:]) = 0 (cadena vacía)\n"
     ]
    }
   ],
   "source": [
    "print(\"Tolerancia a errores en slicing:\")\n",
    "print(f\"  texto[:100] = '{texto[:100]}' (índice muy grande)\")\n",
    "print(f\"  texto[100:] = '{texto[100:]}' (inicio más allá del final)\")\n",
    "print(f\"  texto[5:2] = '{texto[5:2]}' (inicio mayor que fin)\")\n",
    "print(f\"  len(texto[100:]) = {len(texto[100:])} (cadena vacía)\")"
   ]
  },
  {
   "cell_type": "markdown",
   "metadata": {},
   "source": [
    "## 9. Inmutabilidad de las Cadenas\n",
    "\n",
    "Las cadenas en Python son **inmutables**, lo que significa que no podemos modificar caracteres individuales una vez creadas. Esta es una diferencia importante con arrays de caracteres en otros lenguajes."
   ]
  },
  {
   "cell_type": "code",
   "execution_count": 21,
   "metadata": {},
   "outputs": [
    {
     "name": "stdout",
     "output_type": "stream",
     "text": [
      "Intentando modificar un carácter:\n",
      "Error: 'str' object does not support item assignment\n",
      "\n",
      "Palabra original: Python\n",
      "ID de la variable: 2015966549296\n"
     ]
    }
   ],
   "source": [
    "palabra = \"Python\"\n",
    "print(f\"Palabra original: {palabra}\")\n",
    "print(f\"ID de la variable: {id(palabra)}\")\n",
    "\n",
    "# Intentar modificar un carácter (esto fallará)\n",
    "print(\"Intentando modificar un carácter:\")\n",
    "try:\n",
    "    palabra[0] = \"J\"\n",
    "except TypeError as e:\n",
    "    print(f\"Error: {e}\")"
   ]
  },
  {
   "cell_type": "markdown",
   "metadata": {},
   "source": [
    "### 9.1 Creando Nuevas Cadenas\n",
    "\n",
    "Aunque no podemos modificar cadenas existentes, sí podemos crear nuevas cadenas basadas en las existentes:"
   ]
  },
  {
   "cell_type": "code",
   "execution_count": 22,
   "metadata": {},
   "outputs": [
    {
     "name": "stdout",
     "output_type": "stream",
     "text": [
      "Métodos para \"modificar\" cadenas:\n",
      "\n",
      "1. Reemplazando el primer carácter:\n",
      "   Original: Python (ID: 2015966549296)\n",
      "   Modificada: Jython (ID: 2015966690992)\n",
      "\n",
      "2. Insertando en el medio:\n",
      "   Resultado: Py3thon\n",
      "\n",
      "3. Removiendo caracteres:\n",
      "   Sin primeros 2: thon\n",
      "   Sin último: Pytho\n",
      "\n",
      "4. Diferentes operaciones:\n",
      "   Mayúsculas: PYTHON\n",
      "   Reemplazo: Pyjson\n",
      "   Invertida: nohtyP\n"
     ]
    }
   ],
   "source": [
    "palabra_original = \"Python\"\n",
    "print(\"Métodos para \\\"modificar\\\" cadenas:\")\n",
    "print()\n",
    "\n",
    "# 1. Reemplazar el primer carácter\n",
    "nueva_palabra = \"J\" + palabra_original[1:]\n",
    "print(\"1. Reemplazando el primer carácter:\")\n",
    "print(f\"   Original: {palabra_original} (ID: {id(palabra_original)})\")\n",
    "print(f\"   Modificada: {nueva_palabra} (ID: {id(nueva_palabra)})\")\n",
    "print()\n",
    "\n",
    "# 2. Insertar en el medio\n",
    "insercion = palabra_original[:2] + \"3\" + palabra_original[2:]\n",
    "print(\"2. Insertando en el medio:\")\n",
    "print(f\"   Resultado: {insercion}\")\n",
    "print()\n",
    "\n",
    "# 3. Remover caracteres\n",
    "sin_inicio = palabra_original[2:]\n",
    "sin_final = palabra_original[:-1]\n",
    "print(\"3. Removiendo caracteres:\")\n",
    "print(f\"   Sin primeros 2: {sin_inicio}\")\n",
    "print(f\"   Sin último: {sin_final}\")\n",
    "print()\n",
    "\n",
    "# 4. Operaciones más complejas\n",
    "print(\"4. Diferentes operaciones:\")\n",
    "print(f\"   Mayúsculas: {palabra_original.upper()}\")\n",
    "print(f\"   Reemplazo: {palabra_original.replace('th', 'js')}\")\n",
    "print(f\"   Invertida: {palabra_original[::-1]}\")"
   ]
  },
  {
   "cell_type": "markdown",
   "metadata": {},
   "source": [
    "### 9.2 Comparación con Java\n",
    "\n",
    "**Java:**\n",
    "```java\n",
    "String str = \"Python\";\n",
    "// str.charAt(0) = 'J'; // Error: no se puede modificar\n",
    "String newStr = \"J\" + str.substring(1); // Crear nueva cadena\n",
    "\n",
    "// O usar StringBuilder para modificaciones múltiples\n",
    "StringBuilder sb = new StringBuilder(str);\n",
    "sb.setCharAt(0, 'J');\n",
    "String result = sb.toString();\n",
    "```\n",
    "\n",
    "**Python:**\n",
    "```python\n",
    "str = \"Python\"\n",
    "# str[0] = 'J'  # Error: no se puede modificar\n",
    "new_str = \"J\" + str[1:]  # Crear nueva cadena (más simple)\n",
    "```"
   ]
  },
  {
   "cell_type": "markdown",
   "metadata": {},
   "source": [
    "## 10. Funciones Integradas para Cadenas\n",
    "\n",
    "Python proporciona muchas funciones útiles para trabajar con cadenas."
   ]
  },
  {
   "cell_type": "markdown",
   "metadata": {},
   "source": [
    "### 10.1 La Función len()\n",
    "\n",
    "La función `len()` nos dice cuántos caracteres tiene una cadena:"
   ]
  },
  {
   "cell_type": "code",
   "execution_count": 23,
   "metadata": {},
   "outputs": [
    {
     "name": "stdout",
     "output_type": "stream",
     "text": [
      "Análisis de longitudes:\n",
      "\n",
      "Cadena: 'Python' → Longitud: 6\n",
      "Cadena: '' → Longitud: 0\n",
      "Cadena: 'Hola Mundo' → Longitud: 10\n",
      "Cadena: 'a' → Longitud: 1\n",
      "Cadena: 'Línea 1\n",
      "Línea 2' → Longitud: 15\n",
      "\n",
      "Relación con índices:\n",
      "  Primer carácter: índice 0\n",
      "  Último carácter: índice len(cadena) - 1\n",
      "  Para 'Python': último índice = 6 - 1 = 5\n",
      "  Último carácter: Python[5] = 'n'\n"
     ]
    }
   ],
   "source": [
    "print(\"Análisis de longitudes:\")\n",
    "print()\n",
    "\n",
    "cadenas_ejemplo = [\n",
    "    \"Python\",\n",
    "    \"\",  # cadena vacía\n",
    "    \"Hola Mundo\",\n",
    "    \"a\",\n",
    "    \"Línea 1\\nLínea 2\"  # con salto de línea\n",
    "]\n",
    "\n",
    "for cadena in cadenas_ejemplo:\n",
    "    print(f\"Cadena: {repr(cadena)} → Longitud: {len(cadena)}\")\n",
    "\n",
    "print(\"\\nRelación con índices:\")\n",
    "ejemplo = \"Python\"\n",
    "print(\"  Primer carácter: índice 0\")\n",
    "print(\"  Último carácter: índice len(cadena) - 1\")\n",
    "print(f\"  Para '{ejemplo}': último índice = {len(ejemplo)} - 1 = {len(ejemplo) - 1}\")\n",
    "print(f\"  Último carácter: {ejemplo}[{len(ejemplo) - 1}] = '{ejemplo[len(ejemplo) - 1]}'\")"
   ]
  },
  {
   "cell_type": "markdown",
   "metadata": {},
   "source": [
    "### 10.2 Otras Funciones Útiles\n",
    "\n",
    "Introduciremos algunas funciones adicionales que exploraremos más profundamente en lecciones futuras:"
   ]
  },
  {
   "cell_type": "code",
   "execution_count": 24,
   "metadata": {},
   "outputs": [
    {
     "name": "stdout",
     "output_type": "stream",
     "text": [
      "Funciones adicionales (vista previa):\n",
      "\n",
      "str(): convierte otros tipos a cadena\n",
      "  str(42) = '42'\n",
      "  str(3.14) = '3.14'\n",
      "  str(True) = 'True'\n",
      "\n",
      "repr(): representación técnica\n",
      "  repr('Hola\\nMundo') = \"'Hola\\\\nMundo'\"\n",
      "\n",
      "Verificación de contenido:\n",
      "  '123'.isdigit() = True\n",
      "  'abc'.isalpha() = True\n",
      "  'abc123'.isalnum() = True\n",
      "  'HELLO'.isupper() = True\n",
      "  'hello'.islower() = True\n"
     ]
    }
   ],
   "source": [
    "print(\"Funciones adicionales (vista previa):\")\n",
    "print()\n",
    "\n",
    "# Conversión a cadena\n",
    "print(\"str(): convierte otros tipos a cadena\")\n",
    "print(f\"  str(42) = {repr(str(42))}\")\n",
    "print(f\"  str(3.14) = {repr(str(3.14))}\")\n",
    "print(f\"  str(True) = {repr(str(True))}\")\n",
    "print()\n",
    "\n",
    "# Representación\n",
    "print(\"repr(): representación técnica\")\n",
    "print(f\"  repr('Hola\\\\nMundo') = {repr('Hola\\nMundo')}\")\n",
    "print()\n",
    "\n",
    "# Métodos de verificación\n",
    "print(\"Verificación de contenido:\")\n",
    "print(f\"  '123'.isdigit() = {'123'.isdigit()}\")\n",
    "print(f\"  'abc'.isalpha() = {'abc'.isalpha()}\")\n",
    "print(f\"  'abc123'.isalnum() = {'abc123'.isalnum()}\")\n",
    "print(f\"  'HELLO'.isupper() = {'HELLO'.isupper()}\")\n",
    "print(f\"  'hello'.islower() = {'hello'.islower()}\")"
   ]
  },
  {
   "cell_type": "markdown",
   "metadata": {},
   "source": [
    "## 11. Ejemplo Práctico: Analizador de Texto\n",
    "\n",
    "Pongamos en práctica todo lo aprendido con un ejemplo real:"
   ]
  },
  {
   "cell_type": "code",
   "execution_count": 25,
   "metadata": {},
   "outputs": [
    {
     "name": "stdout",
     "output_type": "stream",
     "text": [
      "=== ANALIZADOR DE TEXTO ===\n",
      "\n",
      "Texto analizado:\n",
      "\"Python es un lenguaje de programación potente y fácil de aprender\"\n",
      "\n",
      "📊 ESTADÍSTICAS BÁSICAS:\n",
      "  • Longitud total: 65 caracteres\n",
      "  • Número de palabras: 11\n",
      "  • Número de espacios: 10\n",
      "\n",
      "🔤 ANÁLISIS DE CARACTERES:\n",
      "  • Primer carácter: 'P'\n",
      "  • Último carácter: 'r'\n",
      "  • Carácter central: 'a' (posición 32)\n",
      "\n",
      "✂️  SEGMENTACIÓN:\n",
      "  • Primera palabra: 'Python'\n",
      "  • Última palabra: 'aprender'\n",
      "  • Primera mitad: 'Python es un lenguaje de programació'\n",
      "  • Segunda mitad: 'n potente y fácil de aprender'\n",
      "\n",
      "🔄 TRANSFORMACIONES:\n",
      "  • Texto invertido: 'redneerpa ed licáf y etnetop nóicamargorp ed ejaugnel nu se nohtyP'\n",
      "  • Solo palabras pares: 'Python un de potente fácil aprender'\n",
      "  • Esquema de índices (primeros 20): '01234567890123456789'\n"
     ]
    }
   ],
   "source": [
    "# Analizador de texto completo\n",
    "def analizar_texto(texto):\n",
    "    print(\"=== ANALIZADOR DE TEXTO ===\")\n",
    "    print()\n",
    "    print(\"Texto analizado:\")\n",
    "    print(f'\"{texto}\"')\n",
    "    print()\n",
    "    \n",
    "    # Estadísticas básicas\n",
    "    longitud = len(texto)\n",
    "    palabras = texto.split()  # Dividir por espacios\n",
    "    num_palabras = len(palabras)\n",
    "    num_espacios = texto.count(' ')\n",
    "    \n",
    "    print(\"📊 ESTADÍSTICAS BÁSICAS:\")\n",
    "    print(f\"  • Longitud total: {longitud} caracteres\")\n",
    "    print(f\"  • Número de palabras: {num_palabras}\")\n",
    "    print(f\"  • Número de espacios: {num_espacios}\")\n",
    "    print()\n",
    "    \n",
    "    # Análisis de caracteres\n",
    "    primer_char = texto[0] if texto else \"N/A\"\n",
    "    ultimo_char = texto[-1] if texto else \"N/A\"\n",
    "    char_central = texto[longitud // 2] if texto else \"N/A\"\n",
    "    \n",
    "    print(\"🔤 ANÁLISIS DE CARACTERES:\")\n",
    "    print(f\"  • Primer carácter: '{primer_char}'\")\n",
    "    print(f\"  • Último carácter: '{ultimo_char}'\")\n",
    "    print(f\"  • Carácter central: '{char_central}' (posición {longitud // 2})\")\n",
    "    print()\n",
    "    \n",
    "    # Segmentación\n",
    "    primera_palabra = palabras[0] if palabras else \"N/A\"\n",
    "    ultima_palabra = palabras[-1] if palabras else \"N/A\"\n",
    "    primera_mitad = texto[:longitud // 2]\n",
    "    segunda_mitad = texto[longitud // 2:]\n",
    "    \n",
    "    print(\"✂️  SEGMENTACIÓN:\")\n",
    "    print(f\"  • Primera palabra: '{primera_palabra}'\")\n",
    "    print(f\"  • Última palabra: '{ultima_palabra}'\")\n",
    "    print(f\"  • Primera mitad: '{primera_mitad}'\")\n",
    "    print(f\"  • Segunda mitad: '{segunda_mitad}'\")\n",
    "    print()\n",
    "    \n",
    "    # Transformaciones\n",
    "    texto_invertido = texto[::-1]\n",
    "    palabras_pares = ' '.join(palabras[::2])  # Palabras en posiciones pares\n",
    "    esquema_indices = ''.join([str(i % 10) for i in range(min(20, longitud))])\n",
    "    \n",
    "    print(\"🔄 TRANSFORMACIONES:\")\n",
    "    print(f\"  • Texto invertido: '{texto_invertido}'\")\n",
    "    print(f\"  • Solo palabras pares: '{palabras_pares}'\")\n",
    "    print(f\"  • Esquema de índices (primeros 20): '{esquema_indices}'\")\n",
    "\n",
    "# Ejemplo de uso\n",
    "texto_ejemplo = \"Python es un lenguaje de programación potente y fácil de aprender\"\n",
    "analizar_texto(texto_ejemplo)"
   ]
  },
  {
   "cell_type": "markdown",
   "metadata": {},
   "source": [
    "## 12. Casos de Uso Prácticos\n",
    "\n",
    "Veamos algunos ejemplos de cómo aplicar estos conceptos en situaciones reales:"
   ]
  },
  {
   "cell_type": "code",
   "execution_count": 26,
   "metadata": {},
   "outputs": [
    {
     "name": "stdout",
     "output_type": "stream",
     "text": [
      "=== CASOS DE USO PRÁCTICOS ===\n",
      "\n",
      "1. 📧 VALIDACIÓN DE EMAIL:\n",
      "  Email: usuario@dominio.com\n",
      "  ✓ Contiene @: True\n",
      "  ✓ Parte local: usuario\n",
      "  ✓ Dominio: dominio.com\n",
      "\n",
      "2. 🔒 ENMASCARAMIENTO DE DATOS:\n",
      "  Tarjeta original: 1234567890123456\n",
      "  Tarjeta enmascarada: ************3456\n",
      "\n",
      "3. 📄 FORMATEO DE DOCUMENTOS:\n",
      "***********************************\n",
      "*           REPORTE DIARIO         *\n",
      "*                                 *\n",
      "*  Fecha: 2024-09-29              *\n",
      "*  Status: Completado             *\n",
      "***********************************\n",
      "\n",
      "4. 🔍 EXTRACCIÓN DE INFORMACIÓN:\n",
      "  URL: https://www.python.org/downloads\n",
      "  Protocolo: https\n",
      "  Dominio: www.python.org\n",
      "  Ruta: /downloads\n",
      "\n",
      "5. 📊 ANÁLISIS DE LOGS:\n",
      "  Log: [2024-09-29 10:30:15] ERROR: Database connection failed\n",
      "  Fecha: 2024-09-29\n",
      "  Hora: 10:30:15\n",
      "  Nivel: ERROR\n",
      "  Mensaje: Database connection failed\n"
     ]
    }
   ],
   "source": [
    "print(\"=== CASOS DE USO PRÁCTICOS ===\")\n",
    "print()\n",
    "\n",
    "# 1. Validación básica de email\n",
    "email = \"usuario@dominio.com\"\n",
    "print(\"1. 📧 VALIDACIÓN DE EMAIL:\")\n",
    "print(f\"  Email: {email}\")\n",
    "tiene_arroba = '@' in email\n",
    "print(f\"  ✓ Contiene @: {tiene_arroba}\")\n",
    "if tiene_arroba:\n",
    "    partes = email.split('@')\n",
    "    print(f\"  ✓ Parte local: {partes[0]}\")\n",
    "    print(f\"  ✓ Dominio: {partes[1]}\")\n",
    "print()\n",
    "\n",
    "# 2. Enmascaramiento de datos sensibles\n",
    "numero_tarjeta = \"1234567890123456\"\n",
    "print(\"2. 🔒 ENMASCARAMIENTO DE DATOS:\")\n",
    "print(f\"  Tarjeta original: {numero_tarjeta}\")\n",
    "tarjeta_enmascarada = \"*\" * 12 + numero_tarjeta[-4:]\n",
    "print(f\"  Tarjeta enmascarada: {tarjeta_enmascarada}\")\n",
    "print()\n",
    "\n",
    "# 3. Formateo de documentos\n",
    "print(\"3. 📄 FORMATEO DE DOCUMENTOS:\")\n",
    "ancho = 35\n",
    "titulo = \"REPORTE DIARIO\"\n",
    "fecha = \"2024-09-29\"\n",
    "status = \"Completado\"\n",
    "\n",
    "borde = \"*\" * ancho\n",
    "linea_vacia = \"*\" + \" \" * (ancho - 2) + \"*\"\n",
    "titulo_centrado = f\"*{titulo.center(ancho - 2)}*\"\n",
    "linea_fecha = f\"*  Fecha: {fecha}{' ' * (ancho - len(fecha) - 11)}*\"\n",
    "linea_status = f\"*  Status: {status}{' ' * (ancho - len(status) - 12)}*\"\n",
    "\n",
    "print(borde)\n",
    "print(titulo_centrado)\n",
    "print(linea_vacia)\n",
    "print(linea_fecha)\n",
    "print(linea_status)\n",
    "print(borde)\n",
    "print()\n",
    "\n",
    "# 4. Extracción de partes de URL\n",
    "url = \"https://www.python.org/downloads\"\n",
    "print(\"4. 🔍 EXTRACCIÓN DE INFORMACIÓN:\")\n",
    "print(f\"  URL: {url}\")\n",
    "protocolo = url[:url.find('://')]\n",
    "resto = url[url.find('://') + 3:]\n",
    "if '/' in resto:\n",
    "    dominio = resto[:resto.find('/')]\n",
    "    ruta = resto[resto.find('/'):]\n",
    "else:\n",
    "    dominio = resto\n",
    "    ruta = \"/\"\n",
    "print(f\"  Protocolo: {protocolo}\")\n",
    "print(f\"  Dominio: {dominio}\")\n",
    "print(f\"  Ruta: {ruta}\")\n",
    "print()\n",
    "\n",
    "# 5. Análisis de logs\n",
    "log_entry = \"[2024-09-29 10:30:15] ERROR: Database connection failed\"\n",
    "print(\"5. 📊 ANÁLISIS DE LOGS:\")\n",
    "print(f\"  Log: {log_entry}\")\n",
    "# Extraer fecha y hora\n",
    "fecha_hora = log_entry[1:20]  # Entre los corchetes\n",
    "fecha = fecha_hora[:10]\n",
    "hora = fecha_hora[11:]\n",
    "# Extraer nivel y mensaje\n",
    "resto_log = log_entry[22:]  # Después del corchete de cierre\n",
    "nivel = resto_log[:resto_log.find(':')]\n",
    "mensaje = resto_log[resto_log.find(':') + 2:]\n",
    "print(f\"  Fecha: {fecha}\")\n",
    "print(f\"  Hora: {hora}\")\n",
    "print(f\"  Nivel: {nivel}\")\n",
    "print(f\"  Mensaje: {mensaje}\")"
   ]
  },
  {
   "cell_type": "markdown",
   "metadata": {},
   "source": [
    "## 13. Mejores Prácticas y Consejos\n",
    "\n",
    "### 13.1 Convenciones de Nomenclatura\n",
    "\n",
    "Python usa `snake_case` para variables de cadena:"
   ]
  },
  {
   "cell_type": "code",
   "execution_count": 27,
   "metadata": {},
   "outputs": [],
   "source": [
    "# ✅ Buenas prácticas\n",
    "nombre_usuario = \"juan_perez\"\n",
    "mensaje_bienvenida = \"¡Bienvenido al sistema!\"\n",
    "ruta_archivo_config = \"/etc/config.ini\"\n",
    "\n",
    "# ❌ Evitar (estilo Java camelCase en Python)\n",
    "# nombreUsuario = \"juan_perez\"\n",
    "# mensajeBienvenida = \"¡Bienvenido al sistema!\""
   ]
  },
  {
   "cell_type": "markdown",
   "metadata": {},
   "source": [
    "### 13.2 Cuándo Usar Cada Tipo de Comillas"
   ]
  },
  {
   "cell_type": "code",
   "execution_count": 28,
   "metadata": {},
   "outputs": [
    {
     "name": "stdout",
     "output_type": "stream",
     "text": [
      "Guía de uso de comillas:\n",
      "\n",
      "✅ Comillas dobles para texto en español (con acentos y ñ):\n",
      "  \"Programación en Python es fácil\"\n",
      "\n",
      "✅ Comillas simples para texto técnico:\n",
      "  'variable_name'\n",
      "  'function_call()'\n",
      "\n",
      "✅ Triple comillas para documentación:\n",
      "Esta función calcula el área de un círculo.\n",
      "\n",
      "Parámetros:\n",
      "    radio (float): El radio del círculo\n",
      "\n",
      "Retorna:\n",
      "    float: El área calculada\n",
      "\n",
      "✅ Comillas raw para rutas y regex:\n",
      "  C:\\Users\\Documents\\file.txt\n"
     ]
    }
   ],
   "source": [
    "print(\"Guía de uso de comillas:\")\n",
    "print()\n",
    "\n",
    "# Texto en español con acentos\n",
    "texto_espanol = \"Programación en Python es fácil\"\n",
    "print(\"✅ Comillas dobles para texto en español (con acentos y ñ):\")\n",
    "print(f'  \"{texto_espanol}\"')\n",
    "print()\n",
    "\n",
    "# Texto técnico/código\n",
    "variable_name = 'variable_name'\n",
    "function_call = 'function_call()'\n",
    "print(\"✅ Comillas simples para texto técnico:\")\n",
    "print(f\"  '{variable_name}'\")\n",
    "print(f\"  '{function_call}'\")\n",
    "print()\n",
    "\n",
    "# Documentación\n",
    "documentacion = \"\"\"Esta función calcula el área de un círculo.\n",
    "\n",
    "Parámetros:\n",
    "    radio (float): El radio del círculo\n",
    "\n",
    "Retorna:\n",
    "    float: El área calculada\"\"\"\n",
    "print(\"✅ Triple comillas para documentación:\")\n",
    "print(documentacion)\n",
    "print()\n",
    "\n",
    "# Rutas y expresiones regulares\n",
    "ruta_windows = r\"C:\\Users\\Documents\\file.txt\"\n",
    "print(\"✅ Comillas raw para rutas y regex:\")\n",
    "print(f\"  {ruta_windows}\")"
   ]
  },
  {
   "cell_type": "markdown",
   "metadata": {},
   "source": [
    "## 14. Resumen y Conceptos Clave\n",
    "\n",
    "En esta lección hemos cubierto:\n",
    "\n",
    "**Creación de cadenas:**\n",
    "- Comillas simples (`'`) y dobles (`\"`)\n",
    "- Triple comillas (`\"\"\"`) para texto multilínea\n",
    "- Cadenas raw (`r\"\"`) para evitar escape\n",
    "- Caracteres especiales (`\\n`, `\\t`, `\\\\`, etc.)\n",
    "\n",
    "**Operaciones básicas:**\n",
    "- Concatenación con `+`\n",
    "- Repetición con `*`\n",
    "- Función `print()` para mostrar texto\n",
    "- Función `len()` para obtener longitud\n",
    "\n",
    "**Acceso a caracteres:**\n",
    "- Indexación: `cadena[i]` (positiva y negativa)\n",
    "- Slicing: `cadena[inicio:fin:paso]`\n",
    "- Tolerancia a errores en slicing\n",
    "\n",
    "**Propiedades importantes:**\n",
    "- **Inmutabilidad**: No se pueden modificar\n",
    "- **Secuencialidad**: Se pueden iterar y slice\n",
    "- **Flexibilidad**: Múltiples formas de crear y manipular\n",
    "\n",
    "**Diferencias con Java:**\n",
    "- No necesitamos declarar tipo `String`\n",
    "- Slicing nativo (no necesitamos `substring()`)\n",
    "- Operadores de repetición (`*`)\n",
    "- Índices negativos\n",
    "- Sintaxis más concisa y expresiva"
   ]
  }
 ],
 "metadata": {
  "kernelspec": {
   "display_name": "Python 3",
   "language": "python",
   "name": "python3"
  },
  "language_info": {
   "codemirror_mode": {
    "name": "ipython",
    "version": 3
   },
   "file_extension": ".py",
   "mimetype": "text/x-python",
   "name": "python",
   "nbconvert_exporter": "python",
   "pygments_lexer": "ipython3",
   "version": "3.10.11"
  }
 },
 "nbformat": 4,
 "nbformat_minor": 4
}
