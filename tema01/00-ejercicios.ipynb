{
 "cells": [
  {
   "cell_type": "markdown",
   "metadata": {},
   "source": [
    "# Tema 01 - Primeros pasos en Python\n",
    "## Aplicando los conceptos fundamentales\n",
    "\n",
    "Estos ejercicios están diseñados para **reforzar y aplicar** todos los conceptos que hemos aprendido en las lecciones teóricas:\n",
    "- Tipos de datos (números, cadenas, listas)\n",
    "- Operaciones aritméticas y con cadenas\n",
    "- Variables y asignaciones\n",
    "- Indexación y slicing\n",
    "- Entrada de datos por teclado\n",
    "\n",
    "**💡 Consejo:** Intenta resolver cada ejercicio paso a paso, y no dudes en experimentar con variaciones de las soluciones."
   ]
  },
  {
   "cell_type": "markdown",
   "metadata": {},
   "source": [
    "## Ejercicio 1: Identificación de Tipos de Datos\n",
    "\n",
    "**📋 Objetivo:** Reconocer visualmente los diferentes tipos de datos en Python\n",
    "\n",
    "**📝 Enunciado:** Identifica el tipo de dato (`int`, `float`, `str` o `list`) de los siguientes valores literales:\n",
    "\n",
    "```python\n",
    "\"Hola Mundo\" \n",
    "[1, 10, 100]\n",
    "-25          \n",
    "1.167       \n",
    "[\"Hola\", \"Mundo\"]  \n",
    "' '        \n",
    "```"
   ]
  },
  {
   "cell_type": "markdown",
   "metadata": {},
   "source": [
    "## Ejercicio 2: Predicción de Resultados\n",
    "\n",
    "**🧠 Objetivo:** Desarrollar la capacidad de predecir mentalmente los resultados de operaciones\n",
    "\n",
    "**📝 Enunciado:** Determina mentalmente (sin programar) el resultado que aparecerá por pantalla a partir de las siguientes variables:\n",
    "\n",
    "```python\n",
    "a = 10\n",
    "b = -5\n",
    "c = \"Hola \"\n",
    "d = [1, 2, 3]\n",
    "```\n",
    "\n",
    "¿Qué mostrará cada `print()`?\n",
    "```python\n",
    "print(a * 5)  \n",
    "print(a - b)    \n",
    "print(c + \"Mundo\")   \n",
    "print(c * 2)        \n",
    "print(c[-1])        \n",
    "print(c[1:])    \n",
    "print(d + d)       \n",
    "```"
   ]
  },
  {
   "cell_type": "markdown",
   "metadata": {},
   "source": [
    "## Ejercicio 3: Depuración de Código\n",
    "\n",
    "**🐛 Objetivo:** Desarrollar habilidades de depuración y corrección de errores\n",
    "\n",
    "**📝 Enunciado:** El siguiente código pretende realizar una media entre 3 números, pero no funciona correctamente. ¿Eres capaz de identificar el problema y solucionarlo?\n",
    "\n",
    "```python\n",
    "numero_1 = 9\n",
    "numero_2 = 3\n",
    "numero_3 = 6\n",
    "\n",
    "media = numero_1 + numero_2 + numero_3 / 3\n",
    "print(\"La nota media es\", media)\n",
    "```"
   ]
  },
  {
   "cell_type": "markdown",
   "metadata": {},
   "source": [
    "## Ejercicio 4: Cálculo de Media Ponderada\n",
    "\n",
    "**📊 Objetivo:** Aplicar conceptos de variables y operaciones aritméticas en un caso práctico\n",
    "\n",
    "**📝 Enunciado:** A partir del ejercicio anterior, vamos a suponer que cada número es una nota, y lo que queremos es obtener la nota media. El problema es que cada nota tiene un valor porcentual:\n",
    "\n",
    "- La primera nota vale un **15%** del total\n",
    "- La segunda nota vale un **35%** del total  \n",
    "- La tercera nota vale un **50%** del total\n",
    "\n",
    "Desarrolla un programa para calcular perfectamente la nota final."
   ]
  },
  {
   "cell_type": "markdown",
   "metadata": {},
   "source": [
    "## Ejercicio 5: Corrección de Matriz con Slicing\n",
    "\n",
    "**🔧 Objetivo:** Practicar slicing y funciones integradas para manipular listas anidadas\n",
    "\n",
    "**📝 Enunciado:** La siguiente matriz (lista con listas anidadas) debe cumplir una condición: en cada fila, el cuarto elemento siempre debe ser el resultado de sumar los tres primeros. ¿Eres capaz de modificar las sumas incorrectas utilizando la técnica del slicing?\n",
    "\n",
    "*💡 Ayuda: La función `sum(lista)` devuelve la suma de todos los elementos de la lista*\n",
    "\n",
    "```python\n",
    "matriz = [ \n",
    "    [1, 1, 1, 3],   # ✓ Correcta: 1+1+1=3\n",
    "    [2, 2, 2, 7],   # ❌ Incorrecta: 2+2+2=6, no 7\n",
    "    [3, 3, 3, 9],   # ✓ Correcta: 3+3+3=9\n",
    "    [4, 4, 4, 13]   # ❌ Incorrecta: 4+4+4=12, no 13\n",
    "]\n",
    "```"
   ]
  },
  {
   "cell_type": "markdown",
   "metadata": {},
   "source": [
    "## Ejercicio 6: Procesamiento de Cadena Corrupta\n",
    "\n",
    "**🔄 Objetivo:** Aplicar técnicas de slicing y manipulación de cadenas para extraer información\n",
    "\n",
    "**📝 Enunciado:** Al realizar una consulta en un registro hemos obtenido una cadena de texto corrupta al revés. Al parecer contiene el nombre de un alumno y la nota de un examen. ¿Cómo podríamos formatear la cadena y conseguir una estructura como la siguiente?\n",
    "\n",
    "**Formato deseado:** ***Nombre*** ***Apellido*** ha sacado un ***Nota*** de nota.\n",
    "\n",
    "*💡 Ayuda: Para voltear una cadena rápidamente utilizando slicing podemos utilizar un tercer índice -1: `cadena[::-1]`*\n",
    "\n",
    "```python\n",
    "cadena = \"zeréP nauJ,01\"\n",
    "```"
   ]
  },
  {
   "cell_type": "markdown",
   "metadata": {},
   "source": [
    "## Ejercicio 7: Sistema Interactivo de Calificaciones\n",
    "\n",
    "**💻 Objetivo:** Integrar entrada de datos por teclado con cálculos y validaciones\n",
    "\n",
    "**📝 Enunciado:** Crea un programa interactivo que solicite al usuario tres notas y sus respectivos porcentajes, calcule la nota final ponderada y determine si el estudiante aprobó o no (nota mínima: 6.0)."
   ]
  },
  {
   "cell_type": "markdown",
   "metadata": {},
   "source": [
    "## Ejercicio 8: Analizador Avanzado de Listas\n",
    "\n",
    "**🔍 Objetivo:** Aplicar técnicas avanzadas de manipulación de listas y análisis de datos\n",
    "\n",
    "**📝 Enunciado:** Crea un programa que analice una lista de números y proporcione estadísticas completas incluyendo: suma, promedio, mediana, valores únicos, y números pares/impares."
   ]
  }
 ],
 "metadata": {
  "anaconda-cloud": {},
  "kernelspec": {
   "display_name": "Python 3 (ipykernel)",
   "language": "python",
   "name": "python3"
  },
  "language_info": {
   "codemirror_mode": {
    "name": "ipython",
    "version": 3
   },
   "file_extension": ".py",
   "mimetype": "text/x-python",
   "name": "python",
   "nbconvert_exporter": "python",
   "pygments_lexer": "ipython3",
   "version": "3.11.9"
  }
 },
 "nbformat": 4,
 "nbformat_minor": 4
}
