{
 "cells": [
  {
   "cell_type": "markdown",
   "metadata": {},
   "source": [
    "# Lección 1: Trabajando con Números en Python\n",
    "## Una introducción completa a los tipos numéricos y operaciones básicas\n",
    "\n",
    "En esta lección aprenderemos sobre los tipos de datos numéricos en Python, cómo realizar operaciones matemáticas y cómo trabajar con variables. Python es especialmente poderoso para cálculos matemáticos debido a su sintaxis simple y tipos de datos flexibles."
   ]
  },
  {
   "cell_type": "markdown",
   "metadata": {},
   "source": [
    "## 1. Python como Calculadora\n",
    "\n",
    "Una de las características más útiles de Python es que podemos usarlo inmediatamente como una calculadora avanzada. A diferencia de lenguajes como Java donde necesitamos crear una clase y un método `main`, en Python podemos ejecutar operaciones directamente."
   ]
  },
  {
   "cell_type": "markdown",
   "metadata": {},
   "source": [
    "### 1.1 Operaciones Aritméticas Básicas\n",
    "\n",
    "Python soporta todas las operaciones aritméticas fundamentales:"
   ]
  },
  {
   "cell_type": "code",
   "execution_count": 1,
   "metadata": {},
   "outputs": [
    {
     "data": {
      "text/plain": [
       "5"
      ]
     },
     "execution_count": 1,
     "metadata": {},
     "output_type": "execute_result"
    }
   ],
   "source": [
    "# Suma: operador +\n",
    "3 + 2"
   ]
  },
  {
   "cell_type": "code",
   "execution_count": 2,
   "metadata": {},
   "outputs": [
    {
     "data": {
      "text/plain": [
       "1"
      ]
     },
     "execution_count": 2,
     "metadata": {},
     "output_type": "execute_result"
    }
   ],
   "source": [
    "# Resta: operador -\n",
    "3 - 2"
   ]
  },
  {
   "cell_type": "code",
   "execution_count": 3,
   "metadata": {},
   "outputs": [
    {
     "data": {
      "text/plain": [
       "6"
      ]
     },
     "execution_count": 3,
     "metadata": {},
     "output_type": "execute_result"
    }
   ],
   "source": [
    "# Multiplicación: operador *\n",
    "3 * 2"
   ]
  },
  {
   "cell_type": "markdown",
   "metadata": {},
   "source": [
    "### 1.2 Uso de Comentarios\n",
    "\n",
    "Los comentarios son fundamentales para documentar nuestro código. En Python usamos `#` para comentarios de una línea (similar a Java, pero Java también permite `/* */` para comentarios multilínea)."
   ]
  },
  {
   "cell_type": "code",
   "execution_count": 4,
   "metadata": {},
   "outputs": [
    {
     "data": {
      "text/plain": [
       "1.5"
      ]
     },
     "execution_count": 4,
     "metadata": {},
     "output_type": "execute_result"
    }
   ],
   "source": [
    "# División: operador /\n",
    "# En Python 3, la división siempre retorna un número flotante\n",
    "3 / 2"
   ]
  },
  {
   "cell_type": "markdown",
   "metadata": {},
   "source": [
    "### 1.3 Operadores Especiales\n",
    "\n",
    "Python incluye algunos operadores que no están disponibles en todos los lenguajes:"
   ]
  },
  {
   "cell_type": "code",
   "execution_count": 5,
   "metadata": {},
   "outputs": [
    {
     "data": {
      "text/plain": [
       "1"
      ]
     },
     "execution_count": 5,
     "metadata": {},
     "output_type": "execute_result"
    }
   ],
   "source": [
    "# Módulo: operador % (resto de la división)\n",
    "# Muy útil para determinar si un número es par o impar\n",
    "3 % 2"
   ]
  },
  {
   "cell_type": "code",
   "execution_count": 6,
   "metadata": {},
   "outputs": [
    {
     "data": {
      "text/plain": [
       "1"
      ]
     },
     "execution_count": 6,
     "metadata": {},
     "output_type": "execute_result"
    }
   ],
   "source": [
    "# División entera: operador // (división sin decimales)\n",
    "# Equivale a Math.floor(a/b) en Java\n",
    "3 // 2"
   ]
  },
  {
   "cell_type": "code",
   "execution_count": 7,
   "metadata": {},
   "outputs": [
    {
     "data": {
      "text/plain": [
       "9"
      ]
     },
     "execution_count": 7,
     "metadata": {},
     "output_type": "execute_result"
    }
   ],
   "source": [
    "# Potencia: operador **\n",
    "# En Java necesitarías Math.pow(3, 2)\n",
    "3 ** 2"
   ]
  },
  {
   "cell_type": "markdown",
   "metadata": {},
   "source": [
    "## 2. Tipos de Datos Numéricos\n",
    "\n",
    "Python maneja automáticamente los tipos numéricos, a diferencia de Java donde debemos declarar explícitamente `int`, `double`, `float`, etc."
   ]
  },
  {
   "cell_type": "markdown",
   "metadata": {},
   "source": [
    "### 2.1 Números Enteros (int)\n",
    "\n",
    "Los enteros en Python pueden ser de tamaño arbitrario (¡sin límite de overflow como en Java!):"
   ]
  },
  {
   "cell_type": "code",
   "execution_count": 8,
   "metadata": {},
   "outputs": [
    {
     "name": "stdout",
     "output_type": "stream",
     "text": [
      "1 es de tipo: <class 'int'>\n",
      "1267650600228229401496703205376 es de tipo: <class 'int'>\n"
     ]
    }
   ],
   "source": [
    "# Entero pequeño\n",
    "numero_pequeno = 1\n",
    "print(f\"{numero_pequeno} es de tipo: {type(numero_pequeno)}\")\n",
    "\n",
    "# Entero muy grande (¡imposible en Java sin BigInteger!)\n",
    "numero_gigante = 2 ** 100\n",
    "print(f\"{numero_gigante} es de tipo: {type(numero_gigante)}\")"
   ]
  },
  {
   "cell_type": "markdown",
   "metadata": {},
   "source": [
    "### 2.2 Números Flotantes (float)\n",
    "\n",
    "Los números con punto decimal se almacenan como `float` (equivalente a `double` en Java):"
   ]
  },
  {
   "cell_type": "code",
   "execution_count": 9,
   "metadata": {},
   "outputs": [
    {
     "name": "stdout",
     "output_type": "stream",
     "text": [
      "3.14159 es de tipo: <class 'float'>\n",
      "323239829389.2383 es de tipo: <class 'float'>\n"
     ]
    }
   ],
   "source": [
    "# Número decimal\n",
    "pi_aproximado = 3.14159\n",
    "print(f\"{pi_aproximado} es de tipo: {type(pi_aproximado)}\")\n",
    "\n",
    "# Número grande con decimales\n",
    "numero_decimal_grande = 323239829389.238273283\n",
    "print(f\"{numero_decimal_grande} es de tipo: {type(numero_decimal_grande)}\")"
   ]
  },
  {
   "cell_type": "markdown",
   "metadata": {},
   "source": [
    "### 2.3 Conversión Automática de Tipos\n",
    "\n",
    "Python convierte automáticamente entre tipos cuando es necesario:"
   ]
  },
  {
   "cell_type": "code",
   "execution_count": 10,
   "metadata": {},
   "outputs": [
    {
     "name": "stdout",
     "output_type": "stream",
     "text": [
      "Resultado: 7.5, Tipo: <class 'float'>\n",
      "Resultado: 15, Tipo: <class 'int'>\n"
     ]
    }
   ],
   "source": [
    "# int + float = float\n",
    "resultado1 = 5 + 2.5\n",
    "print(f\"Resultado: {resultado1}, Tipo: {type(resultado1)}\")\n",
    "\n",
    "# int * int = int\n",
    "resultado2 = 5 * 3\n",
    "print(f\"Resultado: {resultado2}, Tipo: {type(resultado2)}\")"
   ]
  },
  {
   "cell_type": "markdown",
   "metadata": {},
   "source": [
    "## 3. Precedencia de Operadores\n",
    "\n",
    "Python respeta las reglas matemáticas estándar para el orden de las operaciones:"
   ]
  },
  {
   "cell_type": "code",
   "execution_count": 11,
   "metadata": {},
   "outputs": [
    {
     "name": "stdout",
     "output_type": "stream",
     "text": [
      "3 - 2 + 4 * 10 = 41\n",
      "Paso a paso:\n",
      "1. Primero: 4 * 10 = 40\n",
      "2. Luego: 3 - 2 = 1\n",
      "3. Finalmente: 1 + 40 = 41\n"
     ]
    }
   ],
   "source": [
    "# Sin paréntesis: multiplicación primero, luego suma y resta de izquierda a derecha\n",
    "resultado = 3 - 2 + 4 * 10\n",
    "print(f\"3 - 2 + 4 * 10 = {resultado}\")\n",
    "print(\"Paso a paso:\")\n",
    "print(\"1. Primero: 4 * 10 = 40\")\n",
    "print(\"2. Luego: 3 - 2 = 1\")\n",
    "print(\"3. Finalmente: 1 + 40 = 41\")"
   ]
  },
  {
   "cell_type": "code",
   "execution_count": 12,
   "metadata": {},
   "outputs": [
    {
     "name": "stdout",
     "output_type": "stream",
     "text": [
      "(3 - 2 + 4) * 10 = 50\n",
      "2 ** 3 ** 2 = 512 (se evalúa de derecha a izquierda)\n"
     ]
    }
   ],
   "source": [
    "# Con paréntesis: forzamos el orden\n",
    "resultado_con_parentesis = (3 - 2 + 4) * 10\n",
    "print(f\"(3 - 2 + 4) * 10 = {resultado_con_parentesis}\")\n",
    "\n",
    "# La potencia se evalúa de derecha a izquierda\n",
    "potencia_compleja = 2 ** 3 ** 2  # Equivale a 2 ** (3 ** 2) = 2 ** 9 = 512\n",
    "print(f\"2 ** 3 ** 2 = {potencia_compleja} (se evalúa de derecha a izquierda)\")"
   ]
  },
  {
   "cell_type": "markdown",
   "metadata": {},
   "source": [
    "## 4. Variables: Almacenando y Reutilizando Valores\n",
    "\n",
    "Las variables son contenedores que nos permiten almacenar valores y reutilizarlos. A diferencia de Java, en Python no necesitamos declarar el tipo de variable."
   ]
  },
  {
   "cell_type": "markdown",
   "metadata": {},
   "source": [
    "### 4.1 Asignación de Variables\n",
    "\n",
    "En Python, la asignación es muy simple. Compare esto con Java:\n",
    "\n",
    "**Java:**\n",
    "```java\n",
    "int n = 3;\n",
    "double precio = 15.99;\n",
    "```\n",
    "\n",
    "**Python:**"
   ]
  },
  {
   "cell_type": "code",
   "execution_count": 13,
   "metadata": {},
   "outputs": [
    {
     "name": "stdout",
     "output_type": "stream",
     "text": [
      "n = 3, tipo: <class 'int'>\n",
      "precio = 15.99, tipo: <class 'float'>\n"
     ]
    }
   ],
   "source": [
    "# Asignación simple - Python detecta automáticamente el tipo\n",
    "n = 3\n",
    "precio = 15.99\n",
    "\n",
    "print(f\"n = {n}, tipo: {type(n)}\")\n",
    "print(f\"precio = {precio}, tipo: {type(precio)}\")"
   ]
  },
  {
   "cell_type": "markdown",
   "metadata": {},
   "source": [
    "### 4.2 Operaciones con Variables\n",
    "\n",
    "Una vez asignadas, podemos usar las variables en cualquier operación:"
   ]
  },
  {
   "cell_type": "code",
   "execution_count": 14,
   "metadata": {},
   "outputs": [
    {
     "name": "stdout",
     "output_type": "stream",
     "text": [
      "n + 3 = 6\n",
      "n * 2 = 6\n",
      "n al cuadrado = 9\n",
      "n elevado a la 4ta potencia = 81\n"
     ]
    }
   ],
   "source": [
    "# Operaciones básicas con variables\n",
    "print(f\"n + 3 = {n + 3}\")\n",
    "print(f\"n * 2 = {n * 2}\")\n",
    "print(f\"n al cuadrado = {n * n}\")\n",
    "print(f\"n elevado a la 4ta potencia = {n ** 4}\")"
   ]
  },
  {
   "cell_type": "markdown",
   "metadata": {},
   "source": [
    "### 4.3 Trabajando con Múltiples Variables"
   ]
  },
  {
   "cell_type": "code",
   "execution_count": 15,
   "metadata": {},
   "outputs": [
    {
     "name": "stdout",
     "output_type": "stream",
     "text": [
      "Suma: n + m = 3 + 10 = 13\n",
      "Producto: n * m = 3 * 10 = 30\n",
      "Expresión compleja: n * m + 10 = 40\n"
     ]
    }
   ],
   "source": [
    "# Definimos una segunda variable\n",
    "m = 10\n",
    "\n",
    "# Operaciones entre variables\n",
    "print(f\"Suma: n + m = {n} + {m} = {n + m}\")\n",
    "print(f\"Producto: n * m = {n} * {m} = {n * m}\")\n",
    "print(f\"Expresión compleja: n * m + 10 = {n * m + 10}\")"
   ]
  },
  {
   "cell_type": "markdown",
   "metadata": {},
   "source": [
    "### 4.4 Reasignación de Variables\n",
    "\n",
    "En Python, podemos cambiar el valor de una variable en cualquier momento:"
   ]
  },
  {
   "cell_type": "code",
   "execution_count": 16,
   "metadata": {},
   "outputs": [
    {
     "name": "stdout",
     "output_type": "stream",
     "text": [
      "Valores iniciales: n=10, m=15\n",
      "Suma inicial: 25\n",
      "Después de n=m: n=15, m=15\n",
      "Después de n=m+10: n=25, m=15\n"
     ]
    }
   ],
   "source": [
    "# Reasignamos valores\n",
    "n = 10\n",
    "m = 15\n",
    "print(f\"Valores iniciales: n={n}, m={m}\")\n",
    "print(f\"Suma inicial: {n + m}\")\n",
    "\n",
    "# Asignamos el valor de m a n\n",
    "n = m\n",
    "print(f\"Después de n=m: n={n}, m={m}\")\n",
    "\n",
    "# Asignamos una expresión a n\n",
    "n = m + 10\n",
    "print(f\"Después de n=m+10: n={n}, m={m}\")"
   ]
  },
  {
   "cell_type": "markdown",
   "metadata": {},
   "source": [
    "### 4.5 Auto-asignación: Modificando una Variable con su Propio Valor\n",
    "\n",
    "Un patrón muy común en programación:"
   ]
  },
  {
   "cell_type": "code",
   "execution_count": 17,
   "metadata": {},
   "outputs": [
    {
     "name": "stdout",
     "output_type": "stream",
     "text": [
      "Valor inicial de contador: 0\n",
      "Después de contador = contador + 1: 1\n",
      "Después de contador += 5: 6\n",
      "Después de contador *= 2: 12\n"
     ]
    }
   ],
   "source": [
    "# Incrementar una variable\n",
    "contador = 0\n",
    "print(f\"Valor inicial de contador: {contador}\")\n",
    "\n",
    "contador = contador + 1  # Forma larga\n",
    "print(f\"Después de contador = contador + 1: {contador}\")\n",
    "\n",
    "contador += 5  # Forma abreviada (equivale a contador = contador + 5)\n",
    "print(f\"Después de contador += 5: {contador}\")\n",
    "\n",
    "contador *= 2  # Forma abreviada para multiplicación\n",
    "print(f\"Después de contador *= 2: {contador}\")"
   ]
  },
  {
   "cell_type": "markdown",
   "metadata": {},
   "source": [
    "### 4.6 Operadores de Asignación Compuesta\n",
    "\n",
    "Python ofrece varios operadores de asignación compuesta (similares a Java):"
   ]
  },
  {
   "cell_type": "code",
   "execution_count": 18,
   "metadata": {},
   "outputs": [
    {
     "name": "stdout",
     "output_type": "stream",
     "text": [
      "x inicial: 10\n",
      "x += 5 → x = 15\n",
      "x -= 3 → x = 12\n",
      "x *= 2 → x = 24\n",
      "x /= 4 → x = 6.0\n",
      "x //= 2 → x = 3.0\n",
      "x **= 3 → x = 27.0\n",
      "x %= 5 → x = 2.0\n"
     ]
    }
   ],
   "source": [
    "x = 10\n",
    "print(f\"x inicial: {x}\")\n",
    "\n",
    "x += 5   # x = x + 5\n",
    "print(f\"x += 5 → x = {x}\")\n",
    "\n",
    "x -= 3   # x = x - 3\n",
    "print(f\"x -= 3 → x = {x}\")\n",
    "\n",
    "x *= 2   # x = x * 2\n",
    "print(f\"x *= 2 → x = {x}\")\n",
    "\n",
    "x /= 4   # x = x / 4\n",
    "print(f\"x /= 4 → x = {x}\")\n",
    "\n",
    "x //= 2  # x = x // 2 (división entera)\n",
    "print(f\"x //= 2 → x = {x}\")\n",
    "\n",
    "x **= 3  # x = x ** 3\n",
    "print(f\"x **= 3 → x = {x}\")\n",
    "\n",
    "x %= 5   # x = x % 5\n",
    "print(f\"x %= 5 → x = {x}\")"
   ]
  },
  {
   "cell_type": "markdown",
   "metadata": {},
   "source": [
    "## 5. Ejemplo Práctico: Sistema de Calificaciones\n",
    "\n",
    "Veamos cómo aplicar estos conceptos en un ejemplo real:"
   ]
  },
  {
   "cell_type": "code",
   "execution_count": 19,
   "metadata": {},
   "outputs": [
    {
     "name": "stdout",
     "output_type": "stream",
     "text": [
      "=== SISTEMA DE CALIFICACIONES ===\n",
      "Examen 1: 8.5\n",
      "Examen 2: 7.0\n",
      "Examen 3: 9.5\n",
      "Proyecto: 8.0\n",
      "\n",
      "Promedio de exámenes: 8.33\n",
      "Nota final (70% exámenes + 30% proyecto): 8.23\n",
      "\n",
      "Estado: APROBADO ✓\n"
     ]
    }
   ],
   "source": [
    "# Sistema de calificaciones de un curso\n",
    "print(\"=== SISTEMA DE CALIFICACIONES ===\")\n",
    "\n",
    "# Definimos las notas individuales\n",
    "examen_1 = 8.5\n",
    "examen_2 = 7.0\n",
    "examen_3 = 9.5\n",
    "proyecto = 8.0\n",
    "\n",
    "print(f\"Examen 1: {examen_1}\")\n",
    "print(f\"Examen 2: {examen_2}\")\n",
    "print(f\"Examen 3: {examen_3}\")\n",
    "print(f\"Proyecto: {proyecto}\")\n",
    "\n",
    "# Calculamos el promedio de exámenes\n",
    "promedio_examenes = (examen_1 + examen_2 + examen_3) / 3\n",
    "print(f\"\\nPromedio de exámenes: {promedio_examenes:.2f}\")\n",
    "\n",
    "# Calculamos la nota final (70% exámenes, 30% proyecto)\n",
    "nota_final = promedio_examenes * 0.7 + proyecto * 0.3\n",
    "print(f\"Nota final (70% exámenes + 30% proyecto): {nota_final:.2f}\")\n",
    "\n",
    "# Determinamos si aprobó\n",
    "nota_minima = 6.0\n",
    "estado = \"APROBADO ✓\" if nota_final >= nota_minima else \"REPROBADO ✗\"\n",
    "print(f\"\\nEstado: {estado}\")"
   ]
  },
  {
   "cell_type": "markdown",
   "metadata": {},
   "source": [
    "### 5.1 Reutilización: Probando con Diferentes Valores\n",
    "\n",
    "La ventaja de usar variables es que podemos fácilmente cambiar los valores y recalcular:"
   ]
  },
  {
   "cell_type": "code",
   "execution_count": 20,
   "metadata": {},
   "outputs": [
    {
     "name": "stdout",
     "output_type": "stream",
     "text": [
      "=== NUEVO ESTUDIANTE ===\n",
      "Promedio de exámenes: 5.33\n",
      "Nota final: 6.13\n",
      "Estado: APROBADO ✓\n"
     ]
    }
   ],
   "source": [
    "# Cambiamos los valores para un nuevo estudiante\n",
    "examen_1 = 4.0\n",
    "examen_2 = 6.0\n",
    "examen_3 = 6.0\n",
    "proyecto = 9.0  # Excelente proyecto que salva la nota\n",
    "\n",
    "# Reutilizamos las mismas fórmulas\n",
    "promedio_examenes = (examen_1 + examen_2 + examen_3) / 3\n",
    "nota_final = promedio_examenes * 0.7 + proyecto * 0.3\n",
    "estado = \"APROBADO ✓\" if nota_final >= nota_minima else \"REPROBADO ✗\"\n",
    "\n",
    "print(\"=== NUEVO ESTUDIANTE ===\")\n",
    "print(f\"Promedio de exámenes: {promedio_examenes:.2f}\")\n",
    "print(f\"Nota final: {nota_final:.2f}\")\n",
    "print(f\"Estado: {estado}\")"
   ]
  },
  {
   "cell_type": "markdown",
   "metadata": {},
   "source": [
    "## 6. Buenas Prácticas con Variables\n",
    "\n",
    "### 6.1 Nombres Descriptivos\n",
    "Use nombres que describan claramente el propósito de la variable:"
   ]
  },
  {
   "cell_type": "code",
   "execution_count": 21,
   "metadata": {},
   "outputs": [],
   "source": [
    "# ❌ Malo: nombres no descriptivos\n",
    "a = 120\n",
    "b = 8\n",
    "c = a / b\n",
    "\n",
    "# ✅ Bueno: nombres descriptivos\n",
    "distancia_total_km = 120\n",
    "tiempo_horas = 8\n",
    "velocidad_promedio = distancia_total_km / tiempo_horas"
   ]
  },
  {
   "cell_type": "markdown",
   "metadata": {},
   "source": [
    "### 6.2 Convenciones de Nomenclatura\n",
    "Python usa `snake_case` para variables (diferente de Java que usa `camelCase`):"
   ]
  },
  {
   "cell_type": "code",
   "execution_count": 22,
   "metadata": {},
   "outputs": [],
   "source": [
    "# Estilo Python (snake_case)\n",
    "numero_de_estudiantes = 25\n",
    "promedio_de_calificaciones = 8.5\n",
    "fecha_de_nacimiento = \"1990-05-15\"\n",
    "\n",
    "# Java usaría camelCase:\n",
    "# int numeroDeEstudiantes = 25;\n",
    "# double promedioDeCalificaciones = 8.5;"
   ]
  },
  {
   "cell_type": "markdown",
   "metadata": {},
   "source": [
    "## 7. Resumen y Conceptos Clave\n",
    "\n",
    "En esta lección hemos aprendido:\n",
    "\n",
    "**Tipos de datos numéricos:**\n",
    "- `int`: Enteros de tamaño arbitrario\n",
    "- `float`: Números decimales (precisión doble)\n",
    "\n",
    "**Operadores aritméticos:**\n",
    "- Básicos: `+`, `-`, `*`, `/`\n",
    "- Especiales: `%` (módulo), `//` (división entera), `**` (potencia)\n",
    "\n",
    "**Variables:**\n",
    "- Asignación simple: `variable = valor`\n",
    "- Tipos dinámicos (no necesitamos declararlos)\n",
    "- Operadores de asignación compuesta: `+=`, `-=`, `*=`, etc.\n",
    "\n",
    "**Diferencias con Java:**\n",
    "- No necesitamos declarar tipos\n",
    "- Enteros de tamaño arbitrario\n",
    "- Operador de potencia nativo (`**`)\n",
    "- Nomenclatura snake_case vs camelCase"
   ]
  }
 ],
 "metadata": {
  "kernelspec": {
   "display_name": "Python 3 (ipykernel)",
   "language": "python",
   "name": "python3"
  },
  "language_info": {
   "codemirror_mode": {
    "name": "ipython",
    "version": 3
   },
   "file_extension": ".py",
   "mimetype": "text/x-python",
   "name": "python",
   "nbconvert_exporter": "python",
   "pygments_lexer": "ipython3",
   "version": "3.11.9"
  }
 },
 "nbformat": 4,
 "nbformat_minor": 4
}
