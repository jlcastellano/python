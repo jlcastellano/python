{
 "cells": [
  {
   "cell_type": "markdown",
   "metadata": {},
   "source": [
    "# Tema 03: Bucles (Loops)\n"
   ]
  },
  {
   "cell_type": "markdown",
   "metadata": {},
   "source": [
    "## 1. ¿Qué son los Bucles?\n",
    "\n",
    "Los **bucles** (o **loops**) permiten ejecutar un bloque de código **repetidamente**.\n",
    "\n",
    "En la vida real hay muchas situaciones repetitivas:\n",
    "- Contar del 1 al 100\n",
    "- Leer cada página de un libro\n",
    "- Verificar cada elemento de una lista de compras\n",
    "- Repetir un ejercicio 10 veces\n",
    "\n",
    "**Sin bucles:**\n",
    "```python\n",
    "print(\"Hola 1\")\n",
    "print(\"Hola 2\")\n",
    "print(\"Hola 3\")\n",
    "# ... muy tedioso y poco eficiente\n",
    "```\n",
    "\n",
    "**Con bucles:**\n",
    "```python\n",
    "for i in range(1, 4):\n",
    "    print(f\"Hola {i}\")\n",
    "```\n",
    "\n",
    "Python tiene dos tipos principales de bucles:\n",
    "- **for**: Cuando sabemos cuántas veces queremos repetir\n",
    "- **while**: Cuando repetimos mientras se cumpla una condición"
   ]
  },
  {
   "cell_type": "markdown",
   "metadata": {},
   "source": [
    "## 2. El Bucle for - Repetir un Número Específico de Veces\n",
    "\n",
    "El bucle `for` se usa cuando queremos iterar sobre una secuencia (lista, rango, cadena, etc.).\n",
    "\n",
    "**Sintaxis básica:**\n",
    "```python\n",
    "for variable in secuencia:\n",
    "    # código que se repite\n",
    "    instruccion1\n",
    "    instruccion2\n",
    "```\n",
    "\n",
    "**⚠️ Importante:**\n",
    "- Después del `for` va el nombre de una variable que tomará cada valor de la secuencia\n",
    "- `in` indica que vamos a iterar sobre la secuencia\n",
    "- El código dentro del bucle debe estar **indentado**"
   ]
  },
  {
   "cell_type": "markdown",
   "metadata": {},
   "source": [
    "### 2.1. La función range()\n",
    "\n",
    "La función `range()` genera una secuencia de números. Es la forma más común de usar `for`.\n",
    "\n",
    "**Tres formas de usar range():**\n",
    "1. `range(n)`: genera números de 0 a n-1\n",
    "2. `range(inicio, fin)`: genera números desde inicio hasta fin-1\n",
    "3. `range(inicio, fin, paso)`: genera números desde inicio hasta fin-1, incrementando de paso en paso"
   ]
  },
  {
   "cell_type": "code",
   "execution_count": null,
   "metadata": {},
   "outputs": [],
   "source": [
    "# Ejemplo 1: range(n) - del 0 al n-1\n",
    "print(\"Contando del 0 al 4:\")\n",
    "for i in range(5):\n",
    "    print(i)"
   ]
  },
  {
   "cell_type": "code",
   "execution_count": null,
   "metadata": {},
   "outputs": [],
   "source": [
    "# Ejemplo 2: range(inicio, fin) - desde inicio hasta fin-1\n",
    "print(\"Contando del 1 al 10:\")\n",
    "for i in range(1, 11):\n",
    "    print(i)"
   ]
  },
  {
   "cell_type": "code",
   "execution_count": null,
   "metadata": {},
   "outputs": [],
   "source": [
    "# Ejemplo 3: range(inicio, fin, paso) - con incremento personalizado\n",
    "print(\"Números pares del 0 al 10:\")\n",
    "for i in range(0, 11, 2):\n",
    "    print(i)"
   ]
  },
  {
   "cell_type": "code",
   "execution_count": null,
   "metadata": {},
   "outputs": [],
   "source": [
    "# Ejemplo 4: Contar hacia atrás\n",
    "print(\"Cuenta regresiva:\")\n",
    "for i in range(10, 0, -1):\n",
    "    print(i)\n",
    "print(\"¡Despegue!\")"
   ]
  },
  {
   "cell_type": "markdown",
   "metadata": {},
   "source": [
    "### 2.2. Ejemplos Prácticos con for"
   ]
  },
  {
   "cell_type": "code",
   "execution_count": null,
   "metadata": {},
   "outputs": [],
   "source": [
    "# Ejemplo: Tabla de multiplicar\n",
    "numero = int(input(\"¿De qué número quieres la tabla? \"))\n",
    "\n",
    "print(f\"\\nTabla del {numero}:\")\n",
    "for i in range(1, 11):\n",
    "    resultado = numero * i\n",
    "    print(f\"{numero} x {i} = {resultado}\")"
   ]
  },
  {
   "cell_type": "code",
   "execution_count": null,
   "metadata": {},
   "outputs": [],
   "source": [
    "# Ejemplo: Sumar números del 1 al 100\n",
    "suma = 0\n",
    "\n",
    "for i in range(1, 101):\n",
    "    suma += i  # Equivalente a: suma = suma + i\n",
    "\n",
    "print(f\"La suma de los números del 1 al 100 es: {suma}\")"
   ]
  },
  {
   "cell_type": "code",
   "execution_count": null,
   "metadata": {},
   "outputs": [],
   "source": [
    "# Ejemplo: Factorial de un número\n",
    "numero = int(input(\"Introduce un número: \"))\n",
    "factorial = 1\n",
    "\n",
    "for i in range(1, numero + 1):\n",
    "    factorial *= i  # Equivalente a: factorial = factorial * i\n",
    "\n",
    "print(f\"El factorial de {numero} es: {factorial}\")"
   ]
  },
  {
   "cell_type": "code",
   "execution_count": null,
   "metadata": {},
   "outputs": [],
   "source": [
    "# Ejemplo: Dibujar un patrón\n",
    "n = int(input(\"Número de filas: \"))\n",
    "\n",
    "for i in range(1, n + 1):\n",
    "    print(\"*\" * i)"
   ]
  },
  {
   "cell_type": "markdown",
   "metadata": {},
   "source": [
    "### 2.3. Iterar sobre Cadenas de Texto"
   ]
  },
  {
   "cell_type": "code",
   "execution_count": null,
   "metadata": {},
   "outputs": [],
   "source": [
    "# Ejemplo: Iterar cada carácter de una cadena\n",
    "palabra = \"Python\"\n",
    "\n",
    "print(\"Letra por letra:\")\n",
    "for letra in palabra:\n",
    "    print(letra)"
   ]
  },
  {
   "cell_type": "code",
   "execution_count": null,
   "metadata": {},
   "outputs": [],
   "source": [
    "# Ejemplo: Contar vocales en una palabra\n",
    "texto = input(\"Introduce una frase: \").lower()\n",
    "vocales = \"aeiouáéíóú\"\n",
    "contador = 0\n",
    "\n",
    "for letra in texto:\n",
    "    if letra in vocales:\n",
    "        contador += 1\n",
    "\n",
    "print(f\"La frase tiene {contador} vocales\")"
   ]
  },
  {
   "cell_type": "code",
   "execution_count": null,
   "metadata": {},
   "outputs": [],
   "source": [
    "# Ejemplo: Invertir una palabra\n",
    "palabra = input(\"Introduce una palabra: \")\n",
    "palabra_invertida = \"\"\n",
    "\n",
    "for letra in palabra:\n",
    "    palabra_invertida = letra + palabra_invertida\n",
    "\n",
    "print(f\"Palabra invertida: {palabra_invertida}\")"
   ]
  },
  {
   "cell_type": "markdown",
   "metadata": {},
   "source": [
    "## 3. El Bucle while - Repetir Mientras se Cumpla una Condición\n",
    "\n",
    "El bucle `while` se ejecuta **mientras** una condición sea verdadera.\n",
    "\n",
    "**Sintaxis:**\n",
    "```python\n",
    "while condicion:\n",
    "    # código que se repite\n",
    "    instruccion1\n",
    "    instruccion2\n",
    "```\n",
    "\n",
    "**⚠️ Cuidado:** Si la condición siempre es True, tendrás un **bucle infinito**."
   ]
  },
  {
   "cell_type": "code",
   "execution_count": null,
   "metadata": {},
   "outputs": [],
   "source": [
    "# Ejemplo básico: Contador con while\n",
    "contador = 1\n",
    "\n",
    "while contador <= 5:\n",
    "    print(f\"Vuelta número {contador}\")\n",
    "    contador += 1  # ¡MUY IMPORTANTE! Sin esto, bucle infinito\n",
    "\n",
    "print(\"Fin del bucle\")"
   ]
  },
  {
   "cell_type": "code",
   "execution_count": null,
   "metadata": {},
   "outputs": [],
   "source": [
    "# Ejemplo: Pedir un número positivo (validación)\n",
    "numero = int(input(\"Introduce un número positivo: \"))\n",
    "\n",
    "while numero <= 0:\n",
    "    print(\"Error: el número debe ser positivo\")\n",
    "    numero = int(input(\"Introduce un número positivo: \"))\n",
    "\n",
    "print(f\"Perfecto, has introducido: {numero}\")"
   ]
  },
  {
   "cell_type": "code",
   "execution_count": null,
   "metadata": {},
   "outputs": [],
   "source": [
    "# Ejemplo: Adivinar un número\n",
    "numero_secreto = 7\n",
    "intento = int(input(\"Adivina el número (1-10): \"))\n",
    "\n",
    "while intento != numero_secreto:\n",
    "    if intento < numero_secreto:\n",
    "        print(\"Más alto\")\n",
    "    else:\n",
    "        print(\"Más bajo\")\n",
    "    \n",
    "    intento = int(input(\"Intenta de nuevo: \"))\n",
    "\n",
    "print(\"¡Correcto! ¡Has adivinado!\")"
   ]
  },
  {
   "cell_type": "code",
   "execution_count": null,
   "metadata": {},
   "outputs": [],
   "source": [
    "# Ejemplo: Sumar números hasta que el usuario diga basta\n",
    "suma = 0\n",
    "continuar = \"si\"\n",
    "\n",
    "while continuar == \"si\":\n",
    "    numero = float(input(\"Introduce un número: \"))\n",
    "    suma += numero\n",
    "    print(f\"Suma actual: {suma}\")\n",
    "    continuar = input(\"¿Quieres añadir otro número? (si/no): \").lower()\n",
    "\n",
    "print(f\"Suma final: {suma}\")"
   ]
  },
  {
   "cell_type": "markdown",
   "metadata": {},
   "source": [
    "## 4. Diferencias entre for y while\n",
    "\n",
    "| Aspecto | for | while |\n",
    "|---------|-----|-------|\n",
    "| **Cuándo usar** | Cuando sabes cuántas veces repetir | Cuando repites hasta que se cumpla una condición |\n",
    "| **Iteración** | Sobre una secuencia | Mientras condición sea True |\n",
    "| **Riesgo de bucle infinito** | Bajo | Alto (si no se actualiza la condición) |\n",
    "| **Ejemplo típico** | Recorrer una lista, rango | Validar entrada, menús |\n",
    "\n",
    "**Regla general:**\n",
    "- Usa `for` cuando sabes el número de iteraciones\n",
    "- Usa `while` cuando no sabes cuántas veces iterar (depende de una condición)"
   ]
  },
  {
   "cell_type": "code",
   "execution_count": null,
   "metadata": {},
   "outputs": [],
   "source": [
    "# Mismo resultado con for y while\n",
    "\n",
    "# Con FOR\n",
    "print(\"Con FOR:\")\n",
    "for i in range(1, 6):\n",
    "    print(i)\n",
    "\n",
    "# Con WHILE\n",
    "print(\"\\nCon WHILE:\")\n",
    "i = 1\n",
    "while i <= 5:\n",
    "    print(i)\n",
    "    i += 1"
   ]
  },
  {
   "cell_type": "markdown",
   "metadata": {},
   "source": [
    "## 5. break - Salir de un Bucle\n",
    "\n",
    "`break` termina el bucle inmediatamente, sin importar la condición."
   ]
  },
  {
   "cell_type": "code",
   "execution_count": null,
   "metadata": {},
   "outputs": [],
   "source": [
    "# Ejemplo: Buscar un número\n",
    "objetivo = 7\n",
    "\n",
    "for i in range(1, 11):\n",
    "    print(f\"Verificando número {i}\")\n",
    "    if i == objetivo:\n",
    "        print(f\"¡Encontrado el {objetivo}!\")\n",
    "        break  # Sale del bucle\n",
    "\n",
    "print(\"Fin del programa\")"
   ]
  },
  {
   "cell_type": "code",
   "execution_count": null,
   "metadata": {},
   "outputs": [],
   "source": [
    "# Ejemplo: Salir de un menú\n",
    "while True:  # Bucle infinito controlado\n",
    "    print(\"\\n=== MENÚ ===\")\n",
    "    print(\"1. Opción 1\")\n",
    "    print(\"2. Opción 2\")\n",
    "    print(\"3. Salir\")\n",
    "    \n",
    "    opcion = input(\"Elige una opción: \")\n",
    "    \n",
    "    if opcion == \"1\":\n",
    "        print(\"Ejecutando opción 1\")\n",
    "    elif opcion == \"2\":\n",
    "        print(\"Ejecutando opción 2\")\n",
    "    elif opcion == \"3\":\n",
    "        print(\"¡Hasta luego!\")\n",
    "        break  # Sale del bucle\n",
    "    else:\n",
    "        print(\"Opción no válida\")"
   ]
  },
  {
   "cell_type": "code",
   "execution_count": null,
   "metadata": {},
   "outputs": [],
   "source": [
    "# Ejemplo: Encontrar el primer número par\n",
    "numeros = [1, 3, 5, 8, 9, 11, 14]\n",
    "\n",
    "for numero in numeros:\n",
    "    if numero % 2 == 0:\n",
    "        print(f\"Primer número par encontrado: {numero}\")\n",
    "        break\n",
    "else:\n",
    "    print(\"No se encontraron números pares\")"
   ]
  },
  {
   "cell_type": "markdown",
   "metadata": {},
   "source": [
    "## 6. continue - Saltar a la Siguiente Iteración\n",
    "\n",
    "`continue` salta el resto del código en esa iteración y pasa a la siguiente."
   ]
  },
  {
   "cell_type": "code",
   "execution_count": null,
   "metadata": {},
   "outputs": [],
   "source": [
    "# Ejemplo: Imprimir solo números impares\n",
    "for i in range(1, 11):\n",
    "    if i % 2 == 0:  # Si es par\n",
    "        continue  # Salta a la siguiente iteración\n",
    "    print(i)  # Solo se ejecuta si i es impar"
   ]
  },
  {
   "cell_type": "code",
   "execution_count": null,
   "metadata": {},
   "outputs": [],
   "source": [
    "# Ejemplo: Ignorar valores negativos\n",
    "numeros = [5, -2, 8, -1, 10, -5, 3]\n",
    "suma = 0\n",
    "\n",
    "for numero in numeros:\n",
    "    if numero < 0:\n",
    "        continue  # Ignora los negativos\n",
    "    suma += numero\n",
    "\n",
    "print(f\"Suma de números positivos: {suma}\")"
   ]
  },
  {
   "cell_type": "code",
   "execution_count": null,
   "metadata": {},
   "outputs": [],
   "source": [
    "# Ejemplo: Validar contraseña con reintentos\n",
    "password_correcta = \"python123\"\n",
    "intentos = 0\n",
    "max_intentos = 3\n",
    "\n",
    "while intentos < max_intentos:\n",
    "    password = input(\"Introduce la contraseña: \")\n",
    "    intentos += 1\n",
    "    \n",
    "    if password == password_correcta:\n",
    "        print(\"¡Acceso concedido!\")\n",
    "        break\n",
    "    \n",
    "    if intentos < max_intentos:\n",
    "        print(f\"Contraseña incorrecta. Te quedan {max_intentos - intentos} intentos\")\n",
    "        continue\n",
    "    \n",
    "    print(\"Has agotado tus intentos\")"
   ]
  },
  {
   "cell_type": "markdown",
   "metadata": {},
   "source": [
    "## 7. Bucles Anidados\n",
    "\n",
    "Podemos poner un bucle dentro de otro bucle. Útil para trabajar con matrices, tablas, etc."
   ]
  },
  {
   "cell_type": "code",
   "execution_count": null,
   "metadata": {},
   "outputs": [],
   "source": [
    "# Ejemplo: Tabla de multiplicar del 1 al 5\n",
    "for i in range(1, 6):\n",
    "    print(f\"\\nTabla del {i}:\")\n",
    "    for j in range(1, 11):\n",
    "        print(f\"{i} x {j} = {i*j}\")"
   ]
  },
  {
   "cell_type": "code",
   "execution_count": null,
   "metadata": {},
   "outputs": [],
   "source": [
    "# Ejemplo: Dibujar un rectángulo\n",
    "filas = int(input(\"Número de filas: \"))\n",
    "columnas = int(input(\"Número de columnas: \"))\n",
    "\n",
    "for i in range(filas):\n",
    "    for j in range(columnas):\n",
    "        print(\"*\", end=\"\")  # end=\"\" evita el salto de línea\n",
    "    print()  # Salto de línea al final de cada fila"
   ]
  },
  {
   "cell_type": "code",
   "execution_count": null,
   "metadata": {},
   "outputs": [],
   "source": [
    "# Ejemplo: Pirámide de números\n",
    "n = int(input(\"Altura de la pirámide: \"))\n",
    "\n",
    "for i in range(1, n + 1):\n",
    "    for j in range(1, i + 1):\n",
    "        print(j, end=\" \")\n",
    "    print()"
   ]
  },
  {
   "cell_type": "code",
   "execution_count": null,
   "metadata": {},
   "outputs": [],
   "source": [
    "# Ejemplo: Encontrar números primos del 1 al 50\n",
    "print(\"Números primos del 1 al 50:\")\n",
    "\n",
    "for num in range(2, 51):\n",
    "    es_primo = True\n",
    "    \n",
    "    for divisor in range(2, num):\n",
    "        if num % divisor == 0:\n",
    "            es_primo = False\n",
    "            break\n",
    "    \n",
    "    if es_primo:\n",
    "        print(num, end=\" \")"
   ]
  },
  {
   "cell_type": "markdown",
   "metadata": {},
   "source": [
    "## 8. La Cláusula else en Bucles\n",
    "\n",
    "Los bucles `for` y `while` pueden tener un bloque `else` que se ejecuta cuando el bucle termina normalmente (sin `break`)."
   ]
  },
  {
   "cell_type": "code",
   "execution_count": null,
   "metadata": {},
   "outputs": [],
   "source": [
    "# Ejemplo: Buscar un elemento\n",
    "numeros = [1, 3, 5, 7, 9]\n",
    "buscar = 6\n",
    "\n",
    "for numero in numeros:\n",
    "    if numero == buscar:\n",
    "        print(f\"Encontrado: {buscar}\")\n",
    "        break\n",
    "else:\n",
    "    print(f\"No se encontró {buscar} en la lista\")"
   ]
  },
  {
   "cell_type": "code",
   "execution_count": null,
   "metadata": {},
   "outputs": [],
   "source": [
    "# Ejemplo: Verificar si un número es primo\n",
    "numero = int(input(\"Introduce un número: \"))\n",
    "\n",
    "if numero < 2:\n",
    "    print(f\"{numero} no es primo\")\n",
    "else:\n",
    "    for i in range(2, numero):\n",
    "        if numero % i == 0:\n",
    "            print(f\"{numero} no es primo (divisible por {i})\")\n",
    "            break\n",
    "    else:\n",
    "        print(f\"{numero} es primo\")"
   ]
  },
  {
   "cell_type": "markdown",
   "metadata": {},
   "source": [
    "## 9. Patrones Comunes con Bucles"
   ]
  },
  {
   "cell_type": "markdown",
   "metadata": {},
   "source": [
    "### 9.1. Acumular Valores"
   ]
  },
  {
   "cell_type": "code",
   "execution_count": null,
   "metadata": {},
   "outputs": [],
   "source": [
    "# Sumar\n",
    "numeros = [10, 20, 30, 40, 50]\n",
    "suma = 0\n",
    "\n",
    "for numero in numeros:\n",
    "    suma += numero\n",
    "\n",
    "print(f\"Suma total: {suma}\")"
   ]
  },
  {
   "cell_type": "code",
   "execution_count": null,
   "metadata": {},
   "outputs": [],
   "source": [
    "# Multiplicar (producto)\n",
    "numeros = [2, 3, 4, 5]\n",
    "producto = 1\n",
    "\n",
    "for numero in numeros:\n",
    "    producto *= numero\n",
    "\n",
    "print(f\"Producto: {producto}\")"
   ]
  },
  {
   "cell_type": "markdown",
   "metadata": {},
   "source": [
    "### 9.2. Contar Elementos"
   ]
  },
  {
   "cell_type": "code",
   "execution_count": null,
   "metadata": {},
   "outputs": [],
   "source": [
    "# Contar números pares\n",
    "numeros = [1, 2, 3, 4, 5, 6, 7, 8, 9, 10]\n",
    "contador_pares = 0\n",
    "\n",
    "for numero in numeros:\n",
    "    if numero % 2 == 0:\n",
    "        contador_pares += 1\n",
    "\n",
    "print(f\"Números pares: {contador_pares}\")"
   ]
  },
  {
   "cell_type": "markdown",
   "metadata": {},
   "source": [
    "### 9.3. Encontrar Máximo y Mínimo"
   ]
  },
  {
   "cell_type": "code",
   "execution_count": null,
   "metadata": {},
   "outputs": [],
   "source": [
    "# Encontrar el máximo\n",
    "numeros = [23, 45, 12, 89, 34, 67]\n",
    "maximo = numeros[0]  # Inicializar con el primer elemento\n",
    "\n",
    "for numero in numeros:\n",
    "    if numero > maximo:\n",
    "        maximo = numero\n",
    "\n",
    "print(f\"El máximo es: {maximo}\")"
   ]
  },
  {
   "cell_type": "code",
   "execution_count": null,
   "metadata": {},
   "outputs": [],
   "source": [
    "# Encontrar el mínimo\n",
    "numeros = [23, 45, 12, 89, 34, 67]\n",
    "minimo = numeros[0]\n",
    "\n",
    "for numero in numeros:\n",
    "    if numero < minimo:\n",
    "        minimo = numero\n",
    "\n",
    "print(f\"El mínimo es: {minimo}\")"
   ]
  },
  {
   "cell_type": "markdown",
   "metadata": {},
   "source": [
    "### 9.4. Filtrar Elementos"
   ]
  },
  {
   "cell_type": "code",
   "execution_count": null,
   "metadata": {},
   "outputs": [],
   "source": [
    "# Crear una lista con solo números positivos\n",
    "numeros = [5, -2, 8, -1, 10, -5, 3]\n",
    "positivos = []\n",
    "\n",
    "for numero in numeros:\n",
    "    if numero > 0:\n",
    "        positivos.append(numero)\n",
    "\n",
    "print(f\"Números positivos: {positivos}\")"
   ]
  },
  {
   "cell_type": "markdown",
   "metadata": {},
   "source": [
    "## 10. Ejemplos Prácticos Completos"
   ]
  },
  {
   "cell_type": "code",
   "execution_count": null,
   "metadata": {},
   "outputs": [],
   "source": [
    "# Ejemplo 1: Calculadora de promedio de notas\n",
    "print(\"=== CALCULADORA DE PROMEDIO ===\")\n",
    "cantidad = int(input(\"¿Cuántas notas vas a introducir? \"))\n",
    "\n",
    "suma = 0\n",
    "notas_aprobadas = 0\n",
    "\n",
    "for i in range(1, cantidad + 1):\n",
    "    nota = float(input(f\"Nota {i}: \"))\n",
    "    suma += nota\n",
    "    \n",
    "    if nota >= 5:\n",
    "        notas_aprobadas += 1\n",
    "\n",
    "promedio = suma / cantidad\n",
    "porcentaje_aprobado = (notas_aprobadas / cantidad) * 100\n",
    "\n",
    "print(f\"\\nPromedio: {promedio:.2f}\")\n",
    "print(f\"Notas aprobadas: {notas_aprobadas}/{cantidad}\")\n",
    "print(f\"Porcentaje aprobado: {porcentaje_aprobado:.1f}%\")"
   ]
  },
  {
   "cell_type": "code",
   "execution_count": null,
   "metadata": {},
   "outputs": [],
   "source": [
    "# Ejemplo 2: Generador de números de Fibonacci\n",
    "print(\"=== SECUENCIA DE FIBONACCI ===\")\n",
    "n = int(input(\"¿Cuántos números de Fibonacci quieres ver? \"))\n",
    "\n",
    "a, b = 0, 1\n",
    "\n",
    "for i in range(n):\n",
    "    print(a, end=\" \")\n",
    "    a, b = b, a + b\n",
    "\n",
    "print()"
   ]
  },
  {
   "cell_type": "code",
   "execution_count": null,
   "metadata": {},
   "outputs": [],
   "source": [
    "# Ejemplo 3: Conversor de temperatura con menú\n",
    "print(\"=== CONVERSOR DE TEMPERATURA ===\")\n",
    "\n",
    "while True:\n",
    "    print(\"\\n1. Celsius a Fahrenheit\")\n",
    "    print(\"2. Fahrenheit a Celsius\")\n",
    "    print(\"3. Salir\")\n",
    "    \n",
    "    opcion = input(\"Elige una opción: \")\n",
    "    \n",
    "    if opcion == \"1\":\n",
    "        celsius = float(input(\"Temperatura en Celsius: \"))\n",
    "        fahrenheit = (celsius * 9/5) + 32\n",
    "        print(f\"{celsius}°C = {fahrenheit:.2f}°F\")\n",
    "    \n",
    "    elif opcion == \"2\":\n",
    "        fahrenheit = float(input(\"Temperatura en Fahrenheit: \"))\n",
    "        celsius = (fahrenheit - 32) * 5/9\n",
    "        print(f\"{fahrenheit}°F = {celsius:.2f}°C\")\n",
    "    \n",
    "    elif opcion == \"3\":\n",
    "        print(\"¡Hasta luego!\")\n",
    "        break\n",
    "    \n",
    "    else:\n",
    "        print(\"Opción no válida\")"
   ]
  },
  {
   "cell_type": "code",
   "execution_count": null,
   "metadata": {},
   "outputs": [],
   "source": [
    "# Ejemplo 4: Verificador de palíndromos\n",
    "palabra = input(\"Introduce una palabra: \").lower().replace(\" \", \"\")\n",
    "es_palindromo = True\n",
    "\n",
    "longitud = len(palabra)\n",
    "\n",
    "for i in range(longitud // 2):\n",
    "    if palabra[i] != palabra[longitud - 1 - i]:\n",
    "        es_palindromo = False\n",
    "        break\n",
    "\n",
    "if es_palindromo:\n",
    "    print(f\"'{palabra}' es un palíndromo\")\n",
    "else:\n",
    "    print(f\"'{palabra}' NO es un palíndromo\")"
   ]
  }
 ],
 "metadata": {
  "kernelspec": {
   "display_name": "Python 3",
   "language": "python",
   "name": "python3"
  },
  "language_info": {
   "codemirror_mode": {
    "name": "ipython",
    "version": 3
   },
   "file_extension": ".py",
   "mimetype": "text/x-python",
   "name": "python",
   "nbconvert_exporter": "python",
   "pygments_lexer": "ipython3",
   "version": "3.8.0"
  }
 },
 "nbformat": 4,
 "nbformat_minor": 4
}
