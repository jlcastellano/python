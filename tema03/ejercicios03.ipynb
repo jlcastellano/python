{
 "cells": [
  {
   "cell_type": "markdown",
   "metadata": {},
   "source": [
    "# Tema 03: Ejercicios Prácticos\n",
    "## Bucles (Loops)\n",
    "\n",
    "**Nivel de dificultad:**\n",
    "- 🟢 Básico\n",
    "- 🟡 Intermedio\n",
    "- 🔴 Avanzado"
   ]
  },
  {
   "cell_type": "markdown",
   "metadata": {},
   "source": [
    "---\n",
    "## Bloque 1: Bucles for Básicos"
   ]
  },
  {
   "cell_type": "markdown",
   "metadata": {},
   "source": [
    "### Ejercicio 1: Cuenta del 1 al 10 🟢\n",
    "\n",
    "Usa un bucle `for` para imprimir los números del 1 al 10.\n",
    "\n",
    "**Salida esperada:**\n",
    "```\n",
    "1\n",
    "2\n",
    "3\n",
    "...\n",
    "10\n",
    "```"
   ]
  },
  {
   "cell_type": "code",
   "execution_count": null,
   "metadata": {},
   "outputs": [],
   "source": [
    "# Escribe tu código aquí\n"
   ]
  },
  {
   "cell_type": "markdown",
   "metadata": {},
   "source": [
    "### Ejercicio 2: Números Pares 🟢\n",
    "\n",
    "Imprime todos los números pares del 0 al 20.\n",
    "\n",
    "**Salida esperada:**\n",
    "```\n",
    "0 2 4 6 8 10 12 14 16 18 20\n",
    "```"
   ]
  },
  {
   "cell_type": "code",
   "execution_count": null,
   "metadata": {},
   "outputs": [],
   "source": [
    "# Escribe tu código aquí\n"
   ]
  },
  {
   "cell_type": "markdown",
   "metadata": {},
   "source": [
    "### Ejercicio 3: Cuenta Regresiva 🟢\n",
    "\n",
    "Crea una cuenta regresiva del 10 al 1, y al final imprime \"¡Despegue!\".\n",
    "\n",
    "**Salida esperada:**\n",
    "```\n",
    "10\n",
    "9\n",
    "8\n",
    "...\n",
    "1\n",
    "¡Despegue!\n",
    "```"
   ]
  },
  {
   "cell_type": "code",
   "execution_count": null,
   "metadata": {},
   "outputs": [],
   "source": [
    "# Escribe tu código aquí\n"
   ]
  },
  {
   "cell_type": "markdown",
   "metadata": {},
   "source": [
    "### Ejercicio 4: Tabla de Multiplicar 🟢\n",
    "\n",
    "Pide un número al usuario e imprime su tabla de multiplicar del 1 al 10.\n",
    "\n",
    "**Ejemplo:**\n",
    "```\n",
    "¿De qué número quieres la tabla? 7\n",
    "7 x 1 = 7\n",
    "7 x 2 = 14\n",
    "...\n",
    "7 x 10 = 70\n",
    "```"
   ]
  },
  {
   "cell_type": "code",
   "execution_count": null,
   "metadata": {},
   "outputs": [],
   "source": [
    "# Escribe tu código aquí\n"
   ]
  },
  {
   "cell_type": "markdown",
   "metadata": {},
   "source": [
    "### Ejercicio 5: Suma de Números 🟢\n",
    "\n",
    "Calcula la suma de todos los números del 1 al 100.\n",
    "\n",
    "**Salida esperada:**\n",
    "```\n",
    "La suma de los números del 1 al 100 es: 5050\n",
    "```"
   ]
  },
  {
   "cell_type": "code",
   "execution_count": null,
   "metadata": {},
   "outputs": [],
   "source": [
    "# Escribe tu código aquí\n"
   ]
  },
  {
   "cell_type": "markdown",
   "metadata": {},
   "source": [
    "---\n",
    "## Bloque 2: Iterando sobre Cadenas"
   ]
  },
  {
   "cell_type": "markdown",
   "metadata": {},
   "source": [
    "### Ejercicio 6: Letra por Letra 🟢\n",
    "\n",
    "Pide una palabra al usuario e imprime cada letra en una línea separada.\n",
    "\n",
    "**Ejemplo:**\n",
    "```\n",
    "Introduce una palabra: Hola\n",
    "H\n",
    "o\n",
    "l\n",
    "a\n",
    "```"
   ]
  },
  {
   "cell_type": "code",
   "execution_count": null,
   "metadata": {},
   "outputs": [],
   "source": [
    "# Escribe tu código aquí\n"
   ]
  },
  {
   "cell_type": "markdown",
   "metadata": {},
   "source": [
    "### Ejercicio 7: Contar Vocales 🟡\n",
    "\n",
    "Pide una frase al usuario y cuenta cuántas vocales tiene.\n",
    "\n",
    "**Ejemplo:**\n",
    "```\n",
    "Introduce una frase: Hola mundo\n",
    "La frase tiene 4 vocales\n",
    "```"
   ]
  },
  {
   "cell_type": "code",
   "execution_count": null,
   "metadata": {},
   "outputs": [],
   "source": [
    "# Escribe tu código aquí\n"
   ]
  },
  {
   "cell_type": "markdown",
   "metadata": {},
   "source": [
    "### Ejercicio 8: Invertir una Palabra 🟡\n",
    "\n",
    "Pide una palabra al usuario e imprímela al revés.\n",
    "\n",
    "**Ejemplo:**\n",
    "```\n",
    "Introduce una palabra: Python\n",
    "Palabra invertida: nohtyP\n",
    "```"
   ]
  },
  {
   "cell_type": "code",
   "execution_count": null,
   "metadata": {},
   "outputs": [],
   "source": [
    "# Escribe tu código aquí\n"
   ]
  },
  {
   "cell_type": "markdown",
   "metadata": {},
   "source": [
    "### Ejercicio 9: Contar Caracteres Específicos 🟡\n",
    "\n",
    "Pide una frase y un carácter, y cuenta cuántas veces aparece ese carácter en la frase (sin distinguir mayúsculas/minúsculas).\n",
    "\n",
    "**Ejemplo:**\n",
    "```\n",
    "Introduce una frase: La programación es divertida\n",
    "¿Qué carácter quieres contar? a\n",
    "La letra 'a' aparece 4 veces\n",
    "```"
   ]
  },
  {
   "cell_type": "code",
   "execution_count": null,
   "metadata": {},
   "outputs": [],
   "source": [
    "# Escribe tu código aquí\n"
   ]
  },
  {
   "cell_type": "markdown",
   "metadata": {},
   "source": [
    "---\n",
    "## Bloque 3: Bucles while"
   ]
  },
  {
   "cell_type": "markdown",
   "metadata": {},
   "source": [
    "### Ejercicio 10: Validar Edad 🟢\n",
    "\n",
    "Pide la edad al usuario. Si introduce un valor negativo o mayor a 120, vuelve a pedirla hasta que sea válida.\n",
    "\n",
    "**Ejemplo:**\n",
    "```\n",
    "Introduce tu edad: -5\n",
    "Edad no válida. Intenta de nuevo.\n",
    "Introduce tu edad: 150\n",
    "Edad no válida. Intenta de nuevo.\n",
    "Introduce tu edad: 25\n",
    "Edad registrada: 25 años\n",
    "```"
   ]
  },
  {
   "cell_type": "code",
   "execution_count": null,
   "metadata": {},
   "outputs": [],
   "source": [
    "# Escribe tu código aquí\n"
   ]
  },
  {
   "cell_type": "markdown",
   "metadata": {},
   "source": [
    "### Ejercicio 11: Adivina el Número 🟡\n",
    "\n",
    "El programa piensa en un número (fíjalo en una variable). El usuario debe adivinarlo. Después de cada intento, indica si el número es mayor o menor.\n",
    "\n",
    "**Ejemplo:**\n",
    "```\n",
    "Adivina el número (1-100): 50\n",
    "Más bajo\n",
    "Adivina el número (1-100): 25\n",
    "Más alto\n",
    "Adivina el número (1-100): 37\n",
    "¡Correcto! El número era 37\n",
    "```"
   ]
  },
  {
   "cell_type": "code",
   "execution_count": null,
   "metadata": {},
   "outputs": [],
   "source": [
    "# Escribe tu código aquí\n",
    "numero_secreto = 37  # El número a adivinar\n",
    "\n"
   ]
  },
  {
   "cell_type": "markdown",
   "metadata": {},
   "source": [
    "### Ejercicio 12: Calculadora Simple 🟡\n",
    "\n",
    "Crea una calculadora que siga pidiendo operaciones hasta que el usuario escriba \"salir\".\n",
    "\n",
    "**Ejemplo:**\n",
    "```\n",
    "Primer número: 10\n",
    "Segundo número: 5\n",
    "Operación (+, -, *, /): +\n",
    "Resultado: 15\n",
    "\n",
    "¿Continuar? (si/salir): si\n",
    "Primer número: 20\n",
    "...\n",
    "```"
   ]
  },
  {
   "cell_type": "code",
   "execution_count": null,
   "metadata": {},
   "outputs": [],
   "source": [
    "# Escribe tu código aquí\n"
   ]
  },
  {
   "cell_type": "markdown",
   "metadata": {},
   "source": [
    "### Ejercicio 13: Suma hasta N 🟡\n",
    "\n",
    "Pide números al usuario y súmalos. Para cuando el usuario introduzca 0 y muestra la suma total.\n",
    "\n",
    "**Ejemplo:**\n",
    "```\n",
    "Introduce un número (0 para terminar): 5\n",
    "Introduce un número (0 para terminar): 10\n",
    "Introduce un número (0 para terminar): 3\n",
    "Introduce un número (0 para terminar): 0\n",
    "Suma total: 18\n",
    "```"
   ]
  },
  {
   "cell_type": "code",
   "execution_count": null,
   "metadata": {},
   "outputs": [],
   "source": [
    "# Escribe tu código aquí\n"
   ]
  },
  {
   "cell_type": "markdown",
   "metadata": {},
   "source": [
    "---\n",
    "## Bloque 4: break y continue"
   ]
  },
  {
   "cell_type": "markdown",
   "metadata": {},
   "source": [
    "### Ejercicio 14: Buscar un Número 🟢\n",
    "\n",
    "Recorre los números del 1 al 20. Cuando encuentres el número 13, imprime \"¡Encontrado!\" y sal del bucle.\n",
    "\n",
    "**Salida esperada:**\n",
    "```\n",
    "1\n",
    "2\n",
    "...\n",
    "12\n",
    "¡Encontrado!\n",
    "```"
   ]
  },
  {
   "cell_type": "code",
   "execution_count": null,
   "metadata": {},
   "outputs": [],
   "source": [
    "# Escribe tu código aquí\n"
   ]
  },
  {
   "cell_type": "markdown",
   "metadata": {},
   "source": [
    "### Ejercicio 15: Saltar Múltiplos de 3 🟢\n",
    "\n",
    "Imprime los números del 1 al 20, pero salta (no imprimas) los múltiplos de 3.\n",
    "\n",
    "**Salida esperada:**\n",
    "```\n",
    "1 2 4 5 7 8 10 11 13 14 16 17 19 20\n",
    "```"
   ]
  },
  {
   "cell_type": "code",
   "execution_count": null,
   "metadata": {},
   "outputs": [],
   "source": [
    "# Escribe tu código aquí\n"
   ]
  },
  {
   "cell_type": "markdown",
   "metadata": {},
   "source": [
    "### Ejercicio 16: Solo Positivos 🟡\n",
    "\n",
    "Pide 5 números al usuario. Si alguno es negativo, ignóralo (usa `continue`). Al final, muestra la suma de los números positivos.\n",
    "\n",
    "**Ejemplo:**\n",
    "```\n",
    "Número 1: 10\n",
    "Número 2: -5\n",
    "Número 3: 8\n",
    "Número 4: -2\n",
    "Número 5: 12\n",
    "Suma de números positivos: 30\n",
    "```"
   ]
  },
  {
   "cell_type": "code",
   "execution_count": null,
   "metadata": {},
   "outputs": [],
   "source": [
    "# Escribe tu código aquí\n"
   ]
  },
  {
   "cell_type": "markdown",
   "metadata": {},
   "source": [
    "### Ejercicio 17: Contraseña con Límite de Intentos 🟡\n",
    "\n",
    "El usuario tiene 3 intentos para adivinar la contraseña. Si la adivina antes, sal del bucle. Si agota los intentos, bloquea el acceso.\n",
    "\n",
    "**Ejemplo:**\n",
    "```\n",
    "Introduce la contraseña: abc\n",
    "Contraseña incorrecta. Te quedan 2 intentos\n",
    "Introduce la contraseña: 123\n",
    "Contraseña incorrecta. Te quedan 1 intentos\n",
    "Introduce la contraseña: python\n",
    "¡Acceso concedido!\n",
    "```"
   ]
  },
  {
   "cell_type": "code",
   "execution_count": null,
   "metadata": {},
   "outputs": [],
   "source": [
    "# Escribe tu código aquí\n",
    "password_correcta = \"python\"\n",
    "\n"
   ]
  },
  {
   "cell_type": "markdown",
   "metadata": {},
   "source": [
    "---\n",
    "## Bloque 5: Bucles Anidados"
   ]
  },
  {
   "cell_type": "markdown",
   "metadata": {},
   "source": [
    "### Ejercicio 18: Rectángulo de Asteriscos 🟡\n",
    "\n",
    "Pide al usuario el ancho y el alto, y dibuja un rectángulo con asteriscos.\n",
    "\n",
    "**Ejemplo:**\n",
    "```\n",
    "Ancho: 5\n",
    "Alto: 3\n",
    "*****\n",
    "*****\n",
    "*****\n",
    "```"
   ]
  },
  {
   "cell_type": "code",
   "execution_count": null,
   "metadata": {},
   "outputs": [],
   "source": [
    "# Escribe tu código aquí\n"
   ]
  },
  {
   "cell_type": "markdown",
   "metadata": {},
   "source": [
    "### Ejercicio 19: Triángulo Creciente 🟡\n",
    "\n",
    "Dibuja un triángulo de asteriscos creciente.\n",
    "\n",
    "**Ejemplo:**\n",
    "```\n",
    "Altura del triángulo: 5\n",
    "*\n",
    "**\n",
    "***\n",
    "****\n",
    "*****\n",
    "```"
   ]
  },
  {
   "cell_type": "code",
   "execution_count": null,
   "metadata": {},
   "outputs": [],
   "source": [
    "# Escribe tu código aquí\n"
   ]
  },
  {
   "cell_type": "markdown",
   "metadata": {},
   "source": [
    "### Ejercicio 20: Tabla de Multiplicar Completa 🔴\n",
    "\n",
    "Imprime las tablas de multiplicar del 1 al 10 (de 1 a 10).\n",
    "\n",
    "**Ejemplo de salida (parcial):**\n",
    "```\n",
    "Tabla del 1:\n",
    "1 x 1 = 1\n",
    "1 x 2 = 2\n",
    "...\n",
    "\n",
    "Tabla del 2:\n",
    "2 x 1 = 2\n",
    "...\n",
    "```"
   ]
  },
  {
   "cell_type": "code",
   "execution_count": null,
   "metadata": {},
   "outputs": [],
   "source": [
    "# Escribe tu código aquí\n"
   ]
  },
  {
   "cell_type": "markdown",
   "metadata": {},
   "source": [
    "### Ejercicio 21: Pirámide de Números 🔴\n",
    "\n",
    "Dibuja una pirámide de números.\n",
    "\n",
    "**Ejemplo:**\n",
    "```\n",
    "Altura: 5\n",
    "1\n",
    "1 2\n",
    "1 2 3\n",
    "1 2 3 4\n",
    "1 2 3 4 5\n",
    "```"
   ]
  },
  {
   "cell_type": "code",
   "execution_count": null,
   "metadata": {},
   "outputs": [],
   "source": [
    "# Escribe tu código aquí\n"
   ]
  },
  {
   "cell_type": "markdown",
   "metadata": {},
   "source": [
    "---\n",
    "## Bloque 6: Ejercicios de Aplicación"
   ]
  },
  {
   "cell_type": "markdown",
   "metadata": {},
   "source": [
    "### Ejercicio 22: Factorial 🟡\n",
    "\n",
    "Calcula el factorial de un número introducido por el usuario.\n",
    "\n",
    "Recuerda: 5! = 5 × 4 × 3 × 2 × 1 = 120\n",
    "\n",
    "**Ejemplo:**\n",
    "```\n",
    "Introduce un número: 5\n",
    "El factorial de 5 es: 120\n",
    "```"
   ]
  },
  {
   "cell_type": "code",
   "execution_count": null,
   "metadata": {},
   "outputs": [],
   "source": [
    "# Escribe tu código aquí\n"
   ]
  },
  {
   "cell_type": "markdown",
   "metadata": {},
   "source": [
    "### Ejercicio 23: Números Primos 🔴\n",
    "\n",
    "Pide un número e indica si es primo o no.\n",
    "\n",
    "Un número es primo si solo es divisible por 1 y por sí mismo.\n",
    "\n",
    "**Ejemplo:**\n",
    "```\n",
    "Introduce un número: 17\n",
    "17 es un número primo\n",
    "```"
   ]
  },
  {
   "cell_type": "code",
   "execution_count": null,
   "metadata": {},
   "outputs": [],
   "source": [
    "# Escribe tu código aquí\n"
   ]
  },
  {
   "cell_type": "markdown",
   "metadata": {},
   "source": [
    "### Ejercicio 24: Secuencia de Fibonacci 🔴\n",
    "\n",
    "Genera los primeros N números de la secuencia de Fibonacci.\n",
    "\n",
    "La secuencia de Fibonacci: 0, 1, 1, 2, 3, 5, 8, 13, 21...\n",
    "(cada número es la suma de los dos anteriores)\n",
    "\n",
    "**Ejemplo:**\n",
    "```\n",
    "¿Cuántos números de Fibonacci quieres? 8\n",
    "0 1 1 2 3 5 8 13\n",
    "```"
   ]
  },
  {
   "cell_type": "code",
   "execution_count": null,
   "metadata": {},
   "outputs": [],
   "source": [
    "# Escribe tu código aquí\n"
   ]
  },
  {
   "cell_type": "markdown",
   "metadata": {},
   "source": [
    "### Ejercicio 25: Promedio de Notas 🟡\n",
    "\n",
    "Pide al usuario cuántas notas va a introducir, luego pídelas una por una y calcula:\n",
    "- El promedio\n",
    "- La nota más alta\n",
    "- La nota más baja\n",
    "- Cuántas notas son aprobadas (>=5)\n",
    "\n",
    "**Ejemplo:**\n",
    "```\n",
    "¿Cuántas notas? 4\n",
    "Nota 1: 7\n",
    "Nota 2: 8.5\n",
    "Nota 3: 6\n",
    "Nota 4: 9\n",
    "\n",
    "Promedio: 7.625\n",
    "Nota más alta: 9.0\n",
    "Nota más baja: 6.0\n",
    "Notas aprobadas: 4/4\n",
    "```"
   ]
  },
  {
   "cell_type": "code",
   "execution_count": null,
   "metadata": {},
   "outputs": [],
   "source": [
    "# Escribe tu código aquí\n"
   ]
  },
  {
   "cell_type": "markdown",
   "metadata": {},
   "source": [
    "---\n",
    "## Bloque 7: Desafíos Avanzados"
   ]
  },
  {
   "cell_type": "markdown",
   "metadata": {},
   "source": [
    "### Ejercicio 26: Números Perfectos 🔴\n",
    "\n",
    "Un número perfecto es aquel que es igual a la suma de sus divisores propios (excluyendo el número mismo).\n",
    "\n",
    "Ejemplo: 6 es perfecto porque 1 + 2 + 3 = 6\n",
    "\n",
    "Pide un número y verifica si es perfecto.\n",
    "\n",
    "**Ejemplo:**\n",
    "```\n",
    "Introduce un número: 28\n",
    "28 es un número perfecto\n",
    "Sus divisores son: 1, 2, 4, 7, 14\n",
    "Suma: 1 + 2 + 4 + 7 + 14 = 28\n",
    "```"
   ]
  },
  {
   "cell_type": "code",
   "execution_count": null,
   "metadata": {},
   "outputs": [],
   "source": [
    "# Escribe tu código aquí\n"
   ]
  },
  {
   "cell_type": "markdown",
   "metadata": {},
   "source": [
    "### Ejercicio 27: Palíndromo 🔴\n",
    "\n",
    "Verifica si una palabra o frase es un palíndromo (se lee igual al derecho y al revés).\n",
    "\n",
    "Ignora espacios y diferencias entre mayúsculas/minúsculas.\n",
    "\n",
    "**Ejemplos:**\n",
    "```\n",
    "Introduce una palabra: reconocer\n",
    "'reconocer' es un palíndromo\n",
    "\n",
    "Introduce una frase: Anita lava la tina\n",
    "'Anita lava la tina' es un palíndromo\n",
    "```"
   ]
  },
  {
   "cell_type": "code",
   "execution_count": null,
   "metadata": {},
   "outputs": [],
   "source": [
    "# Escribe tu código aquí\n"
   ]
  },
  {
   "cell_type": "markdown",
   "metadata": {},
   "source": [
    "### Ejercicio 28: Juego de Adivinanza con Pistas 🔴\n",
    "\n",
    "Crea un juego donde:\n",
    "1. El programa elige un número aleatorio entre 1 y 100 (usa una variable fija)\n",
    "2. El usuario tiene máximo 7 intentos\n",
    "3. Después de cada intento incorrecto, da pistas: \"más alto\" o \"más bajo\"\n",
    "4. Muestra cuántos intentos quedan\n",
    "5. Si adivina, muestra un mensaje de felicitación\n",
    "6. Si agota los intentos, revela el número\n",
    "\n",
    "**Ejemplo de juego:**\n",
    "```\n",
    "Adivina el número (1-100). Tienes 7 intentos\n",
    "\n",
    "Intento 1: 50\n",
    "Más bajo. Te quedan 6 intentos\n",
    "\n",
    "Intento 2: 25\n",
    "Más alto. Te quedan 5 intentos\n",
    "\n",
    "Intento 3: 37\n",
    "¡Correcto! Adivinaste en 3 intentos\n",
    "```"
   ]
  },
  {
   "cell_type": "code",
   "execution_count": null,
   "metadata": {},
   "outputs": [],
   "source": [
    "# Escribe tu código aquí\n",
    "numero_secreto = 37  # El número a adivinar\n",
    "max_intentos = 7\n",
    "\n"
   ]
  },
  {
   "cell_type": "markdown",
   "metadata": {},
   "source": [
    "### Ejercicio 29: Cajero Automático 🔴\n",
    "\n",
    "Simula un cajero automático con las siguientes funciones:\n",
    "1. Consultar saldo\n",
    "2. Depositar dinero\n",
    "3. Retirar dinero (verifica que haya saldo suficiente)\n",
    "4. Salir\n",
    "\n",
    "El programa debe seguir funcionando hasta que el usuario elija salir.\n",
    "\n",
    "**Ejemplo:**\n",
    "```\n",
    "=== CAJERO AUTOMÁTICO ===\n",
    "1. Consultar saldo\n",
    "2. Depositar\n",
    "3. Retirar\n",
    "4. Salir\n",
    "\n",
    "Opción: 1\n",
    "Saldo actual: 1000€\n",
    "\n",
    "Opción: 2\n",
    "¿Cuánto deseas depositar? 500\n",
    "Depósito realizado. Nuevo saldo: 1500€\n",
    "\n",
    "Opción: 3\n",
    "¿Cuánto deseas retirar? 200\n",
    "Retiro realizado. Nuevo saldo: 1300€\n",
    "```"
   ]
  },
  {
   "cell_type": "code",
   "execution_count": null,
   "metadata": {},
   "outputs": [],
   "source": [
    "# Escribe tu código aquí\n",
    "saldo = 1000  # Saldo inicial\n",
    "\n"
   ]
  },
  {
   "cell_type": "markdown",
   "metadata": {},
   "source": [
    "### Ejercicio 30: Generador de Patrón Avanzado 🔴\n",
    "\n",
    "Crea un programa que dibuje el siguiente patrón según la altura indicada:\n",
    "\n",
    "**Ejemplo para altura 5:**\n",
    "```\n",
    "    *\n",
    "   ***\n",
    "  *****\n",
    " *******\n",
    "*********\n",
    "```\n",
    "\n",
    "Es una pirámide centrada con asteriscos."
   ]
  },
  {
   "cell_type": "code",
   "execution_count": null,
   "metadata": {},
   "outputs": [],
   "source": [
    "# Escribe tu código aquí\n"
   ]
  }
 ],
 "metadata": {
  "kernelspec": {
   "display_name": "Python 3",
   "language": "python",
   "name": "python3"
  },
  "language_info": {
   "codemirror_mode": {
    "name": "ipython",
    "version": 3
   },
   "file_extension": ".py",
   "mimetype": "text/x-python",
   "name": "python",
   "nbconvert_exporter": "python",
   "pygments_lexer": "ipython3",
   "version": "3.8.0"
  }
 },
 "nbformat": 4,
 "nbformat_minor": 4
}
